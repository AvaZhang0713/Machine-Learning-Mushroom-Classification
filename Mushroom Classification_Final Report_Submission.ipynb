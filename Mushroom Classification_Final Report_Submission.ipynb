{
 "cells": [
  {
   "cell_type": "markdown",
   "metadata": {},
   "source": [
    "# Mushroom Classification - Safe to eat or deadly poison?\n"
   ]
  },
  {
   "cell_type": "markdown",
   "metadata": {},
   "source": [
    "Group 6: Rui Li, Xi Yang, Ava (Yan) Zhang \n",
    "<br>Last Updated: 16 Mar 2021"
   ]
  },
  {
   "cell_type": "markdown",
   "metadata": {},
   "source": [
    "## Introduction\n",
    "\n",
    "* Which features are most indicative of a poisonous mushroom?\n",
    "\n",
    "This dataset includes descriptions of hypothetical samples corresponding to 23 species of gilled mushrooms in the Agaricus and Lepiota Family Mushroom drawn from The Audubon Society Field Guide to North American Mushrooms (1981). Each species is identified as definitely edible, definitely poisonous, or of unknown edibility and not recommended. This latter class was combined with the poisonous one."
   ]
  },
  {
   "cell_type": "markdown",
   "metadata": {},
   "source": [
    "## Data Source:\n",
    "https://www.kaggle.com/uciml/mushroom-classification"
   ]
  },
  {
   "cell_type": "markdown",
   "metadata": {},
   "source": [
    "## Main Purpose:\n",
    "* Which features are most indicative of a poisonous mushroom?\n",
    "* What types of machine learning models perform best on predicting the edibility on this dataset? \n",
    "* How certain can we be?"
   ]
  },
  {
   "cell_type": "markdown",
   "metadata": {},
   "source": [
    "## 2. Dataset Overview & Description"
   ]
  },
  {
   "cell_type": "markdown",
   "metadata": {},
   "source": [
    "\n",
    "This dataset gives descriptions of mushrooms samples corresponding to 23 species of grilled mushrooms in the Agaricus and Lepiota family mushrooms. This descriptions can be divided in the diferent parts of the mushroom (cap, gill, stalk, veil(annulus)), for each part it gives information like its shape, size, color,... In the dataset there is also some attributes that gives details from their habitat or their odor.\n",
    "Attribute Information: (classes: edible = e, poisonous = p)\n",
    "\n",
    "* cap-shape: bell = b, conical = c,convex = x, flat = f, knobbed = k, sunken = s\n",
    "* cap-surface: fibrous = f, grooves = g, scaly = y, smooth = s\n",
    "* cap-color: brown = n, buff = b, cinnamon = c, gray = g, green = r, pink = p, purple = u, red = e, white = w, yellow = y\n",
    "* bruises: yes = t, no = f\n",
    "* odor: almond = a, anise = l, creosote = c, fishy = y, foul = f, musty = m, none = n, pungent = p, spicy = s\n",
    "* gill-attachment: attached = a, descending = d, free = f, notched = n\n",
    "* gill-spacing: close = c, crowded = w, distant = d\n",
    "* gill-size: broad = b, narrow = n\n",
    "* gill-color: black = k, brown = n, buff = b, chocolate = h, gray = g, green = r, orange = o, pink = p, purple = u, red = e, white = w ,yellow = y\n",
    "* stalk-shape: enlarging = e, tapering = t\n",
    "* stalk-rootbulbous = b, club = c, cup = u, equal = e, rhizomorphs = z, rooted = r, missing = ?\n",
    "* stalk-surface-above-ring: fibrous = f, scaly = y, silky = k, smooth = s\n",
    "* stalk-surface-below-ring: fibrous = f, scaly = y, silky = k, smooth = s\n",
    "* stalk-color-above-ring: brown = n, buff = b, cinnamon = c, gray = g, orange = o, pink = p, red = e, white = w, yellow = y\n",
    "* stalk-color-below-ring: brown = n, buff = b, cinnamon = c, gray = g, orange = o, pink = p, red = e, white = w, yellow = y\n",
    "* veil-type: partial = p, universal = u\n",
    "* veil-color: brown = n, orange = o, white = w, yellow = y\n",
    "* ring-number: none = n, one = o, two = t\n",
    "* ring-type: cobwebby = c, evanescent = e, flaring = f, large = l, none = n, pendant = p, sheathing = s, zone = z\n",
    "* spore-print-color: black = k, brown = n, buff = b, chocolate = h, green = r, orange = o,purple = u, white = w, yellow = y\n",
    "* population: abundant = a, clustered = c, numerous = n, scattered = s, several = v, solitary = y\n",
    "* habitat: grasses = g, leaves = l, meadows = m, paths = p, urban = u, waste = w, woods = d"
   ]
  },
  {
   "cell_type": "markdown",
   "metadata": {},
   "source": [
    "Machine Learning Tasks:\n",
    "* Logistic Regression Model\n",
    "* Naive Bayes Model\n",
    "* Random Forest Classification Model\n",
    "* Decision Tree Classification Model\n",
    "* Kernel SVM Model\n",
    "* Neural Networks\n",
    "* DNN (Deep Neural Networks)\n",
    "\n"
   ]
  },
  {
   "cell_type": "markdown",
   "metadata": {},
   "source": [
    "## 3. Data Exploration"
   ]
  },
  {
   "cell_type": "code",
   "execution_count": 1,
   "metadata": {},
   "outputs": [],
   "source": [
    "# Importing the libraries\n",
    "\n",
    "import pandas as pd\n",
    "import numpy as np\n",
    "import matplotlib.pyplot as plt\n",
    "import seaborn as sns\n",
    "import random\n",
    "from sklearn.model_selection import train_test_split\n",
    "from sklearn import*\n",
    "import keras\n",
    "from sklearn.ensemble import RandomForestClassifier\n",
    "from sklearn.metrics import accuracy_score\n",
    "from sklearn.preprocessing import LabelEncoder\n",
    "from sklearn.linear_model import LogisticRegression\n",
    "\n",
    "import re\n",
    "from sklearn.model_selection import train_test_split\n",
    "from sklearn.utils import shuffle\n",
    "\n",
    "from sklearn.pipeline import Pipeline\n",
    "\n",
    "import warnings\n",
    "warnings.filterwarnings('ignore')\n",
    "\n",
    "from IPython.core.interactiveshell import InteractiveShell\n",
    "InteractiveShell.ast_node_interactivity = \"all\"\n",
    "\n",
    "pd.set_option(\"display.max_columns\", 100)\n",
    "pd.set_option(\"display.max_rows\", 200)\n",
    "pd.set_option('display.float_format', lambda x: '%.2f' % x)\n",
    "\n",
    "# tells matplotlib to embed plots within the notebook\n",
    "%matplotlib inline"
   ]
  },
  {
   "cell_type": "markdown",
   "metadata": {},
   "source": [
    "#### 1) General Description"
   ]
  },
  {
   "cell_type": "code",
   "execution_count": 2,
   "metadata": {},
   "outputs": [
    {
     "data": {
      "text/html": [
       "<div>\n",
       "<style scoped>\n",
       "    .dataframe tbody tr th:only-of-type {\n",
       "        vertical-align: middle;\n",
       "    }\n",
       "\n",
       "    .dataframe tbody tr th {\n",
       "        vertical-align: top;\n",
       "    }\n",
       "\n",
       "    .dataframe thead th {\n",
       "        text-align: right;\n",
       "    }\n",
       "</style>\n",
       "<table border=\"1\" class=\"dataframe\">\n",
       "  <thead>\n",
       "    <tr style=\"text-align: right;\">\n",
       "      <th></th>\n",
       "      <th>class</th>\n",
       "      <th>cap-shape</th>\n",
       "      <th>cap-surface</th>\n",
       "      <th>cap-color</th>\n",
       "      <th>bruises</th>\n",
       "      <th>odor</th>\n",
       "      <th>gill-attachment</th>\n",
       "      <th>gill-spacing</th>\n",
       "      <th>gill-size</th>\n",
       "      <th>gill-color</th>\n",
       "      <th>stalk-shape</th>\n",
       "      <th>stalk-root</th>\n",
       "      <th>stalk-surface-above-ring</th>\n",
       "      <th>stalk-surface-below-ring</th>\n",
       "      <th>stalk-color-above-ring</th>\n",
       "      <th>stalk-color-below-ring</th>\n",
       "      <th>veil-type</th>\n",
       "      <th>veil-color</th>\n",
       "      <th>ring-number</th>\n",
       "      <th>ring-type</th>\n",
       "      <th>spore-print-color</th>\n",
       "      <th>population</th>\n",
       "      <th>habitat</th>\n",
       "    </tr>\n",
       "  </thead>\n",
       "  <tbody>\n",
       "    <tr>\n",
       "      <th>0</th>\n",
       "      <td>p</td>\n",
       "      <td>x</td>\n",
       "      <td>s</td>\n",
       "      <td>n</td>\n",
       "      <td>t</td>\n",
       "      <td>p</td>\n",
       "      <td>f</td>\n",
       "      <td>c</td>\n",
       "      <td>n</td>\n",
       "      <td>k</td>\n",
       "      <td>e</td>\n",
       "      <td>e</td>\n",
       "      <td>s</td>\n",
       "      <td>s</td>\n",
       "      <td>w</td>\n",
       "      <td>w</td>\n",
       "      <td>p</td>\n",
       "      <td>w</td>\n",
       "      <td>o</td>\n",
       "      <td>p</td>\n",
       "      <td>k</td>\n",
       "      <td>s</td>\n",
       "      <td>u</td>\n",
       "    </tr>\n",
       "    <tr>\n",
       "      <th>1</th>\n",
       "      <td>e</td>\n",
       "      <td>x</td>\n",
       "      <td>s</td>\n",
       "      <td>y</td>\n",
       "      <td>t</td>\n",
       "      <td>a</td>\n",
       "      <td>f</td>\n",
       "      <td>c</td>\n",
       "      <td>b</td>\n",
       "      <td>k</td>\n",
       "      <td>e</td>\n",
       "      <td>c</td>\n",
       "      <td>s</td>\n",
       "      <td>s</td>\n",
       "      <td>w</td>\n",
       "      <td>w</td>\n",
       "      <td>p</td>\n",
       "      <td>w</td>\n",
       "      <td>o</td>\n",
       "      <td>p</td>\n",
       "      <td>n</td>\n",
       "      <td>n</td>\n",
       "      <td>g</td>\n",
       "    </tr>\n",
       "    <tr>\n",
       "      <th>2</th>\n",
       "      <td>e</td>\n",
       "      <td>b</td>\n",
       "      <td>s</td>\n",
       "      <td>w</td>\n",
       "      <td>t</td>\n",
       "      <td>l</td>\n",
       "      <td>f</td>\n",
       "      <td>c</td>\n",
       "      <td>b</td>\n",
       "      <td>n</td>\n",
       "      <td>e</td>\n",
       "      <td>c</td>\n",
       "      <td>s</td>\n",
       "      <td>s</td>\n",
       "      <td>w</td>\n",
       "      <td>w</td>\n",
       "      <td>p</td>\n",
       "      <td>w</td>\n",
       "      <td>o</td>\n",
       "      <td>p</td>\n",
       "      <td>n</td>\n",
       "      <td>n</td>\n",
       "      <td>m</td>\n",
       "    </tr>\n",
       "    <tr>\n",
       "      <th>3</th>\n",
       "      <td>p</td>\n",
       "      <td>x</td>\n",
       "      <td>y</td>\n",
       "      <td>w</td>\n",
       "      <td>t</td>\n",
       "      <td>p</td>\n",
       "      <td>f</td>\n",
       "      <td>c</td>\n",
       "      <td>n</td>\n",
       "      <td>n</td>\n",
       "      <td>e</td>\n",
       "      <td>e</td>\n",
       "      <td>s</td>\n",
       "      <td>s</td>\n",
       "      <td>w</td>\n",
       "      <td>w</td>\n",
       "      <td>p</td>\n",
       "      <td>w</td>\n",
       "      <td>o</td>\n",
       "      <td>p</td>\n",
       "      <td>k</td>\n",
       "      <td>s</td>\n",
       "      <td>u</td>\n",
       "    </tr>\n",
       "    <tr>\n",
       "      <th>4</th>\n",
       "      <td>e</td>\n",
       "      <td>x</td>\n",
       "      <td>s</td>\n",
       "      <td>g</td>\n",
       "      <td>f</td>\n",
       "      <td>n</td>\n",
       "      <td>f</td>\n",
       "      <td>w</td>\n",
       "      <td>b</td>\n",
       "      <td>k</td>\n",
       "      <td>t</td>\n",
       "      <td>e</td>\n",
       "      <td>s</td>\n",
       "      <td>s</td>\n",
       "      <td>w</td>\n",
       "      <td>w</td>\n",
       "      <td>p</td>\n",
       "      <td>w</td>\n",
       "      <td>o</td>\n",
       "      <td>e</td>\n",
       "      <td>n</td>\n",
       "      <td>a</td>\n",
       "      <td>g</td>\n",
       "    </tr>\n",
       "  </tbody>\n",
       "</table>\n",
       "</div>"
      ],
      "text/plain": [
       "  class cap-shape cap-surface cap-color bruises odor gill-attachment  \\\n",
       "0     p         x           s         n       t    p               f   \n",
       "1     e         x           s         y       t    a               f   \n",
       "2     e         b           s         w       t    l               f   \n",
       "3     p         x           y         w       t    p               f   \n",
       "4     e         x           s         g       f    n               f   \n",
       "\n",
       "  gill-spacing gill-size gill-color stalk-shape stalk-root  \\\n",
       "0            c         n          k           e          e   \n",
       "1            c         b          k           e          c   \n",
       "2            c         b          n           e          c   \n",
       "3            c         n          n           e          e   \n",
       "4            w         b          k           t          e   \n",
       "\n",
       "  stalk-surface-above-ring stalk-surface-below-ring stalk-color-above-ring  \\\n",
       "0                        s                        s                      w   \n",
       "1                        s                        s                      w   \n",
       "2                        s                        s                      w   \n",
       "3                        s                        s                      w   \n",
       "4                        s                        s                      w   \n",
       "\n",
       "  stalk-color-below-ring veil-type veil-color ring-number ring-type  \\\n",
       "0                      w         p          w           o         p   \n",
       "1                      w         p          w           o         p   \n",
       "2                      w         p          w           o         p   \n",
       "3                      w         p          w           o         p   \n",
       "4                      w         p          w           o         e   \n",
       "\n",
       "  spore-print-color population habitat  \n",
       "0                 k          s       u  \n",
       "1                 n          n       g  \n",
       "2                 n          n       m  \n",
       "3                 k          s       u  \n",
       "4                 n          a       g  "
      ]
     },
     "execution_count": 2,
     "metadata": {},
     "output_type": "execute_result"
    }
   ],
   "source": [
    "mushroom_df = pd.read_csv('mushrooms.csv')\n",
    "mushroom_df.head()"
   ]
  },
  {
   "cell_type": "code",
   "execution_count": 3,
   "metadata": {},
   "outputs": [
    {
     "data": {
      "text/plain": [
       "array(['p', 'e'], dtype=object)"
      ]
     },
     "execution_count": 3,
     "metadata": {},
     "output_type": "execute_result"
    }
   ],
   "source": [
    "mushroom_df['class'].unique()"
   ]
  },
  {
   "cell_type": "code",
   "execution_count": 4,
   "metadata": {},
   "outputs": [
    {
     "data": {
      "text/plain": [
       "(8124, 23)"
      ]
     },
     "execution_count": 4,
     "metadata": {},
     "output_type": "execute_result"
    }
   ],
   "source": [
    "mushroom_df.shape"
   ]
  },
  {
   "cell_type": "code",
   "execution_count": 5,
   "metadata": {
    "scrolled": true
   },
   "outputs": [
    {
     "name": "stdout",
     "output_type": "stream",
     "text": [
      "<class 'pandas.core.frame.DataFrame'>\n",
      "RangeIndex: 8124 entries, 0 to 8123\n",
      "Data columns (total 23 columns):\n",
      " #   Column                    Non-Null Count  Dtype \n",
      "---  ------                    --------------  ----- \n",
      " 0   class                     8124 non-null   object\n",
      " 1   cap-shape                 8124 non-null   object\n",
      " 2   cap-surface               8124 non-null   object\n",
      " 3   cap-color                 8124 non-null   object\n",
      " 4   bruises                   8124 non-null   object\n",
      " 5   odor                      8124 non-null   object\n",
      " 6   gill-attachment           8124 non-null   object\n",
      " 7   gill-spacing              8124 non-null   object\n",
      " 8   gill-size                 8124 non-null   object\n",
      " 9   gill-color                8124 non-null   object\n",
      " 10  stalk-shape               8124 non-null   object\n",
      " 11  stalk-root                8124 non-null   object\n",
      " 12  stalk-surface-above-ring  8124 non-null   object\n",
      " 13  stalk-surface-below-ring  8124 non-null   object\n",
      " 14  stalk-color-above-ring    8124 non-null   object\n",
      " 15  stalk-color-below-ring    8124 non-null   object\n",
      " 16  veil-type                 8124 non-null   object\n",
      " 17  veil-color                8124 non-null   object\n",
      " 18  ring-number               8124 non-null   object\n",
      " 19  ring-type                 8124 non-null   object\n",
      " 20  spore-print-color         8124 non-null   object\n",
      " 21  population                8124 non-null   object\n",
      " 22  habitat                   8124 non-null   object\n",
      "dtypes: object(23)\n",
      "memory usage: 1.4+ MB\n"
     ]
    }
   ],
   "source": [
    "mushroom_df.info()"
   ]
  },
  {
   "cell_type": "markdown",
   "metadata": {},
   "source": [
    "#### Check for the Missing Values in the Dataset"
   ]
  },
  {
   "cell_type": "code",
   "execution_count": 6,
   "metadata": {
    "scrolled": true
   },
   "outputs": [
    {
     "data": {
      "text/plain": [
       "class                       0\n",
       "cap-shape                   0\n",
       "cap-surface                 0\n",
       "cap-color                   0\n",
       "bruises                     0\n",
       "odor                        0\n",
       "gill-attachment             0\n",
       "gill-spacing                0\n",
       "gill-size                   0\n",
       "gill-color                  0\n",
       "stalk-shape                 0\n",
       "stalk-root                  0\n",
       "stalk-surface-above-ring    0\n",
       "stalk-surface-below-ring    0\n",
       "stalk-color-above-ring      0\n",
       "stalk-color-below-ring      0\n",
       "veil-type                   0\n",
       "veil-color                  0\n",
       "ring-number                 0\n",
       "ring-type                   0\n",
       "spore-print-color           0\n",
       "population                  0\n",
       "habitat                     0\n",
       "dtype: int64"
      ]
     },
     "execution_count": 6,
     "metadata": {},
     "output_type": "execute_result"
    }
   ],
   "source": [
    "mushroom_df.isna().sum()"
   ]
  },
  {
   "cell_type": "code",
   "execution_count": 7,
   "metadata": {},
   "outputs": [
    {
     "data": {
      "text/html": [
       "<div>\n",
       "<style scoped>\n",
       "    .dataframe tbody tr th:only-of-type {\n",
       "        vertical-align: middle;\n",
       "    }\n",
       "\n",
       "    .dataframe tbody tr th {\n",
       "        vertical-align: top;\n",
       "    }\n",
       "\n",
       "    .dataframe thead th {\n",
       "        text-align: right;\n",
       "    }\n",
       "</style>\n",
       "<table border=\"1\" class=\"dataframe\">\n",
       "  <thead>\n",
       "    <tr style=\"text-align: right;\">\n",
       "      <th></th>\n",
       "      <th>class</th>\n",
       "      <th>cap-shape</th>\n",
       "      <th>cap-surface</th>\n",
       "      <th>cap-color</th>\n",
       "      <th>bruises</th>\n",
       "      <th>odor</th>\n",
       "      <th>gill-attachment</th>\n",
       "      <th>gill-spacing</th>\n",
       "      <th>gill-size</th>\n",
       "      <th>gill-color</th>\n",
       "      <th>stalk-shape</th>\n",
       "      <th>stalk-root</th>\n",
       "      <th>stalk-surface-above-ring</th>\n",
       "      <th>stalk-surface-below-ring</th>\n",
       "      <th>stalk-color-above-ring</th>\n",
       "      <th>stalk-color-below-ring</th>\n",
       "      <th>veil-type</th>\n",
       "      <th>veil-color</th>\n",
       "      <th>ring-number</th>\n",
       "      <th>ring-type</th>\n",
       "      <th>spore-print-color</th>\n",
       "      <th>population</th>\n",
       "      <th>habitat</th>\n",
       "    </tr>\n",
       "  </thead>\n",
       "  <tbody>\n",
       "    <tr>\n",
       "      <th>0</th>\n",
       "      <td>p</td>\n",
       "      <td>x</td>\n",
       "      <td>s</td>\n",
       "      <td>n</td>\n",
       "      <td>t</td>\n",
       "      <td>p</td>\n",
       "      <td>f</td>\n",
       "      <td>c</td>\n",
       "      <td>n</td>\n",
       "      <td>k</td>\n",
       "      <td>e</td>\n",
       "      <td>e</td>\n",
       "      <td>s</td>\n",
       "      <td>s</td>\n",
       "      <td>w</td>\n",
       "      <td>w</td>\n",
       "      <td>p</td>\n",
       "      <td>w</td>\n",
       "      <td>o</td>\n",
       "      <td>p</td>\n",
       "      <td>k</td>\n",
       "      <td>s</td>\n",
       "      <td>u</td>\n",
       "    </tr>\n",
       "    <tr>\n",
       "      <th>1</th>\n",
       "      <td>e</td>\n",
       "      <td>x</td>\n",
       "      <td>s</td>\n",
       "      <td>y</td>\n",
       "      <td>t</td>\n",
       "      <td>a</td>\n",
       "      <td>f</td>\n",
       "      <td>c</td>\n",
       "      <td>b</td>\n",
       "      <td>k</td>\n",
       "      <td>e</td>\n",
       "      <td>c</td>\n",
       "      <td>s</td>\n",
       "      <td>s</td>\n",
       "      <td>w</td>\n",
       "      <td>w</td>\n",
       "      <td>p</td>\n",
       "      <td>w</td>\n",
       "      <td>o</td>\n",
       "      <td>p</td>\n",
       "      <td>n</td>\n",
       "      <td>n</td>\n",
       "      <td>g</td>\n",
       "    </tr>\n",
       "    <tr>\n",
       "      <th>2</th>\n",
       "      <td>e</td>\n",
       "      <td>b</td>\n",
       "      <td>s</td>\n",
       "      <td>w</td>\n",
       "      <td>t</td>\n",
       "      <td>l</td>\n",
       "      <td>f</td>\n",
       "      <td>c</td>\n",
       "      <td>b</td>\n",
       "      <td>n</td>\n",
       "      <td>e</td>\n",
       "      <td>c</td>\n",
       "      <td>s</td>\n",
       "      <td>s</td>\n",
       "      <td>w</td>\n",
       "      <td>w</td>\n",
       "      <td>p</td>\n",
       "      <td>w</td>\n",
       "      <td>o</td>\n",
       "      <td>p</td>\n",
       "      <td>n</td>\n",
       "      <td>n</td>\n",
       "      <td>m</td>\n",
       "    </tr>\n",
       "    <tr>\n",
       "      <th>3</th>\n",
       "      <td>p</td>\n",
       "      <td>x</td>\n",
       "      <td>y</td>\n",
       "      <td>w</td>\n",
       "      <td>t</td>\n",
       "      <td>p</td>\n",
       "      <td>f</td>\n",
       "      <td>c</td>\n",
       "      <td>n</td>\n",
       "      <td>n</td>\n",
       "      <td>e</td>\n",
       "      <td>e</td>\n",
       "      <td>s</td>\n",
       "      <td>s</td>\n",
       "      <td>w</td>\n",
       "      <td>w</td>\n",
       "      <td>p</td>\n",
       "      <td>w</td>\n",
       "      <td>o</td>\n",
       "      <td>p</td>\n",
       "      <td>k</td>\n",
       "      <td>s</td>\n",
       "      <td>u</td>\n",
       "    </tr>\n",
       "    <tr>\n",
       "      <th>4</th>\n",
       "      <td>e</td>\n",
       "      <td>x</td>\n",
       "      <td>s</td>\n",
       "      <td>g</td>\n",
       "      <td>f</td>\n",
       "      <td>n</td>\n",
       "      <td>f</td>\n",
       "      <td>w</td>\n",
       "      <td>b</td>\n",
       "      <td>k</td>\n",
       "      <td>t</td>\n",
       "      <td>e</td>\n",
       "      <td>s</td>\n",
       "      <td>s</td>\n",
       "      <td>w</td>\n",
       "      <td>w</td>\n",
       "      <td>p</td>\n",
       "      <td>w</td>\n",
       "      <td>o</td>\n",
       "      <td>e</td>\n",
       "      <td>n</td>\n",
       "      <td>a</td>\n",
       "      <td>g</td>\n",
       "    </tr>\n",
       "  </tbody>\n",
       "</table>\n",
       "</div>"
      ],
      "text/plain": [
       "  class cap-shape cap-surface cap-color bruises odor gill-attachment  \\\n",
       "0     p         x           s         n       t    p               f   \n",
       "1     e         x           s         y       t    a               f   \n",
       "2     e         b           s         w       t    l               f   \n",
       "3     p         x           y         w       t    p               f   \n",
       "4     e         x           s         g       f    n               f   \n",
       "\n",
       "  gill-spacing gill-size gill-color stalk-shape stalk-root  \\\n",
       "0            c         n          k           e          e   \n",
       "1            c         b          k           e          c   \n",
       "2            c         b          n           e          c   \n",
       "3            c         n          n           e          e   \n",
       "4            w         b          k           t          e   \n",
       "\n",
       "  stalk-surface-above-ring stalk-surface-below-ring stalk-color-above-ring  \\\n",
       "0                        s                        s                      w   \n",
       "1                        s                        s                      w   \n",
       "2                        s                        s                      w   \n",
       "3                        s                        s                      w   \n",
       "4                        s                        s                      w   \n",
       "\n",
       "  stalk-color-below-ring veil-type veil-color ring-number ring-type  \\\n",
       "0                      w         p          w           o         p   \n",
       "1                      w         p          w           o         p   \n",
       "2                      w         p          w           o         p   \n",
       "3                      w         p          w           o         p   \n",
       "4                      w         p          w           o         e   \n",
       "\n",
       "  spore-print-color population habitat  \n",
       "0                 k          s       u  \n",
       "1                 n          n       g  \n",
       "2                 n          n       m  \n",
       "3                 k          s       u  \n",
       "4                 n          a       g  "
      ]
     },
     "execution_count": 7,
     "metadata": {},
     "output_type": "execute_result"
    }
   ],
   "source": [
    "mushroom_df.head()"
   ]
  },
  {
   "cell_type": "markdown",
   "metadata": {},
   "source": [
    "####  2) Data visualization\n"
   ]
  },
  {
   "cell_type": "markdown",
   "metadata": {},
   "source": [
    "Goals\n",
    "- Check the correlatins between variables using heatmap\n",
    "- Use dual histograms to compare edible and poisonous mushrooms across all features\n",
    "- Qualitatively guess which features are collinear or heavily skewed\n"
   ]
  },
  {
   "cell_type": "markdown",
   "metadata": {},
   "source": [
    "<img src=\"images/mushroom.png\">"
   ]
  },
  {
   "cell_type": "markdown",
   "metadata": {},
   "source": []
  },
  {
   "cell_type": "markdown",
   "metadata": {},
   "source": [
    "Convert the catagrical variables to numerical"
   ]
  },
  {
   "cell_type": "code",
   "execution_count": 8,
   "metadata": {},
   "outputs": [],
   "source": [
    "df = mushroom_df.copy()"
   ]
  },
  {
   "cell_type": "code",
   "execution_count": 9,
   "metadata": {},
   "outputs": [],
   "source": [
    "def label_encoded(feat):\n",
    "    le = LabelEncoder()\n",
    "    le.fit(feat)\n",
    "    print(feat.name,le.classes_)\n",
    "    return le.transform(feat)"
   ]
  },
  {
   "cell_type": "code",
   "execution_count": 10,
   "metadata": {},
   "outputs": [
    {
     "name": "stdout",
     "output_type": "stream",
     "text": [
      "class ['e' 'p']\n",
      "cap-shape ['b' 'c' 'f' 'k' 's' 'x']\n",
      "cap-surface ['f' 'g' 's' 'y']\n",
      "cap-color ['b' 'c' 'e' 'g' 'n' 'p' 'r' 'u' 'w' 'y']\n",
      "bruises ['f' 't']\n",
      "odor ['a' 'c' 'f' 'l' 'm' 'n' 'p' 's' 'y']\n",
      "gill-attachment ['a' 'f']\n",
      "gill-spacing ['c' 'w']\n",
      "gill-size ['b' 'n']\n",
      "gill-color ['b' 'e' 'g' 'h' 'k' 'n' 'o' 'p' 'r' 'u' 'w' 'y']\n",
      "stalk-shape ['e' 't']\n",
      "stalk-root ['?' 'b' 'c' 'e' 'r']\n",
      "stalk-surface-above-ring ['f' 'k' 's' 'y']\n",
      "stalk-surface-below-ring ['f' 'k' 's' 'y']\n",
      "stalk-color-above-ring ['b' 'c' 'e' 'g' 'n' 'o' 'p' 'w' 'y']\n",
      "stalk-color-below-ring ['b' 'c' 'e' 'g' 'n' 'o' 'p' 'w' 'y']\n",
      "veil-type ['p']\n",
      "veil-color ['n' 'o' 'w' 'y']\n",
      "ring-number ['n' 'o' 't']\n",
      "ring-type ['e' 'f' 'l' 'n' 'p']\n",
      "spore-print-color ['b' 'h' 'k' 'n' 'o' 'r' 'u' 'w' 'y']\n",
      "population ['a' 'c' 'n' 's' 'v' 'y']\n",
      "habitat ['d' 'g' 'l' 'm' 'p' 'u' 'w']\n"
     ]
    }
   ],
   "source": [
    "for col in df.columns:\n",
    "    df[str(col)] = label_encoded(df[str(col)])"
   ]
  },
  {
   "cell_type": "code",
   "execution_count": 11,
   "metadata": {
    "scrolled": true
   },
   "outputs": [
    {
     "data": {
      "text/html": [
       "<div>\n",
       "<style scoped>\n",
       "    .dataframe tbody tr th:only-of-type {\n",
       "        vertical-align: middle;\n",
       "    }\n",
       "\n",
       "    .dataframe tbody tr th {\n",
       "        vertical-align: top;\n",
       "    }\n",
       "\n",
       "    .dataframe thead th {\n",
       "        text-align: right;\n",
       "    }\n",
       "</style>\n",
       "<table border=\"1\" class=\"dataframe\">\n",
       "  <thead>\n",
       "    <tr style=\"text-align: right;\">\n",
       "      <th></th>\n",
       "      <th>class</th>\n",
       "      <th>cap-shape</th>\n",
       "      <th>cap-surface</th>\n",
       "      <th>cap-color</th>\n",
       "      <th>bruises</th>\n",
       "      <th>odor</th>\n",
       "      <th>gill-attachment</th>\n",
       "      <th>gill-spacing</th>\n",
       "      <th>gill-size</th>\n",
       "      <th>gill-color</th>\n",
       "      <th>stalk-shape</th>\n",
       "      <th>stalk-root</th>\n",
       "      <th>stalk-surface-above-ring</th>\n",
       "      <th>stalk-surface-below-ring</th>\n",
       "      <th>stalk-color-above-ring</th>\n",
       "      <th>stalk-color-below-ring</th>\n",
       "      <th>veil-type</th>\n",
       "      <th>veil-color</th>\n",
       "      <th>ring-number</th>\n",
       "      <th>ring-type</th>\n",
       "      <th>spore-print-color</th>\n",
       "      <th>population</th>\n",
       "      <th>habitat</th>\n",
       "    </tr>\n",
       "  </thead>\n",
       "  <tbody>\n",
       "    <tr>\n",
       "      <th>0</th>\n",
       "      <td>1</td>\n",
       "      <td>5</td>\n",
       "      <td>2</td>\n",
       "      <td>4</td>\n",
       "      <td>1</td>\n",
       "      <td>6</td>\n",
       "      <td>1</td>\n",
       "      <td>0</td>\n",
       "      <td>1</td>\n",
       "      <td>4</td>\n",
       "      <td>0</td>\n",
       "      <td>3</td>\n",
       "      <td>2</td>\n",
       "      <td>2</td>\n",
       "      <td>7</td>\n",
       "      <td>7</td>\n",
       "      <td>0</td>\n",
       "      <td>2</td>\n",
       "      <td>1</td>\n",
       "      <td>4</td>\n",
       "      <td>2</td>\n",
       "      <td>3</td>\n",
       "      <td>5</td>\n",
       "    </tr>\n",
       "    <tr>\n",
       "      <th>1</th>\n",
       "      <td>0</td>\n",
       "      <td>5</td>\n",
       "      <td>2</td>\n",
       "      <td>9</td>\n",
       "      <td>1</td>\n",
       "      <td>0</td>\n",
       "      <td>1</td>\n",
       "      <td>0</td>\n",
       "      <td>0</td>\n",
       "      <td>4</td>\n",
       "      <td>0</td>\n",
       "      <td>2</td>\n",
       "      <td>2</td>\n",
       "      <td>2</td>\n",
       "      <td>7</td>\n",
       "      <td>7</td>\n",
       "      <td>0</td>\n",
       "      <td>2</td>\n",
       "      <td>1</td>\n",
       "      <td>4</td>\n",
       "      <td>3</td>\n",
       "      <td>2</td>\n",
       "      <td>1</td>\n",
       "    </tr>\n",
       "    <tr>\n",
       "      <th>2</th>\n",
       "      <td>0</td>\n",
       "      <td>0</td>\n",
       "      <td>2</td>\n",
       "      <td>8</td>\n",
       "      <td>1</td>\n",
       "      <td>3</td>\n",
       "      <td>1</td>\n",
       "      <td>0</td>\n",
       "      <td>0</td>\n",
       "      <td>5</td>\n",
       "      <td>0</td>\n",
       "      <td>2</td>\n",
       "      <td>2</td>\n",
       "      <td>2</td>\n",
       "      <td>7</td>\n",
       "      <td>7</td>\n",
       "      <td>0</td>\n",
       "      <td>2</td>\n",
       "      <td>1</td>\n",
       "      <td>4</td>\n",
       "      <td>3</td>\n",
       "      <td>2</td>\n",
       "      <td>3</td>\n",
       "    </tr>\n",
       "    <tr>\n",
       "      <th>3</th>\n",
       "      <td>1</td>\n",
       "      <td>5</td>\n",
       "      <td>3</td>\n",
       "      <td>8</td>\n",
       "      <td>1</td>\n",
       "      <td>6</td>\n",
       "      <td>1</td>\n",
       "      <td>0</td>\n",
       "      <td>1</td>\n",
       "      <td>5</td>\n",
       "      <td>0</td>\n",
       "      <td>3</td>\n",
       "      <td>2</td>\n",
       "      <td>2</td>\n",
       "      <td>7</td>\n",
       "      <td>7</td>\n",
       "      <td>0</td>\n",
       "      <td>2</td>\n",
       "      <td>1</td>\n",
       "      <td>4</td>\n",
       "      <td>2</td>\n",
       "      <td>3</td>\n",
       "      <td>5</td>\n",
       "    </tr>\n",
       "    <tr>\n",
       "      <th>4</th>\n",
       "      <td>0</td>\n",
       "      <td>5</td>\n",
       "      <td>2</td>\n",
       "      <td>3</td>\n",
       "      <td>0</td>\n",
       "      <td>5</td>\n",
       "      <td>1</td>\n",
       "      <td>1</td>\n",
       "      <td>0</td>\n",
       "      <td>4</td>\n",
       "      <td>1</td>\n",
       "      <td>3</td>\n",
       "      <td>2</td>\n",
       "      <td>2</td>\n",
       "      <td>7</td>\n",
       "      <td>7</td>\n",
       "      <td>0</td>\n",
       "      <td>2</td>\n",
       "      <td>1</td>\n",
       "      <td>0</td>\n",
       "      <td>3</td>\n",
       "      <td>0</td>\n",
       "      <td>1</td>\n",
       "    </tr>\n",
       "  </tbody>\n",
       "</table>\n",
       "</div>"
      ],
      "text/plain": [
       "   class  cap-shape  cap-surface  cap-color  bruises  odor  gill-attachment  \\\n",
       "0      1          5            2          4        1     6                1   \n",
       "1      0          5            2          9        1     0                1   \n",
       "2      0          0            2          8        1     3                1   \n",
       "3      1          5            3          8        1     6                1   \n",
       "4      0          5            2          3        0     5                1   \n",
       "\n",
       "   gill-spacing  gill-size  gill-color  stalk-shape  stalk-root  \\\n",
       "0             0          1           4            0           3   \n",
       "1             0          0           4            0           2   \n",
       "2             0          0           5            0           2   \n",
       "3             0          1           5            0           3   \n",
       "4             1          0           4            1           3   \n",
       "\n",
       "   stalk-surface-above-ring  stalk-surface-below-ring  stalk-color-above-ring  \\\n",
       "0                         2                         2                       7   \n",
       "1                         2                         2                       7   \n",
       "2                         2                         2                       7   \n",
       "3                         2                         2                       7   \n",
       "4                         2                         2                       7   \n",
       "\n",
       "   stalk-color-below-ring  veil-type  veil-color  ring-number  ring-type  \\\n",
       "0                       7          0           2            1          4   \n",
       "1                       7          0           2            1          4   \n",
       "2                       7          0           2            1          4   \n",
       "3                       7          0           2            1          4   \n",
       "4                       7          0           2            1          0   \n",
       "\n",
       "   spore-print-color  population  habitat  \n",
       "0                  2           3        5  \n",
       "1                  3           2        1  \n",
       "2                  3           2        3  \n",
       "3                  2           3        5  \n",
       "4                  3           0        1  "
      ]
     },
     "execution_count": 11,
     "metadata": {},
     "output_type": "execute_result"
    }
   ],
   "source": [
    "df.head()"
   ]
  },
  {
   "cell_type": "code",
   "execution_count": 12,
   "metadata": {},
   "outputs": [
    {
     "data": {
      "text/html": [
       "<div>\n",
       "<style scoped>\n",
       "    .dataframe tbody tr th:only-of-type {\n",
       "        vertical-align: middle;\n",
       "    }\n",
       "\n",
       "    .dataframe tbody tr th {\n",
       "        vertical-align: top;\n",
       "    }\n",
       "\n",
       "    .dataframe thead th {\n",
       "        text-align: right;\n",
       "    }\n",
       "</style>\n",
       "<table border=\"1\" class=\"dataframe\">\n",
       "  <thead>\n",
       "    <tr style=\"text-align: right;\">\n",
       "      <th></th>\n",
       "      <th>class</th>\n",
       "      <th>cap-shape</th>\n",
       "      <th>cap-surface</th>\n",
       "      <th>cap-color</th>\n",
       "      <th>bruises</th>\n",
       "      <th>odor</th>\n",
       "      <th>gill-attachment</th>\n",
       "      <th>gill-spacing</th>\n",
       "      <th>gill-size</th>\n",
       "      <th>gill-color</th>\n",
       "      <th>stalk-shape</th>\n",
       "      <th>stalk-root</th>\n",
       "      <th>stalk-surface-above-ring</th>\n",
       "      <th>stalk-surface-below-ring</th>\n",
       "      <th>stalk-color-above-ring</th>\n",
       "      <th>stalk-color-below-ring</th>\n",
       "      <th>veil-type</th>\n",
       "      <th>veil-color</th>\n",
       "      <th>ring-number</th>\n",
       "      <th>ring-type</th>\n",
       "      <th>spore-print-color</th>\n",
       "      <th>population</th>\n",
       "      <th>habitat</th>\n",
       "    </tr>\n",
       "  </thead>\n",
       "  <tbody>\n",
       "    <tr>\n",
       "      <th>class</th>\n",
       "      <td>1.00</td>\n",
       "      <td>0.05</td>\n",
       "      <td>0.18</td>\n",
       "      <td>-0.03</td>\n",
       "      <td>-0.50</td>\n",
       "      <td>-0.09</td>\n",
       "      <td>0.13</td>\n",
       "      <td>-0.35</td>\n",
       "      <td>0.54</td>\n",
       "      <td>-0.53</td>\n",
       "      <td>-0.10</td>\n",
       "      <td>-0.38</td>\n",
       "      <td>-0.33</td>\n",
       "      <td>-0.30</td>\n",
       "      <td>-0.15</td>\n",
       "      <td>-0.15</td>\n",
       "      <td>nan</td>\n",
       "      <td>0.15</td>\n",
       "      <td>-0.21</td>\n",
       "      <td>-0.41</td>\n",
       "      <td>0.17</td>\n",
       "      <td>0.30</td>\n",
       "      <td>0.22</td>\n",
       "    </tr>\n",
       "    <tr>\n",
       "      <th>cap-shape</th>\n",
       "      <td>0.05</td>\n",
       "      <td>1.00</td>\n",
       "      <td>-0.05</td>\n",
       "      <td>-0.05</td>\n",
       "      <td>-0.04</td>\n",
       "      <td>-0.02</td>\n",
       "      <td>0.08</td>\n",
       "      <td>0.01</td>\n",
       "      <td>0.05</td>\n",
       "      <td>-0.01</td>\n",
       "      <td>0.06</td>\n",
       "      <td>0.03</td>\n",
       "      <td>-0.03</td>\n",
       "      <td>-0.03</td>\n",
       "      <td>-0.03</td>\n",
       "      <td>-0.03</td>\n",
       "      <td>nan</td>\n",
       "      <td>0.07</td>\n",
       "      <td>-0.11</td>\n",
       "      <td>-0.03</td>\n",
       "      <td>-0.07</td>\n",
       "      <td>0.06</td>\n",
       "      <td>-0.04</td>\n",
       "    </tr>\n",
       "    <tr>\n",
       "      <th>cap-surface</th>\n",
       "      <td>0.18</td>\n",
       "      <td>-0.05</td>\n",
       "      <td>1.00</td>\n",
       "      <td>-0.02</td>\n",
       "      <td>0.07</td>\n",
       "      <td>0.05</td>\n",
       "      <td>-0.03</td>\n",
       "      <td>-0.28</td>\n",
       "      <td>0.21</td>\n",
       "      <td>-0.16</td>\n",
       "      <td>-0.01</td>\n",
       "      <td>-0.13</td>\n",
       "      <td>0.09</td>\n",
       "      <td>0.11</td>\n",
       "      <td>0.07</td>\n",
       "      <td>0.07</td>\n",
       "      <td>nan</td>\n",
       "      <td>-0.02</td>\n",
       "      <td>-0.03</td>\n",
       "      <td>-0.11</td>\n",
       "      <td>0.23</td>\n",
       "      <td>0.02</td>\n",
       "      <td>0.16</td>\n",
       "    </tr>\n",
       "    <tr>\n",
       "      <th>cap-color</th>\n",
       "      <td>-0.03</td>\n",
       "      <td>-0.05</td>\n",
       "      <td>-0.02</td>\n",
       "      <td>1.00</td>\n",
       "      <td>-0.00</td>\n",
       "      <td>-0.39</td>\n",
       "      <td>0.04</td>\n",
       "      <td>0.14</td>\n",
       "      <td>-0.17</td>\n",
       "      <td>0.08</td>\n",
       "      <td>-0.46</td>\n",
       "      <td>0.32</td>\n",
       "      <td>-0.06</td>\n",
       "      <td>-0.05</td>\n",
       "      <td>0.00</td>\n",
       "      <td>0.01</td>\n",
       "      <td>nan</td>\n",
       "      <td>0.04</td>\n",
       "      <td>-0.01</td>\n",
       "      <td>0.16</td>\n",
       "      <td>-0.29</td>\n",
       "      <td>-0.14</td>\n",
       "      <td>0.03</td>\n",
       "    </tr>\n",
       "    <tr>\n",
       "      <th>bruises</th>\n",
       "      <td>-0.50</td>\n",
       "      <td>-0.04</td>\n",
       "      <td>0.07</td>\n",
       "      <td>-0.00</td>\n",
       "      <td>1.00</td>\n",
       "      <td>-0.06</td>\n",
       "      <td>0.14</td>\n",
       "      <td>-0.30</td>\n",
       "      <td>-0.37</td>\n",
       "      <td>0.53</td>\n",
       "      <td>0.10</td>\n",
       "      <td>0.24</td>\n",
       "      <td>0.46</td>\n",
       "      <td>0.46</td>\n",
       "      <td>0.08</td>\n",
       "      <td>0.09</td>\n",
       "      <td>nan</td>\n",
       "      <td>0.12</td>\n",
       "      <td>0.06</td>\n",
       "      <td>0.69</td>\n",
       "      <td>-0.29</td>\n",
       "      <td>0.09</td>\n",
       "      <td>-0.08</td>\n",
       "    </tr>\n",
       "    <tr>\n",
       "      <th>odor</th>\n",
       "      <td>-0.09</td>\n",
       "      <td>-0.02</td>\n",
       "      <td>0.05</td>\n",
       "      <td>-0.39</td>\n",
       "      <td>-0.06</td>\n",
       "      <td>1.00</td>\n",
       "      <td>-0.06</td>\n",
       "      <td>0.06</td>\n",
       "      <td>0.31</td>\n",
       "      <td>-0.13</td>\n",
       "      <td>0.46</td>\n",
       "      <td>-0.21</td>\n",
       "      <td>0.12</td>\n",
       "      <td>0.06</td>\n",
       "      <td>0.17</td>\n",
       "      <td>0.17</td>\n",
       "      <td>nan</td>\n",
       "      <td>-0.06</td>\n",
       "      <td>0.11</td>\n",
       "      <td>-0.28</td>\n",
       "      <td>0.47</td>\n",
       "      <td>-0.04</td>\n",
       "      <td>-0.03</td>\n",
       "    </tr>\n",
       "    <tr>\n",
       "      <th>gill-attachment</th>\n",
       "      <td>0.13</td>\n",
       "      <td>0.08</td>\n",
       "      <td>-0.03</td>\n",
       "      <td>0.04</td>\n",
       "      <td>0.14</td>\n",
       "      <td>-0.06</td>\n",
       "      <td>1.00</td>\n",
       "      <td>0.07</td>\n",
       "      <td>0.11</td>\n",
       "      <td>-0.13</td>\n",
       "      <td>0.19</td>\n",
       "      <td>0.14</td>\n",
       "      <td>-0.09</td>\n",
       "      <td>-0.12</td>\n",
       "      <td>0.10</td>\n",
       "      <td>0.10</td>\n",
       "      <td>nan</td>\n",
       "      <td>0.90</td>\n",
       "      <td>0.09</td>\n",
       "      <td>-0.15</td>\n",
       "      <td>-0.03</td>\n",
       "      <td>0.17</td>\n",
       "      <td>-0.03</td>\n",
       "    </tr>\n",
       "    <tr>\n",
       "      <th>gill-spacing</th>\n",
       "      <td>-0.35</td>\n",
       "      <td>0.01</td>\n",
       "      <td>-0.28</td>\n",
       "      <td>0.14</td>\n",
       "      <td>-0.30</td>\n",
       "      <td>0.06</td>\n",
       "      <td>0.07</td>\n",
       "      <td>1.00</td>\n",
       "      <td>-0.11</td>\n",
       "      <td>0.10</td>\n",
       "      <td>0.08</td>\n",
       "      <td>0.35</td>\n",
       "      <td>-0.21</td>\n",
       "      <td>-0.21</td>\n",
       "      <td>0.27</td>\n",
       "      <td>0.25</td>\n",
       "      <td>nan</td>\n",
       "      <td>0.07</td>\n",
       "      <td>0.24</td>\n",
       "      <td>-0.20</td>\n",
       "      <td>0.05</td>\n",
       "      <td>-0.53</td>\n",
       "      <td>-0.15</td>\n",
       "    </tr>\n",
       "    <tr>\n",
       "      <th>gill-size</th>\n",
       "      <td>0.54</td>\n",
       "      <td>0.05</td>\n",
       "      <td>0.21</td>\n",
       "      <td>-0.17</td>\n",
       "      <td>-0.37</td>\n",
       "      <td>0.31</td>\n",
       "      <td>0.11</td>\n",
       "      <td>-0.11</td>\n",
       "      <td>1.00</td>\n",
       "      <td>-0.52</td>\n",
       "      <td>0.21</td>\n",
       "      <td>-0.34</td>\n",
       "      <td>0.06</td>\n",
       "      <td>0.01</td>\n",
       "      <td>0.30</td>\n",
       "      <td>0.28</td>\n",
       "      <td>nan</td>\n",
       "      <td>0.10</td>\n",
       "      <td>-0.17</td>\n",
       "      <td>-0.46</td>\n",
       "      <td>0.62</td>\n",
       "      <td>0.15</td>\n",
       "      <td>0.16</td>\n",
       "    </tr>\n",
       "    <tr>\n",
       "      <th>gill-color</th>\n",
       "      <td>-0.53</td>\n",
       "      <td>-0.01</td>\n",
       "      <td>-0.16</td>\n",
       "      <td>0.08</td>\n",
       "      <td>0.53</td>\n",
       "      <td>-0.13</td>\n",
       "      <td>-0.13</td>\n",
       "      <td>0.10</td>\n",
       "      <td>-0.52</td>\n",
       "      <td>1.00</td>\n",
       "      <td>-0.18</td>\n",
       "      <td>0.32</td>\n",
       "      <td>0.22</td>\n",
       "      <td>0.26</td>\n",
       "      <td>-0.06</td>\n",
       "      <td>-0.07</td>\n",
       "      <td>nan</td>\n",
       "      <td>-0.10</td>\n",
       "      <td>0.10</td>\n",
       "      <td>0.63</td>\n",
       "      <td>-0.42</td>\n",
       "      <td>-0.03</td>\n",
       "      <td>-0.20</td>\n",
       "    </tr>\n",
       "    <tr>\n",
       "      <th>stalk-shape</th>\n",
       "      <td>-0.10</td>\n",
       "      <td>0.06</td>\n",
       "      <td>-0.01</td>\n",
       "      <td>-0.46</td>\n",
       "      <td>0.10</td>\n",
       "      <td>0.46</td>\n",
       "      <td>0.19</td>\n",
       "      <td>0.08</td>\n",
       "      <td>0.21</td>\n",
       "      <td>-0.18</td>\n",
       "      <td>1.00</td>\n",
       "      <td>-0.16</td>\n",
       "      <td>0.02</td>\n",
       "      <td>-0.03</td>\n",
       "      <td>0.22</td>\n",
       "      <td>0.24</td>\n",
       "      <td>nan</td>\n",
       "      <td>0.16</td>\n",
       "      <td>-0.29</td>\n",
       "      <td>-0.29</td>\n",
       "      <td>0.26</td>\n",
       "      <td>0.09</td>\n",
       "      <td>-0.27</td>\n",
       "    </tr>\n",
       "    <tr>\n",
       "      <th>stalk-root</th>\n",
       "      <td>-0.38</td>\n",
       "      <td>0.03</td>\n",
       "      <td>-0.13</td>\n",
       "      <td>0.32</td>\n",
       "      <td>0.24</td>\n",
       "      <td>-0.21</td>\n",
       "      <td>0.14</td>\n",
       "      <td>0.35</td>\n",
       "      <td>-0.34</td>\n",
       "      <td>0.32</td>\n",
       "      <td>-0.16</td>\n",
       "      <td>1.00</td>\n",
       "      <td>-0.03</td>\n",
       "      <td>0.09</td>\n",
       "      <td>0.16</td>\n",
       "      <td>0.16</td>\n",
       "      <td>nan</td>\n",
       "      <td>0.16</td>\n",
       "      <td>-0.25</td>\n",
       "      <td>0.21</td>\n",
       "      <td>-0.54</td>\n",
       "      <td>-0.31</td>\n",
       "      <td>-0.01</td>\n",
       "    </tr>\n",
       "    <tr>\n",
       "      <th>stalk-surface-above-ring</th>\n",
       "      <td>-0.33</td>\n",
       "      <td>-0.03</td>\n",
       "      <td>0.09</td>\n",
       "      <td>-0.06</td>\n",
       "      <td>0.46</td>\n",
       "      <td>0.12</td>\n",
       "      <td>-0.09</td>\n",
       "      <td>-0.21</td>\n",
       "      <td>0.06</td>\n",
       "      <td>0.22</td>\n",
       "      <td>0.02</td>\n",
       "      <td>-0.03</td>\n",
       "      <td>1.00</td>\n",
       "      <td>0.44</td>\n",
       "      <td>0.13</td>\n",
       "      <td>0.14</td>\n",
       "      <td>nan</td>\n",
       "      <td>-0.09</td>\n",
       "      <td>0.11</td>\n",
       "      <td>0.39</td>\n",
       "      <td>0.10</td>\n",
       "      <td>0.08</td>\n",
       "      <td>-0.06</td>\n",
       "    </tr>\n",
       "    <tr>\n",
       "      <th>stalk-surface-below-ring</th>\n",
       "      <td>-0.30</td>\n",
       "      <td>-0.03</td>\n",
       "      <td>0.11</td>\n",
       "      <td>-0.05</td>\n",
       "      <td>0.46</td>\n",
       "      <td>0.06</td>\n",
       "      <td>-0.12</td>\n",
       "      <td>-0.21</td>\n",
       "      <td>0.01</td>\n",
       "      <td>0.26</td>\n",
       "      <td>-0.03</td>\n",
       "      <td>0.09</td>\n",
       "      <td>0.44</td>\n",
       "      <td>1.00</td>\n",
       "      <td>0.11</td>\n",
       "      <td>0.11</td>\n",
       "      <td>nan</td>\n",
       "      <td>-0.08</td>\n",
       "      <td>0.04</td>\n",
       "      <td>0.39</td>\n",
       "      <td>0.13</td>\n",
       "      <td>0.05</td>\n",
       "      <td>-0.04</td>\n",
       "    </tr>\n",
       "    <tr>\n",
       "      <th>stalk-color-above-ring</th>\n",
       "      <td>-0.15</td>\n",
       "      <td>-0.03</td>\n",
       "      <td>0.07</td>\n",
       "      <td>0.00</td>\n",
       "      <td>0.08</td>\n",
       "      <td>0.17</td>\n",
       "      <td>0.10</td>\n",
       "      <td>0.27</td>\n",
       "      <td>0.30</td>\n",
       "      <td>-0.06</td>\n",
       "      <td>0.22</td>\n",
       "      <td>0.16</td>\n",
       "      <td>0.13</td>\n",
       "      <td>0.11</td>\n",
       "      <td>1.00</td>\n",
       "      <td>0.49</td>\n",
       "      <td>nan</td>\n",
       "      <td>0.07</td>\n",
       "      <td>0.08</td>\n",
       "      <td>-0.05</td>\n",
       "      <td>0.27</td>\n",
       "      <td>-0.24</td>\n",
       "      <td>0.04</td>\n",
       "    </tr>\n",
       "    <tr>\n",
       "      <th>stalk-color-below-ring</th>\n",
       "      <td>-0.15</td>\n",
       "      <td>-0.03</td>\n",
       "      <td>0.07</td>\n",
       "      <td>0.01</td>\n",
       "      <td>0.09</td>\n",
       "      <td>0.17</td>\n",
       "      <td>0.10</td>\n",
       "      <td>0.25</td>\n",
       "      <td>0.28</td>\n",
       "      <td>-0.07</td>\n",
       "      <td>0.24</td>\n",
       "      <td>0.16</td>\n",
       "      <td>0.14</td>\n",
       "      <td>0.11</td>\n",
       "      <td>0.49</td>\n",
       "      <td>1.00</td>\n",
       "      <td>nan</td>\n",
       "      <td>0.07</td>\n",
       "      <td>0.09</td>\n",
       "      <td>-0.03</td>\n",
       "      <td>0.25</td>\n",
       "      <td>-0.24</td>\n",
       "      <td>0.04</td>\n",
       "    </tr>\n",
       "    <tr>\n",
       "      <th>veil-type</th>\n",
       "      <td>nan</td>\n",
       "      <td>nan</td>\n",
       "      <td>nan</td>\n",
       "      <td>nan</td>\n",
       "      <td>nan</td>\n",
       "      <td>nan</td>\n",
       "      <td>nan</td>\n",
       "      <td>nan</td>\n",
       "      <td>nan</td>\n",
       "      <td>nan</td>\n",
       "      <td>nan</td>\n",
       "      <td>nan</td>\n",
       "      <td>nan</td>\n",
       "      <td>nan</td>\n",
       "      <td>nan</td>\n",
       "      <td>nan</td>\n",
       "      <td>nan</td>\n",
       "      <td>nan</td>\n",
       "      <td>nan</td>\n",
       "      <td>nan</td>\n",
       "      <td>nan</td>\n",
       "      <td>nan</td>\n",
       "      <td>nan</td>\n",
       "    </tr>\n",
       "    <tr>\n",
       "      <th>veil-color</th>\n",
       "      <td>0.15</td>\n",
       "      <td>0.07</td>\n",
       "      <td>-0.02</td>\n",
       "      <td>0.04</td>\n",
       "      <td>0.12</td>\n",
       "      <td>-0.06</td>\n",
       "      <td>0.90</td>\n",
       "      <td>0.07</td>\n",
       "      <td>0.10</td>\n",
       "      <td>-0.10</td>\n",
       "      <td>0.16</td>\n",
       "      <td>0.16</td>\n",
       "      <td>-0.09</td>\n",
       "      <td>-0.08</td>\n",
       "      <td>0.07</td>\n",
       "      <td>0.07</td>\n",
       "      <td>nan</td>\n",
       "      <td>1.00</td>\n",
       "      <td>0.04</td>\n",
       "      <td>-0.14</td>\n",
       "      <td>-0.00</td>\n",
       "      <td>0.12</td>\n",
       "      <td>-0.04</td>\n",
       "    </tr>\n",
       "    <tr>\n",
       "      <th>ring-number</th>\n",
       "      <td>-0.21</td>\n",
       "      <td>-0.11</td>\n",
       "      <td>-0.03</td>\n",
       "      <td>-0.01</td>\n",
       "      <td>0.06</td>\n",
       "      <td>0.11</td>\n",
       "      <td>0.09</td>\n",
       "      <td>0.24</td>\n",
       "      <td>-0.17</td>\n",
       "      <td>0.10</td>\n",
       "      <td>-0.29</td>\n",
       "      <td>-0.25</td>\n",
       "      <td>0.11</td>\n",
       "      <td>0.04</td>\n",
       "      <td>0.08</td>\n",
       "      <td>0.09</td>\n",
       "      <td>nan</td>\n",
       "      <td>0.04</td>\n",
       "      <td>1.00</td>\n",
       "      <td>0.06</td>\n",
       "      <td>0.34</td>\n",
       "      <td>-0.24</td>\n",
       "      <td>0.24</td>\n",
       "    </tr>\n",
       "    <tr>\n",
       "      <th>ring-type</th>\n",
       "      <td>-0.41</td>\n",
       "      <td>-0.03</td>\n",
       "      <td>-0.11</td>\n",
       "      <td>0.16</td>\n",
       "      <td>0.69</td>\n",
       "      <td>-0.28</td>\n",
       "      <td>-0.15</td>\n",
       "      <td>-0.20</td>\n",
       "      <td>-0.46</td>\n",
       "      <td>0.63</td>\n",
       "      <td>-0.29</td>\n",
       "      <td>0.21</td>\n",
       "      <td>0.39</td>\n",
       "      <td>0.39</td>\n",
       "      <td>-0.05</td>\n",
       "      <td>-0.03</td>\n",
       "      <td>nan</td>\n",
       "      <td>-0.14</td>\n",
       "      <td>0.06</td>\n",
       "      <td>1.00</td>\n",
       "      <td>-0.49</td>\n",
       "      <td>0.21</td>\n",
       "      <td>-0.21</td>\n",
       "    </tr>\n",
       "    <tr>\n",
       "      <th>spore-print-color</th>\n",
       "      <td>0.17</td>\n",
       "      <td>-0.07</td>\n",
       "      <td>0.23</td>\n",
       "      <td>-0.29</td>\n",
       "      <td>-0.29</td>\n",
       "      <td>0.47</td>\n",
       "      <td>-0.03</td>\n",
       "      <td>0.05</td>\n",
       "      <td>0.62</td>\n",
       "      <td>-0.42</td>\n",
       "      <td>0.26</td>\n",
       "      <td>-0.54</td>\n",
       "      <td>0.10</td>\n",
       "      <td>0.13</td>\n",
       "      <td>0.27</td>\n",
       "      <td>0.25</td>\n",
       "      <td>nan</td>\n",
       "      <td>-0.00</td>\n",
       "      <td>0.34</td>\n",
       "      <td>-0.49</td>\n",
       "      <td>1.00</td>\n",
       "      <td>-0.13</td>\n",
       "      <td>0.19</td>\n",
       "    </tr>\n",
       "    <tr>\n",
       "      <th>population</th>\n",
       "      <td>0.30</td>\n",
       "      <td>0.06</td>\n",
       "      <td>0.02</td>\n",
       "      <td>-0.14</td>\n",
       "      <td>0.09</td>\n",
       "      <td>-0.04</td>\n",
       "      <td>0.17</td>\n",
       "      <td>-0.53</td>\n",
       "      <td>0.15</td>\n",
       "      <td>-0.03</td>\n",
       "      <td>0.09</td>\n",
       "      <td>-0.31</td>\n",
       "      <td>0.08</td>\n",
       "      <td>0.05</td>\n",
       "      <td>-0.24</td>\n",
       "      <td>-0.24</td>\n",
       "      <td>nan</td>\n",
       "      <td>0.12</td>\n",
       "      <td>-0.24</td>\n",
       "      <td>0.21</td>\n",
       "      <td>-0.13</td>\n",
       "      <td>1.00</td>\n",
       "      <td>-0.17</td>\n",
       "    </tr>\n",
       "    <tr>\n",
       "      <th>habitat</th>\n",
       "      <td>0.22</td>\n",
       "      <td>-0.04</td>\n",
       "      <td>0.16</td>\n",
       "      <td>0.03</td>\n",
       "      <td>-0.08</td>\n",
       "      <td>-0.03</td>\n",
       "      <td>-0.03</td>\n",
       "      <td>-0.15</td>\n",
       "      <td>0.16</td>\n",
       "      <td>-0.20</td>\n",
       "      <td>-0.27</td>\n",
       "      <td>-0.01</td>\n",
       "      <td>-0.06</td>\n",
       "      <td>-0.04</td>\n",
       "      <td>0.04</td>\n",
       "      <td>0.04</td>\n",
       "      <td>nan</td>\n",
       "      <td>-0.04</td>\n",
       "      <td>0.24</td>\n",
       "      <td>-0.21</td>\n",
       "      <td>0.19</td>\n",
       "      <td>-0.17</td>\n",
       "      <td>1.00</td>\n",
       "    </tr>\n",
       "  </tbody>\n",
       "</table>\n",
       "</div>"
      ],
      "text/plain": [
       "                          class  cap-shape  cap-surface  cap-color  bruises  \\\n",
       "class                      1.00       0.05         0.18      -0.03    -0.50   \n",
       "cap-shape                  0.05       1.00        -0.05      -0.05    -0.04   \n",
       "cap-surface                0.18      -0.05         1.00      -0.02     0.07   \n",
       "cap-color                 -0.03      -0.05        -0.02       1.00    -0.00   \n",
       "bruises                   -0.50      -0.04         0.07      -0.00     1.00   \n",
       "odor                      -0.09      -0.02         0.05      -0.39    -0.06   \n",
       "gill-attachment            0.13       0.08        -0.03       0.04     0.14   \n",
       "gill-spacing              -0.35       0.01        -0.28       0.14    -0.30   \n",
       "gill-size                  0.54       0.05         0.21      -0.17    -0.37   \n",
       "gill-color                -0.53      -0.01        -0.16       0.08     0.53   \n",
       "stalk-shape               -0.10       0.06        -0.01      -0.46     0.10   \n",
       "stalk-root                -0.38       0.03        -0.13       0.32     0.24   \n",
       "stalk-surface-above-ring  -0.33      -0.03         0.09      -0.06     0.46   \n",
       "stalk-surface-below-ring  -0.30      -0.03         0.11      -0.05     0.46   \n",
       "stalk-color-above-ring    -0.15      -0.03         0.07       0.00     0.08   \n",
       "stalk-color-below-ring    -0.15      -0.03         0.07       0.01     0.09   \n",
       "veil-type                   nan        nan          nan        nan      nan   \n",
       "veil-color                 0.15       0.07        -0.02       0.04     0.12   \n",
       "ring-number               -0.21      -0.11        -0.03      -0.01     0.06   \n",
       "ring-type                 -0.41      -0.03        -0.11       0.16     0.69   \n",
       "spore-print-color          0.17      -0.07         0.23      -0.29    -0.29   \n",
       "population                 0.30       0.06         0.02      -0.14     0.09   \n",
       "habitat                    0.22      -0.04         0.16       0.03    -0.08   \n",
       "\n",
       "                          odor  gill-attachment  gill-spacing  gill-size  \\\n",
       "class                    -0.09             0.13         -0.35       0.54   \n",
       "cap-shape                -0.02             0.08          0.01       0.05   \n",
       "cap-surface               0.05            -0.03         -0.28       0.21   \n",
       "cap-color                -0.39             0.04          0.14      -0.17   \n",
       "bruises                  -0.06             0.14         -0.30      -0.37   \n",
       "odor                      1.00            -0.06          0.06       0.31   \n",
       "gill-attachment          -0.06             1.00          0.07       0.11   \n",
       "gill-spacing              0.06             0.07          1.00      -0.11   \n",
       "gill-size                 0.31             0.11         -0.11       1.00   \n",
       "gill-color               -0.13            -0.13          0.10      -0.52   \n",
       "stalk-shape               0.46             0.19          0.08       0.21   \n",
       "stalk-root               -0.21             0.14          0.35      -0.34   \n",
       "stalk-surface-above-ring  0.12            -0.09         -0.21       0.06   \n",
       "stalk-surface-below-ring  0.06            -0.12         -0.21       0.01   \n",
       "stalk-color-above-ring    0.17             0.10          0.27       0.30   \n",
       "stalk-color-below-ring    0.17             0.10          0.25       0.28   \n",
       "veil-type                  nan              nan           nan        nan   \n",
       "veil-color               -0.06             0.90          0.07       0.10   \n",
       "ring-number               0.11             0.09          0.24      -0.17   \n",
       "ring-type                -0.28            -0.15         -0.20      -0.46   \n",
       "spore-print-color         0.47            -0.03          0.05       0.62   \n",
       "population               -0.04             0.17         -0.53       0.15   \n",
       "habitat                  -0.03            -0.03         -0.15       0.16   \n",
       "\n",
       "                          gill-color  stalk-shape  stalk-root  \\\n",
       "class                          -0.53        -0.10       -0.38   \n",
       "cap-shape                      -0.01         0.06        0.03   \n",
       "cap-surface                    -0.16        -0.01       -0.13   \n",
       "cap-color                       0.08        -0.46        0.32   \n",
       "bruises                         0.53         0.10        0.24   \n",
       "odor                           -0.13         0.46       -0.21   \n",
       "gill-attachment                -0.13         0.19        0.14   \n",
       "gill-spacing                    0.10         0.08        0.35   \n",
       "gill-size                      -0.52         0.21       -0.34   \n",
       "gill-color                      1.00        -0.18        0.32   \n",
       "stalk-shape                    -0.18         1.00       -0.16   \n",
       "stalk-root                      0.32        -0.16        1.00   \n",
       "stalk-surface-above-ring        0.22         0.02       -0.03   \n",
       "stalk-surface-below-ring        0.26        -0.03        0.09   \n",
       "stalk-color-above-ring         -0.06         0.22        0.16   \n",
       "stalk-color-below-ring         -0.07         0.24        0.16   \n",
       "veil-type                        nan          nan         nan   \n",
       "veil-color                     -0.10         0.16        0.16   \n",
       "ring-number                     0.10        -0.29       -0.25   \n",
       "ring-type                       0.63        -0.29        0.21   \n",
       "spore-print-color              -0.42         0.26       -0.54   \n",
       "population                     -0.03         0.09       -0.31   \n",
       "habitat                        -0.20        -0.27       -0.01   \n",
       "\n",
       "                          stalk-surface-above-ring  stalk-surface-below-ring  \\\n",
       "class                                        -0.33                     -0.30   \n",
       "cap-shape                                    -0.03                     -0.03   \n",
       "cap-surface                                   0.09                      0.11   \n",
       "cap-color                                    -0.06                     -0.05   \n",
       "bruises                                       0.46                      0.46   \n",
       "odor                                          0.12                      0.06   \n",
       "gill-attachment                              -0.09                     -0.12   \n",
       "gill-spacing                                 -0.21                     -0.21   \n",
       "gill-size                                     0.06                      0.01   \n",
       "gill-color                                    0.22                      0.26   \n",
       "stalk-shape                                   0.02                     -0.03   \n",
       "stalk-root                                   -0.03                      0.09   \n",
       "stalk-surface-above-ring                      1.00                      0.44   \n",
       "stalk-surface-below-ring                      0.44                      1.00   \n",
       "stalk-color-above-ring                        0.13                      0.11   \n",
       "stalk-color-below-ring                        0.14                      0.11   \n",
       "veil-type                                      nan                       nan   \n",
       "veil-color                                   -0.09                     -0.08   \n",
       "ring-number                                   0.11                      0.04   \n",
       "ring-type                                     0.39                      0.39   \n",
       "spore-print-color                             0.10                      0.13   \n",
       "population                                    0.08                      0.05   \n",
       "habitat                                      -0.06                     -0.04   \n",
       "\n",
       "                          stalk-color-above-ring  stalk-color-below-ring  \\\n",
       "class                                      -0.15                   -0.15   \n",
       "cap-shape                                  -0.03                   -0.03   \n",
       "cap-surface                                 0.07                    0.07   \n",
       "cap-color                                   0.00                    0.01   \n",
       "bruises                                     0.08                    0.09   \n",
       "odor                                        0.17                    0.17   \n",
       "gill-attachment                             0.10                    0.10   \n",
       "gill-spacing                                0.27                    0.25   \n",
       "gill-size                                   0.30                    0.28   \n",
       "gill-color                                 -0.06                   -0.07   \n",
       "stalk-shape                                 0.22                    0.24   \n",
       "stalk-root                                  0.16                    0.16   \n",
       "stalk-surface-above-ring                    0.13                    0.14   \n",
       "stalk-surface-below-ring                    0.11                    0.11   \n",
       "stalk-color-above-ring                      1.00                    0.49   \n",
       "stalk-color-below-ring                      0.49                    1.00   \n",
       "veil-type                                    nan                     nan   \n",
       "veil-color                                  0.07                    0.07   \n",
       "ring-number                                 0.08                    0.09   \n",
       "ring-type                                  -0.05                   -0.03   \n",
       "spore-print-color                           0.27                    0.25   \n",
       "population                                 -0.24                   -0.24   \n",
       "habitat                                     0.04                    0.04   \n",
       "\n",
       "                          veil-type  veil-color  ring-number  ring-type  \\\n",
       "class                           nan        0.15        -0.21      -0.41   \n",
       "cap-shape                       nan        0.07        -0.11      -0.03   \n",
       "cap-surface                     nan       -0.02        -0.03      -0.11   \n",
       "cap-color                       nan        0.04        -0.01       0.16   \n",
       "bruises                         nan        0.12         0.06       0.69   \n",
       "odor                            nan       -0.06         0.11      -0.28   \n",
       "gill-attachment                 nan        0.90         0.09      -0.15   \n",
       "gill-spacing                    nan        0.07         0.24      -0.20   \n",
       "gill-size                       nan        0.10        -0.17      -0.46   \n",
       "gill-color                      nan       -0.10         0.10       0.63   \n",
       "stalk-shape                     nan        0.16        -0.29      -0.29   \n",
       "stalk-root                      nan        0.16        -0.25       0.21   \n",
       "stalk-surface-above-ring        nan       -0.09         0.11       0.39   \n",
       "stalk-surface-below-ring        nan       -0.08         0.04       0.39   \n",
       "stalk-color-above-ring          nan        0.07         0.08      -0.05   \n",
       "stalk-color-below-ring          nan        0.07         0.09      -0.03   \n",
       "veil-type                       nan         nan          nan        nan   \n",
       "veil-color                      nan        1.00         0.04      -0.14   \n",
       "ring-number                     nan        0.04         1.00       0.06   \n",
       "ring-type                       nan       -0.14         0.06       1.00   \n",
       "spore-print-color               nan       -0.00         0.34      -0.49   \n",
       "population                      nan        0.12        -0.24       0.21   \n",
       "habitat                         nan       -0.04         0.24      -0.21   \n",
       "\n",
       "                          spore-print-color  population  habitat  \n",
       "class                                  0.17        0.30     0.22  \n",
       "cap-shape                             -0.07        0.06    -0.04  \n",
       "cap-surface                            0.23        0.02     0.16  \n",
       "cap-color                             -0.29       -0.14     0.03  \n",
       "bruises                               -0.29        0.09    -0.08  \n",
       "odor                                   0.47       -0.04    -0.03  \n",
       "gill-attachment                       -0.03        0.17    -0.03  \n",
       "gill-spacing                           0.05       -0.53    -0.15  \n",
       "gill-size                              0.62        0.15     0.16  \n",
       "gill-color                            -0.42       -0.03    -0.20  \n",
       "stalk-shape                            0.26        0.09    -0.27  \n",
       "stalk-root                            -0.54       -0.31    -0.01  \n",
       "stalk-surface-above-ring               0.10        0.08    -0.06  \n",
       "stalk-surface-below-ring               0.13        0.05    -0.04  \n",
       "stalk-color-above-ring                 0.27       -0.24     0.04  \n",
       "stalk-color-below-ring                 0.25       -0.24     0.04  \n",
       "veil-type                               nan         nan      nan  \n",
       "veil-color                            -0.00        0.12    -0.04  \n",
       "ring-number                            0.34       -0.24     0.24  \n",
       "ring-type                             -0.49        0.21    -0.21  \n",
       "spore-print-color                      1.00       -0.13     0.19  \n",
       "population                            -0.13        1.00    -0.17  \n",
       "habitat                                0.19       -0.17     1.00  "
      ]
     },
     "execution_count": 12,
     "metadata": {},
     "output_type": "execute_result"
    }
   ],
   "source": [
    "cor = df.corr()\n",
    "cor"
   ]
  },
  {
   "cell_type": "code",
   "execution_count": 13,
   "metadata": {},
   "outputs": [
    {
     "data": {
      "text/plain": [
       "gill-attachment           veil-color                 0.90\n",
       "bruises                   ring-type                  0.69\n",
       "gill-color                ring-type                  0.63\n",
       "gill-size                 spore-print-color          0.62\n",
       "class                     gill-size                  0.54\n",
       "stalk-root                spore-print-color          0.54\n",
       "class                     gill-color                 0.53\n",
       "gill-spacing              population                 0.53\n",
       "bruises                   gill-color                 0.53\n",
       "gill-size                 gill-color                 0.52\n",
       "class                     bruises                    0.50\n",
       "stalk-color-above-ring    stalk-color-below-ring     0.49\n",
       "ring-type                 spore-print-color          0.49\n",
       "odor                      spore-print-color          0.47\n",
       "gill-size                 ring-type                  0.46\n",
       "bruises                   stalk-surface-above-ring   0.46\n",
       "odor                      stalk-shape                0.46\n",
       "bruises                   stalk-surface-below-ring   0.46\n",
       "cap-color                 stalk-shape                0.46\n",
       "stalk-surface-above-ring  stalk-surface-below-ring   0.44\n",
       "dtype: float64"
      ]
     },
     "execution_count": 13,
     "metadata": {},
     "output_type": "execute_result"
    }
   ],
   "source": [
    "# Check for the colinearity between X variables\n",
    "cor[cor < 1].stack().abs().nlargest(40)[::2]"
   ]
  },
  {
   "cell_type": "markdown",
   "metadata": {},
   "source": []
  },
  {
   "cell_type": "code",
   "execution_count": 14,
   "metadata": {
    "scrolled": true
   },
   "outputs": [
    {
     "data": {
      "text/plain": [
       "cap-color                  0.03\n",
       "cap-shape                  0.05\n",
       "odor                       0.09\n",
       "stalk-shape                0.10\n",
       "gill-attachment            0.13\n",
       "veil-color                 0.15\n",
       "stalk-color-below-ring     0.15\n",
       "stalk-color-above-ring     0.15\n",
       "spore-print-color          0.17\n",
       "cap-surface                0.18\n",
       "ring-number                0.21\n",
       "habitat                    0.22\n",
       "population                 0.30\n",
       "stalk-surface-below-ring   0.30\n",
       "stalk-surface-above-ring   0.33\n",
       "gill-spacing               0.35\n",
       "stalk-root                 0.38\n",
       "ring-type                  0.41\n",
       "bruises                    0.50\n",
       "gill-color                 0.53\n",
       "gill-size                  0.54\n",
       "Name: class, dtype: float64"
      ]
     },
     "execution_count": 14,
     "metadata": {},
     "output_type": "execute_result"
    }
   ],
   "source": [
    "cor_class = cor['class']\n",
    "cor_class[cor_class < 1].abs().sort_values()"
   ]
  },
  {
   "cell_type": "markdown",
   "metadata": {},
   "source": [
    "Question: why odor is not strong correlation with class? "
   ]
  },
  {
   "cell_type": "code",
   "execution_count": 15,
   "metadata": {
    "scrolled": true
   },
   "outputs": [
    {
     "data": {
      "image/png": "[encoded data removed]",
      "text/plain": [
       "<Figure size 1440x1440 with 2 Axes>"
      ]
     },
     "metadata": {
      "needs_background": "light"
     },
     "output_type": "display_data"
    }
   ],
   "source": [
    "cor = df.corr()\n",
    "mask = np.triu(np.ones_like(cor, dtype=bool))\n",
    "f, ax = plt.subplots(figsize=(20, 20))\n",
    "cmap = sns.diverging_palette(230, 20, as_cmap=True)\n",
    "sns.heatmap(cor, mask=mask, cmap=cmap, vmax=.3, center=0,\n",
    "            square=True, linewidths=.5, cbar_kws={\"shrink\": .5});"
   ]
  },
  {
   "cell_type": "markdown",
   "metadata": {},
   "source": []
  },
  {
   "cell_type": "code",
   "execution_count": 16,
   "metadata": {},
   "outputs": [],
   "source": [
    "from numpy.core.defchararray import add"
   ]
  },
  {
   "cell_type": "code",
   "execution_count": 17,
   "metadata": {
    "scrolled": true
   },
   "outputs": [
    {
     "data": {
      "image/png": "[encoded data removed]",
      "text/plain": [
       "<Figure size 432x288 with 1 Axes>"
      ]
     },
     "metadata": {
      "needs_background": "light"
     },
     "output_type": "display_data"
    },
    {
     "data": {
      "image/png": "[encoded data removed]",
      "text/plain": [
       "<Figure size 432x288 with 1 Axes>"
      ]
     },
     "metadata": {
      "needs_background": "light"
     },
     "output_type": "display_data"
    },
    {
     "data": {
      "image/png": "[encoded data removed]",
      "text/plain": [
       "<Figure size 432x288 with 1 Axes>"
      ]
     },
     "metadata": {
      "needs_background": "light"
     },
     "output_type": "display_data"
    },
    {
     "data": {
      "image/png": "[encoded data removed]",
      "text/plain": [
       "<Figure size 432x288 with 1 Axes>"
      ]
     },
     "metadata": {
      "needs_background": "light"
     },
     "output_type": "display_data"
    },
    {
     "data": {
      "image/png": "[encoded data removed]",
      "text/plain": [
       "<Figure size 432x288 with 1 Axes>"
      ]
     },
     "metadata": {
      "needs_background": "light"
     },
     "output_type": "display_data"
    },
    {
     "data": {
      "image/png": "[encoded data removed]",
      "text/plain": [
       "<Figure size 432x288 with 1 Axes>"
      ]
     },
     "metadata": {
      "needs_background": "light"
     },
     "output_type": "display_data"
    },
    {
     "data": {
      "image/png": "[encoded data removed]",
      "text/plain": [
       "<Figure size 432x288 with 1 Axes>"
      ]
     },
     "metadata": {
      "needs_background": "light"
     },
     "output_type": "display_data"
    },
    {
     "data": {
      "image/png": "[encoded data removed]",
      "text/plain": [
       "<Figure size 432x288 with 1 Axes>"
      ]
     },
     "metadata": {
      "needs_background": "light"
     },
     "output_type": "display_data"
    },
    {
     "data": {
      "image/png": "[encoded data removed]",
      "text/plain": [
       "<Figure size 432x288 with 1 Axes>"
      ]
     },
     "metadata": {
      "needs_background": "light"
     },
     "output_type": "display_data"
    },
    {
     "data": {
      "image/png": "[encoded data removed]",
      "text/plain": [
       "<Figure size 432x288 with 1 Axes>"
      ]
     },
     "metadata": {
      "needs_background": "light"
     },
     "output_type": "display_data"
    },
    {
     "data": {
      "image/png": "[encoded data removed]",
      "text/plain": [
       "<Figure size 432x288 with 1 Axes>"
      ]
     },
     "metadata": {
      "needs_background": "light"
     },
     "output_type": "display_data"
    },
    {
     "data": {
      "image/png": "[encoded data removed]",
      "text/plain": [
       "<Figure size 432x288 with 1 Axes>"
      ]
     },
     "metadata": {
      "needs_background": "light"
     },
     "output_type": "display_data"
    },
    {
     "data": {
      "image/png": "[encoded data removed]",
      "text/plain": [
       "<Figure size 432x288 with 1 Axes>"
      ]
     },
     "metadata": {
      "needs_background": "light"
     },
     "output_type": "display_data"
    },
    {
     "data": {
      "image/png": "[encoded data removed]",
      "text/plain": [
       "<Figure size 432x288 with 1 Axes>"
      ]
     },
     "metadata": {
      "needs_background": "light"
     },
     "output_type": "display_data"
    },
    {
     "data": {
      "image/png": "[encoded data removed]",
      "text/plain": [
       "<Figure size 432x288 with 1 Axes>"
      ]
     },
     "metadata": {
      "needs_background": "light"
     },
     "output_type": "display_data"
    },
    {
     "data": {
      "image/png": "[encoded data removed]",
      "text/plain": [
       "<Figure size 432x288 with 1 Axes>"
      ]
     },
     "metadata": {
      "needs_background": "light"
     },
     "output_type": "display_data"
    },
    {
     "data": {
      "image/png": "[encoded data removed]",
      "text/plain": [
       "<Figure size 432x288 with 1 Axes>"
      ]
     },
     "metadata": {
      "needs_background": "light"
     },
     "output_type": "display_data"
    },
    {
     "data": {
      "image/png": "[encoded data removed]",
      "text/plain": [
       "<Figure size 432x288 with 1 Axes>"
      ]
     },
     "metadata": {
      "needs_background": "light"
     },
     "output_type": "display_data"
    },
    {
     "data": {
      "image/png": "[encoded data removed]",
      "text/plain": [
       "<Figure size 432x288 with 1 Axes>"
      ]
     },
     "metadata": {
      "needs_background": "light"
     },
     "output_type": "display_data"
    },
    {
     "data": {
      "image/png": "[encoded data removed]",
      "text/plain": [
       "<Figure size 432x288 with 1 Axes>"
      ]
     },
     "metadata": {
      "needs_background": "light"
     },
     "output_type": "display_data"
    },
    {
     "data": {
      "image/png": "[encoded data removed]",
      "text/plain": [
       "<Figure size 432x288 with 1 Axes>"
      ]
     },
     "metadata": {
      "needs_background": "light"
     },
     "output_type": "display_data"
    },
    {
     "data": {
      "image/png": "[encoded data removed]",
      "text/plain": [
       "<Figure size 432x288 with 1 Axes>"
      ]
     },
     "metadata": {
      "needs_background": "light"
     },
     "output_type": "display_data"
    },
    {
     "data": {
      "image/png": "[encoded data removed]",
      "text/plain": [
       "<Figure size 432x288 with 1 Axes>"
      ]
     },
     "metadata": {
      "needs_background": "light"
     },
     "output_type": "display_data"
    }
   ],
   "source": [
    "def histCompare(edf, pdf, feature):\n",
    "    '''Plot a dual histogram of edible and poisonous mushrooms for a \n",
    "    certain feature.\n",
    "    @param edf --> (pandas dataframe) a dataframe of edible mushrooms\n",
    "    @param pdf --> (pandas dataframe) a dataframe of poisonous mushrooms\n",
    "    @param feature --> (string) the name of the feature to be compared\n",
    "    '''\n",
    "    e_array = list(edf[feature])\n",
    "    p_array = list(pdf[feature])\n",
    "    plt.hist([e_array, p_array], color=['g', 'r'], alpha=0.5)\n",
    "    plt.xlabel(feature)\n",
    "    plt.title('Histogram (n = 8124)')\n",
    "    plt.legend(['Edible', 'Poisonous'])\n",
    "    plt.show()\n",
    "\n",
    "# read in .csv data as pandas dataframe\n",
    "mushroom_df = pd.read_csv('mushrooms.csv', encoding='utf-8')\n",
    "\n",
    "# separate dataframe by class\n",
    "edible_df = mushroom_df.loc[mushroom_df['class'] == 'e']\n",
    "poisonous_df = mushroom_df.loc[mushroom_df['class'] == 'p']\n",
    "\n",
    "# obtain list of features\n",
    "features = list(mushroom_df)\n",
    "\n",
    "# generate comparative histograms for each feature\n",
    "for feat in features:\n",
    "    histCompare(edible_df, poisonous_df, feat)"
   ]
  },
  {
   "cell_type": "markdown",
   "metadata": {},
   "source": [
    "Observations about the data:\n",
    "\n",
    "* We have a roughly equal number of positive (edible) and negative (poisonious) examples, so we don't need to worry about balancing each training batch with enough of both classes.\n",
    "\n",
    "* Without any formal test for correlation, stalk characteristics above and below the ring seem to be collinear. Let's omit the stalk features below the ring. Having redundant features will lead to overfitting.\n",
    "\n",
    "* Veil type and veil color are heavily skewed towards one of its categories, and the edibility of mushrooms don't seem to make a difference here. Let's omit these features too.\n",
    "\n",
    "* Odor, spore print color, gill color, gill size, stalk surface above/below ring, and bruises seem to have lots of valuable information in determining the edibility of a mushroom."
   ]
  },
  {
   "cell_type": "markdown",
   "metadata": {},
   "source": [
    "#### 3) Feature engineering"
   ]
  },
  {
   "cell_type": "markdown",
   "metadata": {},
   "source": [
    "Goals\n",
    "- Use dummy variables to represent categorical data containing > 2 categories\n",
    "- Use binary variables to represent features containing 2 categories\n",
    "- Omit collinear, heavily skewed, or otherwise flawed features\n"
   ]
  },
  {
   "cell_type": "markdown",
   "metadata": {},
   "source": [
    "Dummy Features: Cap shape, cap surface, cap color, odor, gill color, stalk root, stalk surface above ring, stalk color above ring, stalk color below ring, ring type, spore print color, population, and habitat.\n",
    "\n",
    "Binary Features: Class, bruises, gill attachment, gill spacing, gill size, stalk shape, and ring number.\n",
    "\n",
    "Omitted Features: Stalk surface below ring, veil type, veil color."
   ]
  },
  {
   "cell_type": "code",
   "execution_count": 18,
   "metadata": {},
   "outputs": [],
   "source": [
    "def encodeDummy(df, feature):\n",
    "    '''Encode a given feature into dummy variables, omitting the first\n",
    "    alphabetically-sorted category. Remove the original feature.\n",
    "    \n",
    "    @param df --> (pandas dataframe) dataframe to be modified\n",
    "    @param feature --> (str) name of feature\n",
    "    @return df --> (pandas dataframe) modified dataframe\n",
    "    '''\n",
    "    labels = np.unique(df[feature])\n",
    "    labels = add(feature, labels)\n",
    "    le = LabelEncoder()\n",
    "    dummy_labels = le.fit_transform(df[feature])\n",
    "    df[feature] = dummy_labels\n",
    "    dummy_features = pd.get_dummies(df[feature], drop_first=True)\n",
    "    df[labels[1:]] = dummy_features\n",
    "    return df.drop(feature, axis=1)\n",
    "    \n",
    "\n",
    "def encodeBinary(df, feature, positive):\n",
    "    '''Encode a given feature into a binary variable with 'positive' as 1 and\n",
    "    all other values as 0.\n",
    "    \n",
    "    @param df --> (pandas dataframe) dataframe to be modified\n",
    "    @param feature --> (str) name of feature\n",
    "    @param positive --> (str) category to be a positive binary\n",
    "    @return df --> (pandas dataframe) modified dataframe\n",
    "    '''\n",
    "    positive_arr = df[feature] == positive\n",
    "    df.loc[positive_arr, feature] = 1\n",
    "    df.loc[~positive_arr, feature] = 0\n",
    "    return df\n",
    "\n",
    "def encodeOmit(df, feature):\n",
    "    '''Omit feature from dataframe.\n",
    "    \n",
    "    @param df --> (pandas dataframe) dataframe to be modified\n",
    "    @param feature --> (str) name of feature\n",
    "    @return df --> (pandas dataframe) modified dataframe\n",
    "    '''\n",
    "    return df.drop(feature, axis=1)\n",
    "\n",
    "# read in .csv data as pandas dataframe\n",
    "mushroom_df = pd.read_csv('mushrooms.csv', encoding='utf-8')\n",
    "\n",
    "# select features to encode or omit\n",
    "my_dummies = ['cap-shape', 'cap-surface', 'cap-color', 'odor', 'gill-color',\n",
    "              'stalk-root', 'stalk-surface-above-ring', \n",
    "              'stalk-color-above-ring', 'ring-type', 'spore-print-color', \n",
    "              'population', 'habitat']\n",
    "\n",
    "my_binaries = [('class', 'e'), ('bruises', 't'), ('gill-attachment', 'f'),\n",
    "               ('gill-spacing', 'c'), ('gill-size', 'b'), ('stalk-shape', 't'), \n",
    "               ('ring-number', 'o')]\n",
    "\n",
    "my_omissions = ['stalk-surface-below-ring', 'stalk-color-below-ring',\n",
    "                'veil-type', 'veil-color']\n",
    "\n",
    "\n",
    "for feat in my_dummies:\n",
    "    mushroom_df = encodeDummy(mushroom_df, feat)\n",
    "for feat, pos in my_binaries:\n",
    "    mushroom_df = encodeBinary(mushroom_df, feat, pos)\n",
    "for feat in my_omissions:\n",
    "    mushroom_df = encodeOmit(mushroom_df, feat)\n",
    "\n",
    "\n",
    "mushroom_df.to_csv('mushrooms_encoded.csv')"
   ]
  },
  {
   "cell_type": "code",
   "execution_count": 19,
   "metadata": {},
   "outputs": [
    {
     "data": {
      "text/html": [
       "<div>\n",
       "<style scoped>\n",
       "    .dataframe tbody tr th:only-of-type {\n",
       "        vertical-align: middle;\n",
       "    }\n",
       "\n",
       "    .dataframe tbody tr th {\n",
       "        vertical-align: top;\n",
       "    }\n",
       "\n",
       "    .dataframe thead th {\n",
       "        text-align: right;\n",
       "    }\n",
       "</style>\n",
       "<table border=\"1\" class=\"dataframe\">\n",
       "  <thead>\n",
       "    <tr style=\"text-align: right;\">\n",
       "      <th></th>\n",
       "      <th>Unnamed: 0</th>\n",
       "      <th>class</th>\n",
       "      <th>bruises</th>\n",
       "      <th>gill-attachment</th>\n",
       "      <th>gill-spacing</th>\n",
       "      <th>gill-size</th>\n",
       "      <th>stalk-shape</th>\n",
       "      <th>ring-number</th>\n",
       "      <th>cap-shapec</th>\n",
       "      <th>cap-shapef</th>\n",
       "      <th>cap-shapek</th>\n",
       "      <th>cap-shapes</th>\n",
       "      <th>cap-shapex</th>\n",
       "      <th>cap-surfaceg</th>\n",
       "      <th>cap-surfaces</th>\n",
       "      <th>cap-surfacey</th>\n",
       "      <th>cap-colorc</th>\n",
       "      <th>cap-colore</th>\n",
       "      <th>cap-colorg</th>\n",
       "      <th>cap-colorn</th>\n",
       "      <th>cap-colorp</th>\n",
       "      <th>cap-colorr</th>\n",
       "      <th>cap-coloru</th>\n",
       "      <th>cap-colorw</th>\n",
       "      <th>cap-colory</th>\n",
       "      <th>odorc</th>\n",
       "      <th>odorf</th>\n",
       "      <th>odorl</th>\n",
       "      <th>odorm</th>\n",
       "      <th>odorn</th>\n",
       "      <th>odorp</th>\n",
       "      <th>odors</th>\n",
       "      <th>odory</th>\n",
       "      <th>gill-colore</th>\n",
       "      <th>gill-colorg</th>\n",
       "      <th>gill-colorh</th>\n",
       "      <th>gill-colork</th>\n",
       "      <th>gill-colorn</th>\n",
       "      <th>gill-coloro</th>\n",
       "      <th>gill-colorp</th>\n",
       "      <th>gill-colorr</th>\n",
       "      <th>gill-coloru</th>\n",
       "      <th>gill-colorw</th>\n",
       "      <th>gill-colory</th>\n",
       "      <th>stalk-rootb</th>\n",
       "      <th>stalk-rootc</th>\n",
       "      <th>stalk-roote</th>\n",
       "      <th>stalk-rootr</th>\n",
       "      <th>stalk-surface-above-ringk</th>\n",
       "      <th>stalk-surface-above-rings</th>\n",
       "      <th>stalk-surface-above-ringy</th>\n",
       "      <th>stalk-color-above-ringc</th>\n",
       "      <th>stalk-color-above-ringe</th>\n",
       "      <th>stalk-color-above-ringg</th>\n",
       "      <th>stalk-color-above-ringn</th>\n",
       "      <th>stalk-color-above-ringo</th>\n",
       "      <th>stalk-color-above-ringp</th>\n",
       "      <th>stalk-color-above-ringw</th>\n",
       "      <th>stalk-color-above-ringy</th>\n",
       "      <th>ring-typef</th>\n",
       "      <th>ring-typel</th>\n",
       "      <th>ring-typen</th>\n",
       "      <th>ring-typep</th>\n",
       "      <th>spore-print-colorh</th>\n",
       "      <th>spore-print-colork</th>\n",
       "      <th>spore-print-colorn</th>\n",
       "      <th>spore-print-coloro</th>\n",
       "      <th>spore-print-colorr</th>\n",
       "      <th>spore-print-coloru</th>\n",
       "      <th>spore-print-colorw</th>\n",
       "      <th>spore-print-colory</th>\n",
       "      <th>populationc</th>\n",
       "      <th>populationn</th>\n",
       "      <th>populations</th>\n",
       "      <th>populationv</th>\n",
       "      <th>populationy</th>\n",
       "      <th>habitatg</th>\n",
       "      <th>habitatl</th>\n",
       "      <th>habitatm</th>\n",
       "      <th>habitatp</th>\n",
       "      <th>habitatu</th>\n",
       "      <th>habitatw</th>\n",
       "    </tr>\n",
       "  </thead>\n",
       "  <tbody>\n",
       "    <tr>\n",
       "      <th>0</th>\n",
       "      <td>0</td>\n",
       "      <td>0</td>\n",
       "      <td>1</td>\n",
       "      <td>1</td>\n",
       "      <td>1</td>\n",
       "      <td>0</td>\n",
       "      <td>0</td>\n",
       "      <td>1</td>\n",
       "      <td>0</td>\n",
       "      <td>0</td>\n",
       "      <td>0</td>\n",
       "      <td>0</td>\n",
       "      <td>1</td>\n",
       "      <td>0</td>\n",
       "      <td>1</td>\n",
       "      <td>0</td>\n",
       "      <td>0</td>\n",
       "      <td>0</td>\n",
       "      <td>0</td>\n",
       "      <td>1</td>\n",
       "      <td>0</td>\n",
       "      <td>0</td>\n",
       "      <td>0</td>\n",
       "      <td>0</td>\n",
       "      <td>0</td>\n",
       "      <td>0</td>\n",
       "      <td>0</td>\n",
       "      <td>0</td>\n",
       "      <td>0</td>\n",
       "      <td>0</td>\n",
       "      <td>1</td>\n",
       "      <td>0</td>\n",
       "      <td>0</td>\n",
       "      <td>0</td>\n",
       "      <td>0</td>\n",
       "      <td>0</td>\n",
       "      <td>1</td>\n",
       "      <td>0</td>\n",
       "      <td>0</td>\n",
       "      <td>0</td>\n",
       "      <td>0</td>\n",
       "      <td>0</td>\n",
       "      <td>0</td>\n",
       "      <td>0</td>\n",
       "      <td>0</td>\n",
       "      <td>0</td>\n",
       "      <td>1</td>\n",
       "      <td>0</td>\n",
       "      <td>0</td>\n",
       "      <td>1</td>\n",
       "      <td>0</td>\n",
       "      <td>0</td>\n",
       "      <td>0</td>\n",
       "      <td>0</td>\n",
       "      <td>0</td>\n",
       "      <td>0</td>\n",
       "      <td>0</td>\n",
       "      <td>1</td>\n",
       "      <td>0</td>\n",
       "      <td>0</td>\n",
       "      <td>0</td>\n",
       "      <td>0</td>\n",
       "      <td>1</td>\n",
       "      <td>0</td>\n",
       "      <td>1</td>\n",
       "      <td>0</td>\n",
       "      <td>0</td>\n",
       "      <td>0</td>\n",
       "      <td>0</td>\n",
       "      <td>0</td>\n",
       "      <td>0</td>\n",
       "      <td>0</td>\n",
       "      <td>0</td>\n",
       "      <td>1</td>\n",
       "      <td>0</td>\n",
       "      <td>0</td>\n",
       "      <td>0</td>\n",
       "      <td>0</td>\n",
       "      <td>0</td>\n",
       "      <td>0</td>\n",
       "      <td>1</td>\n",
       "      <td>0</td>\n",
       "    </tr>\n",
       "    <tr>\n",
       "      <th>1</th>\n",
       "      <td>1</td>\n",
       "      <td>1</td>\n",
       "      <td>1</td>\n",
       "      <td>1</td>\n",
       "      <td>1</td>\n",
       "      <td>1</td>\n",
       "      <td>0</td>\n",
       "      <td>1</td>\n",
       "      <td>0</td>\n",
       "      <td>0</td>\n",
       "      <td>0</td>\n",
       "      <td>0</td>\n",
       "      <td>1</td>\n",
       "      <td>0</td>\n",
       "      <td>1</td>\n",
       "      <td>0</td>\n",
       "      <td>0</td>\n",
       "      <td>0</td>\n",
       "      <td>0</td>\n",
       "      <td>0</td>\n",
       "      <td>0</td>\n",
       "      <td>0</td>\n",
       "      <td>0</td>\n",
       "      <td>0</td>\n",
       "      <td>1</td>\n",
       "      <td>0</td>\n",
       "      <td>0</td>\n",
       "      <td>0</td>\n",
       "      <td>0</td>\n",
       "      <td>0</td>\n",
       "      <td>0</td>\n",
       "      <td>0</td>\n",
       "      <td>0</td>\n",
       "      <td>0</td>\n",
       "      <td>0</td>\n",
       "      <td>0</td>\n",
       "      <td>1</td>\n",
       "      <td>0</td>\n",
       "      <td>0</td>\n",
       "      <td>0</td>\n",
       "      <td>0</td>\n",
       "      <td>0</td>\n",
       "      <td>0</td>\n",
       "      <td>0</td>\n",
       "      <td>0</td>\n",
       "      <td>1</td>\n",
       "      <td>0</td>\n",
       "      <td>0</td>\n",
       "      <td>0</td>\n",
       "      <td>1</td>\n",
       "      <td>0</td>\n",
       "      <td>0</td>\n",
       "      <td>0</td>\n",
       "      <td>0</td>\n",
       "      <td>0</td>\n",
       "      <td>0</td>\n",
       "      <td>0</td>\n",
       "      <td>1</td>\n",
       "      <td>0</td>\n",
       "      <td>0</td>\n",
       "      <td>0</td>\n",
       "      <td>0</td>\n",
       "      <td>1</td>\n",
       "      <td>0</td>\n",
       "      <td>0</td>\n",
       "      <td>1</td>\n",
       "      <td>0</td>\n",
       "      <td>0</td>\n",
       "      <td>0</td>\n",
       "      <td>0</td>\n",
       "      <td>0</td>\n",
       "      <td>0</td>\n",
       "      <td>1</td>\n",
       "      <td>0</td>\n",
       "      <td>0</td>\n",
       "      <td>0</td>\n",
       "      <td>1</td>\n",
       "      <td>0</td>\n",
       "      <td>0</td>\n",
       "      <td>0</td>\n",
       "      <td>0</td>\n",
       "      <td>0</td>\n",
       "    </tr>\n",
       "    <tr>\n",
       "      <th>2</th>\n",
       "      <td>2</td>\n",
       "      <td>1</td>\n",
       "      <td>1</td>\n",
       "      <td>1</td>\n",
       "      <td>1</td>\n",
       "      <td>1</td>\n",
       "      <td>0</td>\n",
       "      <td>1</td>\n",
       "      <td>0</td>\n",
       "      <td>0</td>\n",
       "      <td>0</td>\n",
       "      <td>0</td>\n",
       "      <td>0</td>\n",
       "      <td>0</td>\n",
       "      <td>1</td>\n",
       "      <td>0</td>\n",
       "      <td>0</td>\n",
       "      <td>0</td>\n",
       "      <td>0</td>\n",
       "      <td>0</td>\n",
       "      <td>0</td>\n",
       "      <td>0</td>\n",
       "      <td>0</td>\n",
       "      <td>1</td>\n",
       "      <td>0</td>\n",
       "      <td>0</td>\n",
       "      <td>0</td>\n",
       "      <td>1</td>\n",
       "      <td>0</td>\n",
       "      <td>0</td>\n",
       "      <td>0</td>\n",
       "      <td>0</td>\n",
       "      <td>0</td>\n",
       "      <td>0</td>\n",
       "      <td>0</td>\n",
       "      <td>0</td>\n",
       "      <td>0</td>\n",
       "      <td>1</td>\n",
       "      <td>0</td>\n",
       "      <td>0</td>\n",
       "      <td>0</td>\n",
       "      <td>0</td>\n",
       "      <td>0</td>\n",
       "      <td>0</td>\n",
       "      <td>0</td>\n",
       "      <td>1</td>\n",
       "      <td>0</td>\n",
       "      <td>0</td>\n",
       "      <td>0</td>\n",
       "      <td>1</td>\n",
       "      <td>0</td>\n",
       "      <td>0</td>\n",
       "      <td>0</td>\n",
       "      <td>0</td>\n",
       "      <td>0</td>\n",
       "      <td>0</td>\n",
       "      <td>0</td>\n",
       "      <td>1</td>\n",
       "      <td>0</td>\n",
       "      <td>0</td>\n",
       "      <td>0</td>\n",
       "      <td>0</td>\n",
       "      <td>1</td>\n",
       "      <td>0</td>\n",
       "      <td>0</td>\n",
       "      <td>1</td>\n",
       "      <td>0</td>\n",
       "      <td>0</td>\n",
       "      <td>0</td>\n",
       "      <td>0</td>\n",
       "      <td>0</td>\n",
       "      <td>0</td>\n",
       "      <td>1</td>\n",
       "      <td>0</td>\n",
       "      <td>0</td>\n",
       "      <td>0</td>\n",
       "      <td>0</td>\n",
       "      <td>0</td>\n",
       "      <td>1</td>\n",
       "      <td>0</td>\n",
       "      <td>0</td>\n",
       "      <td>0</td>\n",
       "    </tr>\n",
       "    <tr>\n",
       "      <th>3</th>\n",
       "      <td>3</td>\n",
       "      <td>0</td>\n",
       "      <td>1</td>\n",
       "      <td>1</td>\n",
       "      <td>1</td>\n",
       "      <td>0</td>\n",
       "      <td>0</td>\n",
       "      <td>1</td>\n",
       "      <td>0</td>\n",
       "      <td>0</td>\n",
       "      <td>0</td>\n",
       "      <td>0</td>\n",
       "      <td>1</td>\n",
       "      <td>0</td>\n",
       "      <td>0</td>\n",
       "      <td>1</td>\n",
       "      <td>0</td>\n",
       "      <td>0</td>\n",
       "      <td>0</td>\n",
       "      <td>0</td>\n",
       "      <td>0</td>\n",
       "      <td>0</td>\n",
       "      <td>0</td>\n",
       "      <td>1</td>\n",
       "      <td>0</td>\n",
       "      <td>0</td>\n",
       "      <td>0</td>\n",
       "      <td>0</td>\n",
       "      <td>0</td>\n",
       "      <td>0</td>\n",
       "      <td>1</td>\n",
       "      <td>0</td>\n",
       "      <td>0</td>\n",
       "      <td>0</td>\n",
       "      <td>0</td>\n",
       "      <td>0</td>\n",
       "      <td>0</td>\n",
       "      <td>1</td>\n",
       "      <td>0</td>\n",
       "      <td>0</td>\n",
       "      <td>0</td>\n",
       "      <td>0</td>\n",
       "      <td>0</td>\n",
       "      <td>0</td>\n",
       "      <td>0</td>\n",
       "      <td>0</td>\n",
       "      <td>1</td>\n",
       "      <td>0</td>\n",
       "      <td>0</td>\n",
       "      <td>1</td>\n",
       "      <td>0</td>\n",
       "      <td>0</td>\n",
       "      <td>0</td>\n",
       "      <td>0</td>\n",
       "      <td>0</td>\n",
       "      <td>0</td>\n",
       "      <td>0</td>\n",
       "      <td>1</td>\n",
       "      <td>0</td>\n",
       "      <td>0</td>\n",
       "      <td>0</td>\n",
       "      <td>0</td>\n",
       "      <td>1</td>\n",
       "      <td>0</td>\n",
       "      <td>1</td>\n",
       "      <td>0</td>\n",
       "      <td>0</td>\n",
       "      <td>0</td>\n",
       "      <td>0</td>\n",
       "      <td>0</td>\n",
       "      <td>0</td>\n",
       "      <td>0</td>\n",
       "      <td>0</td>\n",
       "      <td>1</td>\n",
       "      <td>0</td>\n",
       "      <td>0</td>\n",
       "      <td>0</td>\n",
       "      <td>0</td>\n",
       "      <td>0</td>\n",
       "      <td>0</td>\n",
       "      <td>1</td>\n",
       "      <td>0</td>\n",
       "    </tr>\n",
       "    <tr>\n",
       "      <th>4</th>\n",
       "      <td>4</td>\n",
       "      <td>1</td>\n",
       "      <td>0</td>\n",
       "      <td>1</td>\n",
       "      <td>0</td>\n",
       "      <td>1</td>\n",
       "      <td>1</td>\n",
       "      <td>1</td>\n",
       "      <td>0</td>\n",
       "      <td>0</td>\n",
       "      <td>0</td>\n",
       "      <td>0</td>\n",
       "      <td>1</td>\n",
       "      <td>0</td>\n",
       "      <td>1</td>\n",
       "      <td>0</td>\n",
       "      <td>0</td>\n",
       "      <td>0</td>\n",
       "      <td>1</td>\n",
       "      <td>0</td>\n",
       "      <td>0</td>\n",
       "      <td>0</td>\n",
       "      <td>0</td>\n",
       "      <td>0</td>\n",
       "      <td>0</td>\n",
       "      <td>0</td>\n",
       "      <td>0</td>\n",
       "      <td>0</td>\n",
       "      <td>0</td>\n",
       "      <td>1</td>\n",
       "      <td>0</td>\n",
       "      <td>0</td>\n",
       "      <td>0</td>\n",
       "      <td>0</td>\n",
       "      <td>0</td>\n",
       "      <td>0</td>\n",
       "      <td>1</td>\n",
       "      <td>0</td>\n",
       "      <td>0</td>\n",
       "      <td>0</td>\n",
       "      <td>0</td>\n",
       "      <td>0</td>\n",
       "      <td>0</td>\n",
       "      <td>0</td>\n",
       "      <td>0</td>\n",
       "      <td>0</td>\n",
       "      <td>1</td>\n",
       "      <td>0</td>\n",
       "      <td>0</td>\n",
       "      <td>1</td>\n",
       "      <td>0</td>\n",
       "      <td>0</td>\n",
       "      <td>0</td>\n",
       "      <td>0</td>\n",
       "      <td>0</td>\n",
       "      <td>0</td>\n",
       "      <td>0</td>\n",
       "      <td>1</td>\n",
       "      <td>0</td>\n",
       "      <td>0</td>\n",
       "      <td>0</td>\n",
       "      <td>0</td>\n",
       "      <td>0</td>\n",
       "      <td>0</td>\n",
       "      <td>0</td>\n",
       "      <td>1</td>\n",
       "      <td>0</td>\n",
       "      <td>0</td>\n",
       "      <td>0</td>\n",
       "      <td>0</td>\n",
       "      <td>0</td>\n",
       "      <td>0</td>\n",
       "      <td>0</td>\n",
       "      <td>0</td>\n",
       "      <td>0</td>\n",
       "      <td>0</td>\n",
       "      <td>1</td>\n",
       "      <td>0</td>\n",
       "      <td>0</td>\n",
       "      <td>0</td>\n",
       "      <td>0</td>\n",
       "      <td>0</td>\n",
       "    </tr>\n",
       "  </tbody>\n",
       "</table>\n",
       "</div>"
      ],
      "text/plain": [
       "   Unnamed: 0  class  bruises  gill-attachment  gill-spacing  gill-size  \\\n",
       "0           0      0        1                1             1          0   \n",
       "1           1      1        1                1             1          1   \n",
       "2           2      1        1                1             1          1   \n",
       "3           3      0        1                1             1          0   \n",
       "4           4      1        0                1             0          1   \n",
       "\n",
       "   stalk-shape  ring-number  cap-shapec  cap-shapef  cap-shapek  cap-shapes  \\\n",
       "0            0            1           0           0           0           0   \n",
       "1            0            1           0           0           0           0   \n",
       "2            0            1           0           0           0           0   \n",
       "3            0            1           0           0           0           0   \n",
       "4            1            1           0           0           0           0   \n",
       "\n",
       "   cap-shapex  cap-surfaceg  cap-surfaces  cap-surfacey  cap-colorc  \\\n",
       "0           1             0             1             0           0   \n",
       "1           1             0             1             0           0   \n",
       "2           0             0             1             0           0   \n",
       "3           1             0             0             1           0   \n",
       "4           1             0             1             0           0   \n",
       "\n",
       "   cap-colore  cap-colorg  cap-colorn  cap-colorp  cap-colorr  cap-coloru  \\\n",
       "0           0           0           1           0           0           0   \n",
       "1           0           0           0           0           0           0   \n",
       "2           0           0           0           0           0           0   \n",
       "3           0           0           0           0           0           0   \n",
       "4           0           1           0           0           0           0   \n",
       "\n",
       "   cap-colorw  cap-colory  odorc  odorf  odorl  odorm  odorn  odorp  odors  \\\n",
       "0           0           0      0      0      0      0      0      1      0   \n",
       "1           0           1      0      0      0      0      0      0      0   \n",
       "2           1           0      0      0      1      0      0      0      0   \n",
       "3           1           0      0      0      0      0      0      1      0   \n",
       "4           0           0      0      0      0      0      1      0      0   \n",
       "\n",
       "   odory  gill-colore  gill-colorg  gill-colorh  gill-colork  gill-colorn  \\\n",
       "0      0            0            0            0            1            0   \n",
       "1      0            0            0            0            1            0   \n",
       "2      0            0            0            0            0            1   \n",
       "3      0            0            0            0            0            1   \n",
       "4      0            0            0            0            1            0   \n",
       "\n",
       "   gill-coloro  gill-colorp  gill-colorr  gill-coloru  gill-colorw  \\\n",
       "0            0            0            0            0            0   \n",
       "1            0            0            0            0            0   \n",
       "2            0            0            0            0            0   \n",
       "3            0            0            0            0            0   \n",
       "4            0            0            0            0            0   \n",
       "\n",
       "   gill-colory  stalk-rootb  stalk-rootc  stalk-roote  stalk-rootr  \\\n",
       "0            0            0            0            1            0   \n",
       "1            0            0            1            0            0   \n",
       "2            0            0            1            0            0   \n",
       "3            0            0            0            1            0   \n",
       "4            0            0            0            1            0   \n",
       "\n",
       "   stalk-surface-above-ringk  stalk-surface-above-rings  \\\n",
       "0                          0                          1   \n",
       "1                          0                          1   \n",
       "2                          0                          1   \n",
       "3                          0                          1   \n",
       "4                          0                          1   \n",
       "\n",
       "   stalk-surface-above-ringy  stalk-color-above-ringc  \\\n",
       "0                          0                        0   \n",
       "1                          0                        0   \n",
       "2                          0                        0   \n",
       "3                          0                        0   \n",
       "4                          0                        0   \n",
       "\n",
       "   stalk-color-above-ringe  stalk-color-above-ringg  stalk-color-above-ringn  \\\n",
       "0                        0                        0                        0   \n",
       "1                        0                        0                        0   \n",
       "2                        0                        0                        0   \n",
       "3                        0                        0                        0   \n",
       "4                        0                        0                        0   \n",
       "\n",
       "   stalk-color-above-ringo  stalk-color-above-ringp  stalk-color-above-ringw  \\\n",
       "0                        0                        0                        1   \n",
       "1                        0                        0                        1   \n",
       "2                        0                        0                        1   \n",
       "3                        0                        0                        1   \n",
       "4                        0                        0                        1   \n",
       "\n",
       "   stalk-color-above-ringy  ring-typef  ring-typel  ring-typen  ring-typep  \\\n",
       "0                        0           0           0           0           1   \n",
       "1                        0           0           0           0           1   \n",
       "2                        0           0           0           0           1   \n",
       "3                        0           0           0           0           1   \n",
       "4                        0           0           0           0           0   \n",
       "\n",
       "   spore-print-colorh  spore-print-colork  spore-print-colorn  \\\n",
       "0                   0                   1                   0   \n",
       "1                   0                   0                   1   \n",
       "2                   0                   0                   1   \n",
       "3                   0                   1                   0   \n",
       "4                   0                   0                   1   \n",
       "\n",
       "   spore-print-coloro  spore-print-colorr  spore-print-coloru  \\\n",
       "0                   0                   0                   0   \n",
       "1                   0                   0                   0   \n",
       "2                   0                   0                   0   \n",
       "3                   0                   0                   0   \n",
       "4                   0                   0                   0   \n",
       "\n",
       "   spore-print-colorw  spore-print-colory  populationc  populationn  \\\n",
       "0                   0                   0            0            0   \n",
       "1                   0                   0            0            1   \n",
       "2                   0                   0            0            1   \n",
       "3                   0                   0            0            0   \n",
       "4                   0                   0            0            0   \n",
       "\n",
       "   populations  populationv  populationy  habitatg  habitatl  habitatm  \\\n",
       "0            1            0            0         0         0         0   \n",
       "1            0            0            0         1         0         0   \n",
       "2            0            0            0         0         0         1   \n",
       "3            1            0            0         0         0         0   \n",
       "4            0            0            0         1         0         0   \n",
       "\n",
       "   habitatp  habitatu  habitatw  \n",
       "0         0         1         0  \n",
       "1         0         0         0  \n",
       "2         0         0         0  \n",
       "3         0         1         0  \n",
       "4         0         0         0  "
      ]
     },
     "execution_count": 19,
     "metadata": {},
     "output_type": "execute_result"
    }
   ],
   "source": [
    "data = pd.read_csv('mushrooms_encoded.csv')\n",
    "data.head()"
   ]
  },
  {
   "cell_type": "code",
   "execution_count": 20,
   "metadata": {},
   "outputs": [],
   "source": [
    "data = data.drop(data.columns[0], axis=1) # omit index column"
   ]
  },
  {
   "cell_type": "code",
   "execution_count": 21,
   "metadata": {},
   "outputs": [
    {
     "data": {
      "text/plain": [
       "(8124, 81)"
      ]
     },
     "execution_count": 21,
     "metadata": {},
     "output_type": "execute_result"
    }
   ],
   "source": [
    "data.shape"
   ]
  },
  {
   "cell_type": "markdown",
   "metadata": {},
   "source": [
    "## 4. Machine Learning Models"
   ]
  },
  {
   "cell_type": "markdown",
   "metadata": {},
   "source": [
    "### Logistic Regression Model"
   ]
  },
  {
   "cell_type": "code",
   "execution_count": 22,
   "metadata": {},
   "outputs": [],
   "source": [
    "from sklearn.linear_model import LogisticRegression\n",
    "from sklearn.metrics import confusion_matrix, recall_score, accuracy_score, roc_curve, precision_score, roc_auc_score, f1_score"
   ]
  },
  {
   "cell_type": "code",
   "execution_count": 23,
   "metadata": {},
   "outputs": [],
   "source": [
    "X = data.drop(['class'], axis=1)\n",
    "y = data['class']\n",
    "X_train, X_test, y_train, y_test = train_test_split(X, y, random_state=41)"
   ]
  },
  {
   "cell_type": "code",
   "execution_count": 24,
   "metadata": {},
   "outputs": [
    {
     "name": "stdout",
     "output_type": "stream",
     "text": [
      "Accuracy is: 0.999015263417036\n",
      "\n",
      "Confusion matrix:\n",
      "[[ 982    2]\n",
      " [   0 1047]]\n"
     ]
    }
   ],
   "source": [
    "clf = LogisticRegression(solver=\"lbfgs\").fit(X_train,y_train)\n",
    "predicted = clf.predict(X_test)\n",
    "predicted_proba = clf.predict(X_test)\n",
    "\n",
    "print(\"Accuracy is: \"+ str(clf.score(X_test,y_test)))\n",
    "print(\"\\nConfusion matrix:\")\n",
    "print(confusion_matrix(y_test, predicted))"
   ]
  },
  {
   "cell_type": "code",
   "execution_count": 25,
   "metadata": {},
   "outputs": [
    {
     "data": {
      "text/plain": [
       "0.9989837398373983"
      ]
     },
     "execution_count": 25,
     "metadata": {},
     "output_type": "execute_result"
    }
   ],
   "source": [
    "from sklearn.metrics import roc_curve, auc\n",
    "false_positive_rate, true_positive_rate, thresholds = roc_curve(y_test, predicted)\n",
    "roc_auc = auc(false_positive_rate, true_positive_rate)\n",
    "roc_auc"
   ]
  },
  {
   "cell_type": "code",
   "execution_count": 26,
   "metadata": {},
   "outputs": [
    {
     "data": {
      "text/plain": [
       "<Figure size 720x720 with 0 Axes>"
      ]
     },
     "execution_count": 26,
     "metadata": {},
     "output_type": "execute_result"
    },
    {
     "data": {
      "text/plain": [
       "Text(0.5, 1.0, 'Receiver Operating Characteristic')"
      ]
     },
     "execution_count": 26,
     "metadata": {},
     "output_type": "execute_result"
    },
    {
     "data": {
      "text/plain": [
       "[<matplotlib.lines.Line2D at 0x7f84d32ff160>]"
      ]
     },
     "execution_count": 26,
     "metadata": {},
     "output_type": "execute_result"
    },
    {
     "data": {
      "text/plain": [
       "<matplotlib.legend.Legend at 0x7f84d2c0ad60>"
      ]
     },
     "execution_count": 26,
     "metadata": {},
     "output_type": "execute_result"
    },
    {
     "data": {
      "text/plain": [
       "[<matplotlib.lines.Line2D at 0x7f84d32ffe80>]"
      ]
     },
     "execution_count": 26,
     "metadata": {},
     "output_type": "execute_result"
    },
    {
     "data": {
      "text/plain": [
       "(-0.05, 1.05, -0.05, 1.05)"
      ]
     },
     "execution_count": 26,
     "metadata": {},
     "output_type": "execute_result"
    },
    {
     "data": {
      "text/plain": [
       "Text(0, 0.5, 'True Positive Rate')"
      ]
     },
     "execution_count": 26,
     "metadata": {},
     "output_type": "execute_result"
    },
    {
     "data": {
      "text/plain": [
       "Text(0.5, 0, 'False Positive Rate')"
      ]
     },
     "execution_count": 26,
     "metadata": {},
     "output_type": "execute_result"
    },
    {
     "data": {
      "image/png": "[encoded data removed]",
      "text/plain": [
       "<Figure size 720x720 with 1 Axes>"
      ]
     },
     "metadata": {
      "needs_background": "light"
     },
     "output_type": "display_data"
    }
   ],
   "source": [
    "import matplotlib.pyplot as plt\n",
    "plt.figure(figsize=(10,10))\n",
    "plt.title('Receiver Operating Characteristic')\n",
    "plt.plot(false_positive_rate,true_positive_rate, color='red',label = 'AUC = %0.2f' % roc_auc)\n",
    "plt.legend(loc = 'lower right')\n",
    "plt.plot([0, 1], [0, 1],linestyle='--')\n",
    "plt.axis('tight')\n",
    "plt.ylabel('True Positive Rate')\n",
    "plt.xlabel('False Positive Rate')"
   ]
  },
  {
   "cell_type": "code",
   "execution_count": 27,
   "metadata": {},
   "outputs": [
    {
     "data": {
      "text/plain": [
       "GridSearchCV(cv=10, estimator=LogisticRegression(),\n",
       "             param_grid={'C': [0.001, 0.01, 0.1, 1, 10, 100, 1000],\n",
       "                         'penalty': ['l1', 'l2']})"
      ]
     },
     "execution_count": 27,
     "metadata": {},
     "output_type": "execute_result"
    },
    {
     "name": "stdout",
     "output_type": "stream",
     "text": [
      "{'C': 100, 'penalty': 'l2'}\n"
     ]
    },
    {
     "data": {
      "text/plain": [
       "1.0"
      ]
     },
     "execution_count": 27,
     "metadata": {},
     "output_type": "execute_result"
    },
    {
     "data": {
      "text/plain": [
       "array([[ 984,    0],\n",
       "       [   0, 1047]])"
      ]
     },
     "execution_count": 27,
     "metadata": {},
     "output_type": "execute_result"
    }
   ],
   "source": [
    "#Tuned model\n",
    "from sklearn.model_selection import cross_val_score\n",
    "from sklearn import metrics\n",
    "\n",
    "LR_model= LogisticRegression()\n",
    "\n",
    "tuned_parameters = {'C': [0.001, 0.01, 0.1, 1, 10, 100, 1000] ,\n",
    "                    'penalty':['l1','l2']\n",
    "                   }\n",
    "\n",
    "from sklearn.model_selection import GridSearchCV\n",
    "LR= GridSearchCV(LR_model, tuned_parameters,cv=10)\n",
    "\n",
    "LR.fit(X_train,y_train)\n",
    "\n",
    "print(LR.best_params_)\n",
    "\n",
    "y_prob = LR.predict_proba(X_test)[:,1] # This will give you positive class prediction probabilities  \n",
    "y_pred = np.where(y_prob > 0.5, 1, 0) # This will threshold the probabilities to give class predictions.\n",
    "LR.score(X_test, y_test)      #LR.score(X_test, y_pred)?\n",
    "\n",
    "confusion_matrix=metrics.confusion_matrix(y_test,y_pred)\n",
    "confusion_matrix"
   ]
  },
  {
   "cell_type": "code",
   "execution_count": 28,
   "metadata": {},
   "outputs": [
    {
     "name": "stdout",
     "output_type": "stream",
     "text": [
      "Accuracy is: 1.0\n"
     ]
    }
   ],
   "source": [
    "LR_model= LogisticRegression(C=100)\n",
    "\n",
    "clf2 = LR_model.fit(X_train,y_train)\n",
    "\n",
    "print(\"Accuracy is: \"+ str(clf2.score(X_test,y_test)))"
   ]
  },
  {
   "cell_type": "code",
   "execution_count": 29,
   "metadata": {},
   "outputs": [
    {
     "data": {
      "text/plain": [
       "0.9989837398373983"
      ]
     },
     "execution_count": 29,
     "metadata": {},
     "output_type": "execute_result"
    }
   ],
   "source": [
    "from sklearn.metrics import roc_curve, auc\n",
    "false_positive_rate, true_positive_rate, thresholds = roc_curve(y_test, predicted)\n",
    "roc_auc = auc(false_positive_rate, true_positive_rate)\n",
    "roc_auc"
   ]
  },
  {
   "cell_type": "code",
   "execution_count": 30,
   "metadata": {},
   "outputs": [
    {
     "data": {
      "text/plain": [
       "<Figure size 720x720 with 0 Axes>"
      ]
     },
     "execution_count": 30,
     "metadata": {},
     "output_type": "execute_result"
    },
    {
     "data": {
      "text/plain": [
       "Text(0.5, 1.0, 'Receiver Operating Characteristic')"
      ]
     },
     "execution_count": 30,
     "metadata": {},
     "output_type": "execute_result"
    },
    {
     "data": {
      "text/plain": [
       "[<matplotlib.lines.Line2D at 0x7f84d3def070>]"
      ]
     },
     "execution_count": 30,
     "metadata": {},
     "output_type": "execute_result"
    },
    {
     "data": {
      "text/plain": [
       "<matplotlib.legend.Legend at 0x7f84d3cbae50>"
      ]
     },
     "execution_count": 30,
     "metadata": {},
     "output_type": "execute_result"
    },
    {
     "data": {
      "text/plain": [
       "[<matplotlib.lines.Line2D at 0x7f84d3cb4460>]"
      ]
     },
     "execution_count": 30,
     "metadata": {},
     "output_type": "execute_result"
    },
    {
     "data": {
      "text/plain": [
       "(-0.05, 1.05, -0.05, 1.05)"
      ]
     },
     "execution_count": 30,
     "metadata": {},
     "output_type": "execute_result"
    },
    {
     "data": {
      "text/plain": [
       "Text(0, 0.5, 'True Positive Rate')"
      ]
     },
     "execution_count": 30,
     "metadata": {},
     "output_type": "execute_result"
    },
    {
     "data": {
      "text/plain": [
       "Text(0.5, 0, 'False Positive Rate')"
      ]
     },
     "execution_count": 30,
     "metadata": {},
     "output_type": "execute_result"
    },
    {
     "data": {
      "image/png": "[encoded data removed]",
      "text/plain": [
       "<Figure size 720x720 with 1 Axes>"
      ]
     },
     "metadata": {
      "needs_background": "light"
     },
     "output_type": "display_data"
    }
   ],
   "source": [
    "import matplotlib.pyplot as plt\n",
    "plt.figure(figsize=(10,10))\n",
    "plt.title('Receiver Operating Characteristic')\n",
    "plt.plot(false_positive_rate,true_positive_rate, color='red',label = 'AUC = %0.2f' % roc_auc)\n",
    "plt.legend(loc = 'lower right')\n",
    "plt.plot([0, 1], [0, 1],linestyle='--')\n",
    "plt.axis('tight')\n",
    "plt.ylabel('True Positive Rate')\n",
    "plt.xlabel('False Positive Rate')"
   ]
  },
  {
   "cell_type": "code",
   "execution_count": 31,
   "metadata": {
    "scrolled": true
   },
   "outputs": [
    {
     "data": {
      "text/plain": [
       "<AxesSubplot:ylabel='name'>"
      ]
     },
     "execution_count": 31,
     "metadata": {},
     "output_type": "execute_result"
    },
    {
     "data": {
      "text/plain": [
       "Text(0, 0.5, 'variable name')"
      ]
     },
     "execution_count": 31,
     "metadata": {},
     "output_type": "execute_result"
    },
    {
     "data": {
      "text/plain": [
       "Text(0.5, 1.0, 'Classification - TOP20 features (importance)')"
      ]
     },
     "execution_count": 31,
     "metadata": {},
     "output_type": "execute_result"
    },
    {
     "data": {
      "image/png": "[encoded data removed]",
      "text/plain": [
       "<Figure size 864x360 with 1 Axes>"
      ]
     },
     "metadata": {
      "needs_background": "light"
     },
     "output_type": "display_data"
    }
   ],
   "source": [
    "values = clf.coef_[0]\n",
    "names = X_train.columns\n",
    "\n",
    "importance = pd.DataFrame({\"value\": values, \"name\": names}).sort_values(\"value\")\n",
    "importance = importance.set_index(\"name\")\n",
    "\n",
    "# TOP20 FACTORS\n",
    "top20 = pd.concat([importance[\"value\"].head(10),importance[\"value\"].tail(10)])\n",
    "\n",
    "fig, ax = plt.subplots(figsize=(12,5), gridspec_kw={\"top\": 0.90, \"bottom\":0.05, \"left\":0.2})\n",
    "\n",
    "top20.plot.barh(ax=ax)\n",
    "\n",
    "plt.rcParams['axes.axisbelow'] = True\n",
    "plt.ylabel(\"variable name\")\n",
    "plt.grid(True)\n",
    "plt.title(\"Classification - TOP20 features (importance)\")"
   ]
  },
  {
   "cell_type": "code",
   "execution_count": 32,
   "metadata": {
    "scrolled": true
   },
   "outputs": [
    {
     "data": {
      "text/plain": [
       "name\n",
       "odorn                        4.12\n",
       "gill-size                    3.54\n",
       "spore-print-coloru           2.11\n",
       "spore-print-colorn           1.89\n",
       "ring-typef                   1.82\n",
       "habitatw                     1.69\n",
       "spore-print-colork           1.57\n",
       "odorl                        1.50\n",
       "stalk-rootc                  1.45\n",
       "populationy                  1.36\n",
       "cap-colorc                   1.27\n",
       "populationn                  1.07\n",
       "stalk-surface-above-rings    0.86\n",
       "stalk-shape                  0.84\n",
       "stalk-rootr                  0.83\n",
       "gill-colore                  0.76\n",
       "gill-colorn                  0.75\n",
       "stalk-color-above-ringo      0.67\n",
       "stalk-color-above-ringe      0.66\n",
       "cap-shapes                   0.63\n",
       "gill-colorp                  0.61\n",
       "gill-colork                  0.59\n",
       "gill-colorw                  0.58\n",
       "cap-coloru                   0.54\n",
       "cap-colorn                   0.53\n",
       "cap-colorr                   0.50\n",
       "bruises                      0.43\n",
       "gill-coloru                  0.36\n",
       "stalk-color-above-ringg      0.34\n",
       "stalk-color-above-ringn      0.31\n",
       "cap-shapex                   0.30\n",
       "ring-typep                   0.29\n",
       "cap-colory                   0.26\n",
       "spore-print-colory           0.23\n",
       "spore-print-coloro           0.22\n",
       "gill-coloro                  0.22\n",
       "gill-colorg                  0.21\n",
       "stalk-color-above-ringw      0.20\n",
       "cap-shapef                   0.15\n",
       "cap-shapek                   0.07\n",
       "habitatp                     0.04\n",
       "cap-colorg                   0.01\n",
       "habitatl                    -0.04\n",
       "gill-colory                 -0.09\n",
       "cap-colore                  -0.10\n",
       "ring-number                 -0.12\n",
       "gill-colorh                 -0.14\n",
       "populations                 -0.16\n",
       "cap-colorw                  -0.25\n",
       "populationv                 -0.38\n",
       "ring-typen                  -0.39\n",
       "stalk-color-above-ringc     -0.39\n",
       "odorm                       -0.39\n",
       "stalk-color-above-ringp     -0.41\n",
       "gill-attachment             -0.42\n",
       "ring-typel                  -0.55\n",
       "habitatu                    -0.57\n",
       "habitatm                    -0.59\n",
       "cap-surfacey                -0.64\n",
       "cap-surfaces                -0.64\n",
       "cap-shapec                  -0.65\n",
       "habitatg                    -0.65\n",
       "stalk-roote                 -0.65\n",
       "stalk-surface-above-ringy   -0.66\n",
       "cap-colorp                  -0.79\n",
       "spore-print-colorh          -0.84\n",
       "gill-colorr                 -0.85\n",
       "cap-surfaceg                -0.94\n",
       "spore-print-colorw          -1.03\n",
       "stalk-color-above-ringy     -1.23\n",
       "odory                       -1.35\n",
       "odors                       -1.38\n",
       "stalk-rootb                 -1.87\n",
       "populationc                 -1.93\n",
       "stalk-surface-above-ringk   -2.10\n",
       "odorp                       -2.80\n",
       "odorf                       -2.94\n",
       "gill-spacing                -3.14\n",
       "odorc                       -3.58\n",
       "spore-print-colorr          -4.34\n",
       "Name: value, dtype: float64"
      ]
     },
     "execution_count": 32,
     "metadata": {},
     "output_type": "execute_result"
    }
   ],
   "source": [
    "Importance_Ranking = pd.concat([importance[\"value\"].head(40),importance[\"value\"].tail(40)]).sort_values(ascending=False)\n",
    "Importance_Ranking"
   ]
  },
  {
   "cell_type": "markdown",
   "metadata": {},
   "source": [
    "### Naive Bayes Model"
   ]
  },
  {
   "cell_type": "code",
   "execution_count": 33,
   "metadata": {},
   "outputs": [
    {
     "data": {
      "text/plain": [
       "GaussianNB()"
      ]
     },
     "execution_count": 33,
     "metadata": {},
     "output_type": "execute_result"
    }
   ],
   "source": [
    "from sklearn.naive_bayes import GaussianNB\n",
    "model_naive = GaussianNB()\n",
    "model_naive.fit(X_train, y_train)"
   ]
  },
  {
   "cell_type": "code",
   "execution_count": 34,
   "metadata": {},
   "outputs": [
    {
     "data": {
      "text/plain": [
       "0.9901526341703595"
      ]
     },
     "execution_count": 34,
     "metadata": {},
     "output_type": "execute_result"
    }
   ],
   "source": [
    "y_prob = model_naive.predict_proba(X_test)[:,1] # This will give you positive class prediction probabilities  \n",
    "y_pred = np.where(y_prob > 0.5, 1, 0) # This will threshold the probabilities to give class predictions.\n",
    "model_naive.score(X_test, y_test)\n"
   ]
  },
  {
   "cell_type": "code",
   "execution_count": 35,
   "metadata": {},
   "outputs": [
    {
     "data": {
      "text/plain": [
       "array([[ 984,    0],\n",
       "       [  20, 1027]])"
      ]
     },
     "execution_count": 35,
     "metadata": {},
     "output_type": "execute_result"
    }
   ],
   "source": [
    "confusion_matrix=metrics.confusion_matrix(y_test,y_pred)\n",
    "confusion_matrix"
   ]
  },
  {
   "cell_type": "code",
   "execution_count": 36,
   "metadata": {},
   "outputs": [
    {
     "data": {
      "text/plain": [
       "0.9904489016236867"
      ]
     },
     "execution_count": 36,
     "metadata": {},
     "output_type": "execute_result"
    }
   ],
   "source": [
    "auc_roc=metrics.roc_auc_score(y_test,y_pred)\n",
    "auc_roc"
   ]
  },
  {
   "cell_type": "markdown",
   "metadata": {},
   "source": [
    "### Random Forest Model"
   ]
  },
  {
   "cell_type": "code",
   "execution_count": 37,
   "metadata": {},
   "outputs": [],
   "source": [
    "from sklearn.ensemble import RandomForestClassifier\n",
    "rf = RandomForestClassifier(max_depth = 5)"
   ]
  },
  {
   "cell_type": "code",
   "execution_count": 38,
   "metadata": {},
   "outputs": [
    {
     "data": {
      "text/plain": [
       "RandomForestClassifier(max_depth=5)"
      ]
     },
     "execution_count": 38,
     "metadata": {},
     "output_type": "execute_result"
    },
    {
     "data": {
      "text/plain": [
       "0.9926144756277696"
      ]
     },
     "execution_count": 38,
     "metadata": {},
     "output_type": "execute_result"
    }
   ],
   "source": [
    "rf.fit(X_train , y_train)\n",
    "rf.score(X_train , y_train)"
   ]
  },
  {
   "cell_type": "code",
   "execution_count": 39,
   "metadata": {},
   "outputs": [
    {
     "data": {
      "text/plain": [
       "0.9881831610044313"
      ]
     },
     "execution_count": 39,
     "metadata": {},
     "output_type": "execute_result"
    }
   ],
   "source": [
    "predictions = rf.predict(X_test)\n",
    "rf.score(X_test , y_test)"
   ]
  },
  {
   "cell_type": "code",
   "execution_count": 40,
   "metadata": {},
   "outputs": [
    {
     "data": {
      "text/plain": [
       "0.9881831610044313"
      ]
     },
     "execution_count": 40,
     "metadata": {},
     "output_type": "execute_result"
    }
   ],
   "source": [
    "accuracy_score(y_test , predictions)  #The same as above"
   ]
  },
  {
   "cell_type": "markdown",
   "metadata": {},
   "source": [
    "### Decision Tree"
   ]
  },
  {
   "cell_type": "code",
   "execution_count": 41,
   "metadata": {},
   "outputs": [
    {
     "data": {
      "text/html": [
       "<div>\n",
       "<style scoped>\n",
       "    .dataframe tbody tr th:only-of-type {\n",
       "        vertical-align: middle;\n",
       "    }\n",
       "\n",
       "    .dataframe tbody tr th {\n",
       "        vertical-align: top;\n",
       "    }\n",
       "\n",
       "    .dataframe thead th {\n",
       "        text-align: right;\n",
       "    }\n",
       "</style>\n",
       "<table border=\"1\" class=\"dataframe\">\n",
       "  <thead>\n",
       "    <tr style=\"text-align: right;\">\n",
       "      <th></th>\n",
       "      <th>cap-shape</th>\n",
       "      <th>cap-surface</th>\n",
       "      <th>cap-color</th>\n",
       "      <th>bruises</th>\n",
       "      <th>odor</th>\n",
       "      <th>gill-attachment</th>\n",
       "      <th>gill-spacing</th>\n",
       "      <th>gill-size</th>\n",
       "      <th>gill-color</th>\n",
       "      <th>stalk-shape</th>\n",
       "      <th>stalk-root</th>\n",
       "      <th>stalk-surface-above-ring</th>\n",
       "      <th>stalk-surface-below-ring</th>\n",
       "      <th>stalk-color-above-ring</th>\n",
       "      <th>stalk-color-below-ring</th>\n",
       "      <th>veil-type</th>\n",
       "      <th>veil-color</th>\n",
       "      <th>ring-number</th>\n",
       "      <th>ring-type</th>\n",
       "      <th>spore-print-color</th>\n",
       "      <th>population</th>\n",
       "      <th>habitat</th>\n",
       "    </tr>\n",
       "  </thead>\n",
       "  <tbody>\n",
       "    <tr>\n",
       "      <th>0</th>\n",
       "      <td>5</td>\n",
       "      <td>2</td>\n",
       "      <td>4</td>\n",
       "      <td>1</td>\n",
       "      <td>6</td>\n",
       "      <td>1</td>\n",
       "      <td>0</td>\n",
       "      <td>1</td>\n",
       "      <td>4</td>\n",
       "      <td>0</td>\n",
       "      <td>3</td>\n",
       "      <td>2</td>\n",
       "      <td>2</td>\n",
       "      <td>7</td>\n",
       "      <td>7</td>\n",
       "      <td>0</td>\n",
       "      <td>2</td>\n",
       "      <td>1</td>\n",
       "      <td>4</td>\n",
       "      <td>2</td>\n",
       "      <td>3</td>\n",
       "      <td>5</td>\n",
       "    </tr>\n",
       "    <tr>\n",
       "      <th>1</th>\n",
       "      <td>5</td>\n",
       "      <td>2</td>\n",
       "      <td>9</td>\n",
       "      <td>1</td>\n",
       "      <td>0</td>\n",
       "      <td>1</td>\n",
       "      <td>0</td>\n",
       "      <td>0</td>\n",
       "      <td>4</td>\n",
       "      <td>0</td>\n",
       "      <td>2</td>\n",
       "      <td>2</td>\n",
       "      <td>2</td>\n",
       "      <td>7</td>\n",
       "      <td>7</td>\n",
       "      <td>0</td>\n",
       "      <td>2</td>\n",
       "      <td>1</td>\n",
       "      <td>4</td>\n",
       "      <td>3</td>\n",
       "      <td>2</td>\n",
       "      <td>1</td>\n",
       "    </tr>\n",
       "    <tr>\n",
       "      <th>2</th>\n",
       "      <td>0</td>\n",
       "      <td>2</td>\n",
       "      <td>8</td>\n",
       "      <td>1</td>\n",
       "      <td>3</td>\n",
       "      <td>1</td>\n",
       "      <td>0</td>\n",
       "      <td>0</td>\n",
       "      <td>5</td>\n",
       "      <td>0</td>\n",
       "      <td>2</td>\n",
       "      <td>2</td>\n",
       "      <td>2</td>\n",
       "      <td>7</td>\n",
       "      <td>7</td>\n",
       "      <td>0</td>\n",
       "      <td>2</td>\n",
       "      <td>1</td>\n",
       "      <td>4</td>\n",
       "      <td>3</td>\n",
       "      <td>2</td>\n",
       "      <td>3</td>\n",
       "    </tr>\n",
       "    <tr>\n",
       "      <th>3</th>\n",
       "      <td>5</td>\n",
       "      <td>3</td>\n",
       "      <td>8</td>\n",
       "      <td>1</td>\n",
       "      <td>6</td>\n",
       "      <td>1</td>\n",
       "      <td>0</td>\n",
       "      <td>1</td>\n",
       "      <td>5</td>\n",
       "      <td>0</td>\n",
       "      <td>3</td>\n",
       "      <td>2</td>\n",
       "      <td>2</td>\n",
       "      <td>7</td>\n",
       "      <td>7</td>\n",
       "      <td>0</td>\n",
       "      <td>2</td>\n",
       "      <td>1</td>\n",
       "      <td>4</td>\n",
       "      <td>2</td>\n",
       "      <td>3</td>\n",
       "      <td>5</td>\n",
       "    </tr>\n",
       "    <tr>\n",
       "      <th>4</th>\n",
       "      <td>5</td>\n",
       "      <td>2</td>\n",
       "      <td>3</td>\n",
       "      <td>0</td>\n",
       "      <td>5</td>\n",
       "      <td>1</td>\n",
       "      <td>1</td>\n",
       "      <td>0</td>\n",
       "      <td>4</td>\n",
       "      <td>1</td>\n",
       "      <td>3</td>\n",
       "      <td>2</td>\n",
       "      <td>2</td>\n",
       "      <td>7</td>\n",
       "      <td>7</td>\n",
       "      <td>0</td>\n",
       "      <td>2</td>\n",
       "      <td>1</td>\n",
       "      <td>0</td>\n",
       "      <td>3</td>\n",
       "      <td>0</td>\n",
       "      <td>1</td>\n",
       "    </tr>\n",
       "  </tbody>\n",
       "</table>\n",
       "</div>"
      ],
      "text/plain": [
       "   cap-shape  cap-surface  cap-color  bruises  odor  gill-attachment  \\\n",
       "0          5            2          4        1     6                1   \n",
       "1          5            2          9        1     0                1   \n",
       "2          0            2          8        1     3                1   \n",
       "3          5            3          8        1     6                1   \n",
       "4          5            2          3        0     5                1   \n",
       "\n",
       "   gill-spacing  gill-size  gill-color  stalk-shape  stalk-root  \\\n",
       "0             0          1           4            0           3   \n",
       "1             0          0           4            0           2   \n",
       "2             0          0           5            0           2   \n",
       "3             0          1           5            0           3   \n",
       "4             1          0           4            1           3   \n",
       "\n",
       "   stalk-surface-above-ring  stalk-surface-below-ring  stalk-color-above-ring  \\\n",
       "0                         2                         2                       7   \n",
       "1                         2                         2                       7   \n",
       "2                         2                         2                       7   \n",
       "3                         2                         2                       7   \n",
       "4                         2                         2                       7   \n",
       "\n",
       "   stalk-color-below-ring  veil-type  veil-color  ring-number  ring-type  \\\n",
       "0                       7          0           2            1          4   \n",
       "1                       7          0           2            1          4   \n",
       "2                       7          0           2            1          4   \n",
       "3                       7          0           2            1          4   \n",
       "4                       7          0           2            1          0   \n",
       "\n",
       "   spore-print-color  population  habitat  \n",
       "0                  2           3        5  \n",
       "1                  3           2        1  \n",
       "2                  3           2        3  \n",
       "3                  2           3        5  \n",
       "4                  3           0        1  "
      ]
     },
     "execution_count": 41,
     "metadata": {},
     "output_type": "execute_result"
    },
    {
     "data": {
      "text/plain": [
       "0    1\n",
       "1    0\n",
       "2    0\n",
       "3    1\n",
       "4    0\n",
       "Name: class, dtype: int64"
      ]
     },
     "execution_count": 41,
     "metadata": {},
     "output_type": "execute_result"
    }
   ],
   "source": [
    "X = df.drop(['class'], axis=1) #切换dataset to df\n",
    "y = df['class']\n",
    "\n",
    "X.head()\n",
    "y.head()"
   ]
  },
  {
   "cell_type": "code",
   "execution_count": 42,
   "metadata": {},
   "outputs": [
    {
     "data": {
      "text/plain": [
       "(6499, 22)"
      ]
     },
     "execution_count": 42,
     "metadata": {},
     "output_type": "execute_result"
    }
   ],
   "source": [
    "from sklearn.model_selection import train_test_split\n",
    "X_train, X_test, y_train, y_test = train_test_split(X,y,test_size=0.2,random_state=4)\n",
    "X_train.shape"
   ]
  },
  {
   "cell_type": "code",
   "execution_count": 43,
   "metadata": {},
   "outputs": [
    {
     "data": {
      "text/plain": [
       "1.0"
      ]
     },
     "execution_count": 43,
     "metadata": {},
     "output_type": "execute_result"
    }
   ],
   "source": [
    "clf=tree.DecisionTreeClassifier(criterion='entropy')\n",
    "clf=clf.fit(X_train,y_train)\n",
    "score=clf.score(X_test,y_test)\n",
    "score"
   ]
  },
  {
   "cell_type": "code",
   "execution_count": 44,
   "metadata": {},
   "outputs": [
    {
     "data": {
      "text/plain": [
       "array([0.        , 0.        , 0.        , 0.02716279, 0.02397249,\n",
       "       0.        , 0.        , 0.14621746, 0.26817376, 0.        ,\n",
       "       0.09930023, 0.        , 0.        , 0.        , 0.        ,\n",
       "       0.        , 0.        , 0.        , 0.        , 0.38651374,\n",
       "       0.02185554, 0.026804  ])"
      ]
     },
     "execution_count": 44,
     "metadata": {},
     "output_type": "execute_result"
    }
   ],
   "source": [
    "clf.feature_importances_  "
   ]
  },
  {
   "cell_type": "code",
   "execution_count": 45,
   "metadata": {},
   "outputs": [
    {
     "name": "stdout",
     "output_type": "stream",
     "text": [
      "22\n"
     ]
    }
   ],
   "source": [
    "feature_name=['cap-shape','cap-surface','cap-color','bruises','odor','gill-attachment','gill-spacing','gill-size','gill-color','stalk-shape'\n",
    "              ,'stalk-root','stalk-surface-above-ring','stalk-surface-below-ring','stalk-color-above-ring','stalk-color-below-ring','veil-type'\n",
    "              ,'veil-color','ring-number','ring-type','spore-print-color','population','habitat']\n",
    "print(len(feature_name))"
   ]
  },
  {
   "cell_type": "code",
   "execution_count": 46,
   "metadata": {},
   "outputs": [
    {
     "data": {
      "text/plain": [
       "[('cap-shape', 0.0),\n",
       " ('cap-surface', 0.0),\n",
       " ('cap-color', 0.0),\n",
       " ('bruises', 0.027162786951459204),\n",
       " ('odor', 0.023972489775133166),\n",
       " ('gill-attachment', 0.0),\n",
       " ('gill-spacing', 0.0),\n",
       " ('gill-size', 0.14621745754606932),\n",
       " ('gill-color', 0.2681737587145311),\n",
       " ('stalk-shape', 0.0),\n",
       " ('stalk-root', 0.09930023122224009),\n",
       " ('stalk-surface-above-ring', 0.0),\n",
       " ('stalk-surface-below-ring', 0.0),\n",
       " ('stalk-color-above-ring', 0.0),\n",
       " ('stalk-color-below-ring', 0.0),\n",
       " ('veil-type', 0.0),\n",
       " ('veil-color', 0.0),\n",
       " ('ring-number', 0.0),\n",
       " ('ring-type', 0.0),\n",
       " ('spore-print-color', 0.3865137366924967),\n",
       " ('population', 0.02185554229856966),\n",
       " ('habitat', 0.026803996799500723)]"
      ]
     },
     "execution_count": 46,
     "metadata": {},
     "output_type": "execute_result"
    }
   ],
   "source": [
    "[*zip(feature_name,clf.feature_importances_)]"
   ]
  },
  {
   "cell_type": "code",
   "execution_count": 47,
   "metadata": {},
   "outputs": [
    {
     "data": {
      "text/plain": [
       "1.0"
      ]
     },
     "execution_count": 47,
     "metadata": {},
     "output_type": "execute_result"
    }
   ],
   "source": [
    "clf=tree.DecisionTreeClassifier(criterion='entropy'      \n",
    "                                ,random_state=30\n",
    "                                ,splitter='random')\n",
    "clf=clf.fit(X_train,y_train)\n",
    "score=clf.score(X_test,y_test)\n",
    "score"
   ]
  },
  {
   "cell_type": "code",
   "execution_count": 48,
   "metadata": {},
   "outputs": [
    {
     "data": {
      "image/svg+xml": [
       "<?xml version=\"1.0\" encoding=\"UTF-8\" standalone=\"no\"?>\n",
       "<!DOCTYPE svg PUBLIC \"-//W3C//DTD SVG 1.1//EN\"\n",
       " \"http://www.w3.org/Graphics/SVG/1.1/DTD/svg11.dtd\">\n",
       "<!-- Generated by graphviz version 2.44.1 (20200629.0846)\n",
       " -->\n",
       "<!-- Title: Tree Pages: 1 -->\n",
       "<svg width=\"1535pt\" height=\"909pt\"\n",
       " viewBox=\"0.00 0.00 1535.00 909.00\" xmlns=\"http://www.w3.org/2000/svg\" xmlns:xlink=\"http://www.w3.org/1999/xlink\">\n",
       "<g id=\"graph0\" class=\"graph\" transform=\"scale(1 1) rotate(0) translate(4 905)\">\n",
       "<title>Tree</title>\n",
       "<polygon fill=\"white\" stroke=\"transparent\" points=\"-4,4 -4,-905 1531,-905 1531,4 -4,4\"/>\n",
       "<!-- 0 -->\n",
       "<g id=\"node1\" class=\"node\">\n",
       "<title>0</title>\n",
       "<path fill=\"#fdf6f2\" stroke=\"black\" d=\"M734.5,-901C734.5,-901 618.5,-901 618.5,-901 612.5,-901 606.5,-895 606.5,-889 606.5,-889 606.5,-830 606.5,-830 606.5,-824 612.5,-818 618.5,-818 618.5,-818 734.5,-818 734.5,-818 740.5,-818 746.5,-824 746.5,-830 746.5,-830 746.5,-889 746.5,-889 746.5,-895 740.5,-901 734.5,-901\"/>\n",
       "<text text-anchor=\"middle\" x=\"676.5\" y=\"-885.8\" font-family=\"Helvetica,sans-Serif\" font-size=\"14.00\">gill&#45;size &lt;= 0.383</text>\n",
       "<text text-anchor=\"middle\" x=\"676.5\" y=\"-870.8\" font-family=\"Helvetica,sans-Serif\" font-size=\"14.00\">entropy = 0.999</text>\n",
       "<text text-anchor=\"middle\" x=\"676.5\" y=\"-855.8\" font-family=\"Helvetica,sans-Serif\" font-size=\"14.00\">samples = 6499</text>\n",
       "<text text-anchor=\"middle\" x=\"676.5\" y=\"-840.8\" font-family=\"Helvetica,sans-Serif\" font-size=\"14.00\">value = [3363, 3136]</text>\n",
       "<text text-anchor=\"middle\" x=\"676.5\" y=\"-825.8\" font-family=\"Helvetica,sans-Serif\" font-size=\"14.00\">class = poisonous</text>\n",
       "</g>\n",
       "<!-- 1 -->\n",
       "<g id=\"node2\" class=\"node\">\n",
       "<title>1</title>\n",
       "<path fill=\"#f0b88f\" stroke=\"black\" d=\"M567.5,-782C567.5,-782 451.5,-782 451.5,-782 445.5,-782 439.5,-776 439.5,-770 439.5,-770 439.5,-711 439.5,-711 439.5,-705 445.5,-699 451.5,-699 451.5,-699 567.5,-699 567.5,-699 573.5,-699 579.5,-705 579.5,-711 579.5,-711 579.5,-770 579.5,-770 579.5,-776 573.5,-782 567.5,-782\"/>\n",
       "<text text-anchor=\"middle\" x=\"509.5\" y=\"-766.8\" font-family=\"Helvetica,sans-Serif\" font-size=\"14.00\">odor &lt;= 4.708</text>\n",
       "<text text-anchor=\"middle\" x=\"509.5\" y=\"-751.8\" font-family=\"Helvetica,sans-Serif\" font-size=\"14.00\">entropy = 0.886</text>\n",
       "<text text-anchor=\"middle\" x=\"509.5\" y=\"-736.8\" font-family=\"Helvetica,sans-Serif\" font-size=\"14.00\">samples = 4493</text>\n",
       "<text text-anchor=\"middle\" x=\"509.5\" y=\"-721.8\" font-family=\"Helvetica,sans-Serif\" font-size=\"14.00\">value = [3127, 1366]</text>\n",
       "<text text-anchor=\"middle\" x=\"509.5\" y=\"-706.8\" font-family=\"Helvetica,sans-Serif\" font-size=\"14.00\">class = poisonous</text>\n",
       "</g>\n",
       "<!-- 0&#45;&gt;1 -->\n",
       "<g id=\"edge1\" class=\"edge\">\n",
       "<title>0&#45;&gt;1</title>\n",
       "<path fill=\"none\" stroke=\"black\" d=\"M618.56,-817.91C604.7,-808.2 589.8,-797.76 575.6,-787.81\"/>\n",
       "<polygon fill=\"black\" stroke=\"black\" points=\"577.54,-784.89 567.34,-782.02 573.52,-790.63 577.54,-784.89\"/>\n",
       "<text text-anchor=\"middle\" x=\"571.67\" y=\"-802.94\" font-family=\"Helvetica,sans-Serif\" font-size=\"14.00\">True</text>\n",
       "</g>\n",
       "<!-- 12 -->\n",
       "<g id=\"node13\" class=\"node\">\n",
       "<title>12</title>\n",
       "<path fill=\"#53aae8\" stroke=\"black\" d=\"M895,-782C895,-782 774,-782 774,-782 768,-782 762,-776 762,-770 762,-770 762,-711 762,-711 762,-705 768,-699 774,-699 774,-699 895,-699 895,-699 901,-699 907,-705 907,-711 907,-711 907,-770 907,-770 907,-776 901,-782 895,-782\"/>\n",
       "<text text-anchor=\"middle\" x=\"834.5\" y=\"-766.8\" font-family=\"Helvetica,sans-Serif\" font-size=\"14.00\">cap&#45;surface &lt;= 1.489</text>\n",
       "<text text-anchor=\"middle\" x=\"834.5\" y=\"-751.8\" font-family=\"Helvetica,sans-Serif\" font-size=\"14.00\">entropy = 0.523</text>\n",
       "<text text-anchor=\"middle\" x=\"834.5\" y=\"-736.8\" font-family=\"Helvetica,sans-Serif\" font-size=\"14.00\">samples = 2006</text>\n",
       "<text text-anchor=\"middle\" x=\"834.5\" y=\"-721.8\" font-family=\"Helvetica,sans-Serif\" font-size=\"14.00\">value = [236, 1770]</text>\n",
       "<text text-anchor=\"middle\" x=\"834.5\" y=\"-706.8\" font-family=\"Helvetica,sans-Serif\" font-size=\"14.00\">class = edible</text>\n",
       "</g>\n",
       "<!-- 0&#45;&gt;12 -->\n",
       "<g id=\"edge12\" class=\"edge\">\n",
       "<title>0&#45;&gt;12</title>\n",
       "<path fill=\"none\" stroke=\"black\" d=\"M731.32,-817.91C744.31,-808.29 758.26,-797.95 771.58,-788.09\"/>\n",
       "<polygon fill=\"black\" stroke=\"black\" points=\"773.83,-790.78 779.78,-782.02 769.66,-785.16 773.83,-790.78\"/>\n",
       "<text text-anchor=\"middle\" x=\"776.09\" y=\"-803.05\" font-family=\"Helvetica,sans-Serif\" font-size=\"14.00\">False</text>\n",
       "</g>\n",
       "<!-- 2 -->\n",
       "<g id=\"node3\" class=\"node\">\n",
       "<title>2</title>\n",
       "<path fill=\"#8fc8f0\" stroke=\"black\" d=\"M295.5,-663C295.5,-663 187.5,-663 187.5,-663 181.5,-663 175.5,-657 175.5,-651 175.5,-651 175.5,-592 175.5,-592 175.5,-586 181.5,-580 187.5,-580 187.5,-580 295.5,-580 295.5,-580 301.5,-580 307.5,-586 307.5,-592 307.5,-592 307.5,-651 307.5,-651 307.5,-657 301.5,-663 295.5,-663\"/>\n",
       "<text text-anchor=\"middle\" x=\"241.5\" y=\"-647.8\" font-family=\"Helvetica,sans-Serif\" font-size=\"14.00\">stalk&#45;root &lt;= 1.388</text>\n",
       "<text text-anchor=\"middle\" x=\"241.5\" y=\"-632.8\" font-family=\"Helvetica,sans-Serif\" font-size=\"14.00\">entropy = 0.885</text>\n",
       "<text text-anchor=\"middle\" x=\"241.5\" y=\"-617.8\" font-family=\"Helvetica,sans-Serif\" font-size=\"14.00\">samples = 1876</text>\n",
       "<text text-anchor=\"middle\" x=\"241.5\" y=\"-602.8\" font-family=\"Helvetica,sans-Serif\" font-size=\"14.00\">value = [568, 1308]</text>\n",
       "<text text-anchor=\"middle\" x=\"241.5\" y=\"-587.8\" font-family=\"Helvetica,sans-Serif\" font-size=\"14.00\">class = edible</text>\n",
       "</g>\n",
       "<!-- 1&#45;&gt;2 -->\n",
       "<g id=\"edge2\" class=\"edge\">\n",
       "<title>1&#45;&gt;2</title>\n",
       "<path fill=\"none\" stroke=\"black\" d=\"M439.44,-708.91C401.98,-692.56 355.81,-672.4 317.49,-655.67\"/>\n",
       "<polygon fill=\"black\" stroke=\"black\" points=\"318.49,-652.29 307.93,-651.5 315.69,-658.71 318.49,-652.29\"/>\n",
       "</g>\n",
       "<!-- 7 -->\n",
       "<g id=\"node8\" class=\"node\">\n",
       "<title>7</title>\n",
       "<path fill=\"#e6843d\" stroke=\"black\" d=\"M571.5,-663C571.5,-663 447.5,-663 447.5,-663 441.5,-663 435.5,-657 435.5,-651 435.5,-651 435.5,-592 435.5,-592 435.5,-586 441.5,-580 447.5,-580 447.5,-580 571.5,-580 571.5,-580 577.5,-580 583.5,-586 583.5,-592 583.5,-592 583.5,-651 583.5,-651 583.5,-657 577.5,-663 571.5,-663\"/>\n",
       "<text text-anchor=\"middle\" x=\"509.5\" y=\"-647.8\" font-family=\"Helvetica,sans-Serif\" font-size=\"14.00\">ring&#45;number &lt;= 1.851</text>\n",
       "<text text-anchor=\"middle\" x=\"509.5\" y=\"-632.8\" font-family=\"Helvetica,sans-Serif\" font-size=\"14.00\">entropy = 0.153</text>\n",
       "<text text-anchor=\"middle\" x=\"509.5\" y=\"-617.8\" font-family=\"Helvetica,sans-Serif\" font-size=\"14.00\">samples = 2617</text>\n",
       "<text text-anchor=\"middle\" x=\"509.5\" y=\"-602.8\" font-family=\"Helvetica,sans-Serif\" font-size=\"14.00\">value = [2559, 58]</text>\n",
       "<text text-anchor=\"middle\" x=\"509.5\" y=\"-587.8\" font-family=\"Helvetica,sans-Serif\" font-size=\"14.00\">class = poisonous</text>\n",
       "</g>\n",
       "<!-- 1&#45;&gt;7 -->\n",
       "<g id=\"edge7\" class=\"edge\">\n",
       "<title>1&#45;&gt;7</title>\n",
       "<path fill=\"none\" stroke=\"black\" d=\"M509.5,-698.91C509.5,-690.65 509.5,-681.86 509.5,-673.3\"/>\n",
       "<polygon fill=\"black\" stroke=\"black\" points=\"513,-673.02 509.5,-663.02 506,-673.02 513,-673.02\"/>\n",
       "</g>\n",
       "<!-- 3 -->\n",
       "<g id=\"node4\" class=\"node\">\n",
       "<title>3</title>\n",
       "<path fill=\"#399de5\" stroke=\"black\" d=\"M105,-536.5C105,-536.5 12,-536.5 12,-536.5 6,-536.5 0,-530.5 0,-524.5 0,-524.5 0,-480.5 0,-480.5 0,-474.5 6,-468.5 12,-468.5 12,-468.5 105,-468.5 105,-468.5 111,-468.5 117,-474.5 117,-480.5 117,-480.5 117,-524.5 117,-524.5 117,-530.5 111,-536.5 105,-536.5\"/>\n",
       "<text text-anchor=\"middle\" x=\"58.5\" y=\"-521.3\" font-family=\"Helvetica,sans-Serif\" font-size=\"14.00\">entropy = 0.0</text>\n",
       "<text text-anchor=\"middle\" x=\"58.5\" y=\"-506.3\" font-family=\"Helvetica,sans-Serif\" font-size=\"14.00\">samples = 1277</text>\n",
       "<text text-anchor=\"middle\" x=\"58.5\" y=\"-491.3\" font-family=\"Helvetica,sans-Serif\" font-size=\"14.00\">value = [0, 1277]</text>\n",
       "<text text-anchor=\"middle\" x=\"58.5\" y=\"-476.3\" font-family=\"Helvetica,sans-Serif\" font-size=\"14.00\">class = edible</text>\n",
       "</g>\n",
       "<!-- 2&#45;&gt;3 -->\n",
       "<g id=\"edge3\" class=\"edge\">\n",
       "<title>2&#45;&gt;3</title>\n",
       "<path fill=\"none\" stroke=\"black\" d=\"M178.01,-579.91C158.85,-567.66 137.88,-554.25 118.93,-542.13\"/>\n",
       "<polygon fill=\"black\" stroke=\"black\" points=\"120.69,-539.1 110.38,-536.67 116.92,-545 120.69,-539.1\"/>\n",
       "</g>\n",
       "<!-- 4 -->\n",
       "<g id=\"node5\" class=\"node\">\n",
       "<title>4</title>\n",
       "<path fill=\"#e68844\" stroke=\"black\" d=\"M335.5,-544C335.5,-544 147.5,-544 147.5,-544 141.5,-544 135.5,-538 135.5,-532 135.5,-532 135.5,-473 135.5,-473 135.5,-467 141.5,-461 147.5,-461 147.5,-461 335.5,-461 335.5,-461 341.5,-461 347.5,-467 347.5,-473 347.5,-473 347.5,-532 347.5,-532 347.5,-538 341.5,-544 335.5,-544\"/>\n",
       "<text text-anchor=\"middle\" x=\"241.5\" y=\"-528.8\" font-family=\"Helvetica,sans-Serif\" font-size=\"14.00\">stalk&#45;surface&#45;above&#45;ring &lt;= 1.55</text>\n",
       "<text text-anchor=\"middle\" x=\"241.5\" y=\"-513.8\" font-family=\"Helvetica,sans-Serif\" font-size=\"14.00\">entropy = 0.294</text>\n",
       "<text text-anchor=\"middle\" x=\"241.5\" y=\"-498.8\" font-family=\"Helvetica,sans-Serif\" font-size=\"14.00\">samples = 599</text>\n",
       "<text text-anchor=\"middle\" x=\"241.5\" y=\"-483.8\" font-family=\"Helvetica,sans-Serif\" font-size=\"14.00\">value = [568, 31]</text>\n",
       "<text text-anchor=\"middle\" x=\"241.5\" y=\"-468.8\" font-family=\"Helvetica,sans-Serif\" font-size=\"14.00\">class = poisonous</text>\n",
       "</g>\n",
       "<!-- 2&#45;&gt;4 -->\n",
       "<g id=\"edge4\" class=\"edge\">\n",
       "<title>2&#45;&gt;4</title>\n",
       "<path fill=\"none\" stroke=\"black\" d=\"M241.5,-579.91C241.5,-571.65 241.5,-562.86 241.5,-554.3\"/>\n",
       "<polygon fill=\"black\" stroke=\"black\" points=\"245,-554.02 241.5,-544.02 238,-554.02 245,-554.02\"/>\n",
       "</g>\n",
       "<!-- 5 -->\n",
       "<g id=\"node6\" class=\"node\">\n",
       "<title>5</title>\n",
       "<path fill=\"#399de5\" stroke=\"black\" d=\"M191.5,-417.5C191.5,-417.5 113.5,-417.5 113.5,-417.5 107.5,-417.5 101.5,-411.5 101.5,-405.5 101.5,-405.5 101.5,-361.5 101.5,-361.5 101.5,-355.5 107.5,-349.5 113.5,-349.5 113.5,-349.5 191.5,-349.5 191.5,-349.5 197.5,-349.5 203.5,-355.5 203.5,-361.5 203.5,-361.5 203.5,-405.5 203.5,-405.5 203.5,-411.5 197.5,-417.5 191.5,-417.5\"/>\n",
       "<text text-anchor=\"middle\" x=\"152.5\" y=\"-402.3\" font-family=\"Helvetica,sans-Serif\" font-size=\"14.00\">entropy = 0.0</text>\n",
       "<text text-anchor=\"middle\" x=\"152.5\" y=\"-387.3\" font-family=\"Helvetica,sans-Serif\" font-size=\"14.00\">samples = 31</text>\n",
       "<text text-anchor=\"middle\" x=\"152.5\" y=\"-372.3\" font-family=\"Helvetica,sans-Serif\" font-size=\"14.00\">value = [0, 31]</text>\n",
       "<text text-anchor=\"middle\" x=\"152.5\" y=\"-357.3\" font-family=\"Helvetica,sans-Serif\" font-size=\"14.00\">class = edible</text>\n",
       "</g>\n",
       "<!-- 4&#45;&gt;5 -->\n",
       "<g id=\"edge5\" class=\"edge\">\n",
       "<title>4&#45;&gt;5</title>\n",
       "<path fill=\"none\" stroke=\"black\" d=\"M210.62,-460.91C201.98,-449.54 192.57,-437.18 183.9,-425.77\"/>\n",
       "<polygon fill=\"black\" stroke=\"black\" points=\"186.57,-423.51 177.73,-417.67 181,-427.74 186.57,-423.51\"/>\n",
       "</g>\n",
       "<!-- 6 -->\n",
       "<g id=\"node7\" class=\"node\">\n",
       "<title>6</title>\n",
       "<path fill=\"#e58139\" stroke=\"black\" d=\"M335,-417.5C335,-417.5 234,-417.5 234,-417.5 228,-417.5 222,-411.5 222,-405.5 222,-405.5 222,-361.5 222,-361.5 222,-355.5 228,-349.5 234,-349.5 234,-349.5 335,-349.5 335,-349.5 341,-349.5 347,-355.5 347,-361.5 347,-361.5 347,-405.5 347,-405.5 347,-411.5 341,-417.5 335,-417.5\"/>\n",
       "<text text-anchor=\"middle\" x=\"284.5\" y=\"-402.3\" font-family=\"Helvetica,sans-Serif\" font-size=\"14.00\">entropy = 0.0</text>\n",
       "<text text-anchor=\"middle\" x=\"284.5\" y=\"-387.3\" font-family=\"Helvetica,sans-Serif\" font-size=\"14.00\">samples = 568</text>\n",
       "<text text-anchor=\"middle\" x=\"284.5\" y=\"-372.3\" font-family=\"Helvetica,sans-Serif\" font-size=\"14.00\">value = [568, 0]</text>\n",
       "<text text-anchor=\"middle\" x=\"284.5\" y=\"-357.3\" font-family=\"Helvetica,sans-Serif\" font-size=\"14.00\">class = poisonous</text>\n",
       "</g>\n",
       "<!-- 4&#45;&gt;6 -->\n",
       "<g id=\"edge6\" class=\"edge\">\n",
       "<title>4&#45;&gt;6</title>\n",
       "<path fill=\"none\" stroke=\"black\" d=\"M256.42,-460.91C260.43,-449.98 264.79,-438.14 268.84,-427.11\"/>\n",
       "<polygon fill=\"black\" stroke=\"black\" points=\"272.15,-428.26 272.31,-417.67 265.58,-425.85 272.15,-428.26\"/>\n",
       "</g>\n",
       "<!-- 8 -->\n",
       "<g id=\"node9\" class=\"node\">\n",
       "<title>8</title>\n",
       "<path fill=\"#e58139\" stroke=\"black\" d=\"M479,-536.5C479,-536.5 378,-536.5 378,-536.5 372,-536.5 366,-530.5 366,-524.5 366,-524.5 366,-480.5 366,-480.5 366,-474.5 372,-468.5 378,-468.5 378,-468.5 479,-468.5 479,-468.5 485,-468.5 491,-474.5 491,-480.5 491,-480.5 491,-524.5 491,-524.5 491,-530.5 485,-536.5 479,-536.5\"/>\n",
       "<text text-anchor=\"middle\" x=\"428.5\" y=\"-521.3\" font-family=\"Helvetica,sans-Serif\" font-size=\"14.00\">entropy = 0.0</text>\n",
       "<text text-anchor=\"middle\" x=\"428.5\" y=\"-506.3\" font-family=\"Helvetica,sans-Serif\" font-size=\"14.00\">samples = 2154</text>\n",
       "<text text-anchor=\"middle\" x=\"428.5\" y=\"-491.3\" font-family=\"Helvetica,sans-Serif\" font-size=\"14.00\">value = [2154, 0]</text>\n",
       "<text text-anchor=\"middle\" x=\"428.5\" y=\"-476.3\" font-family=\"Helvetica,sans-Serif\" font-size=\"14.00\">class = poisonous</text>\n",
       "</g>\n",
       "<!-- 7&#45;&gt;8 -->\n",
       "<g id=\"edge8\" class=\"edge\">\n",
       "<title>7&#45;&gt;8</title>\n",
       "<path fill=\"none\" stroke=\"black\" d=\"M481.4,-579.91C473.61,-568.65 465.14,-556.42 457.3,-545.11\"/>\n",
       "<polygon fill=\"black\" stroke=\"black\" points=\"460.03,-542.9 451.46,-536.67 454.28,-546.88 460.03,-542.9\"/>\n",
       "</g>\n",
       "<!-- 9 -->\n",
       "<g id=\"node10\" class=\"node\">\n",
       "<title>9</title>\n",
       "<path fill=\"#e99355\" stroke=\"black\" d=\"M662,-544C662,-544 521,-544 521,-544 515,-544 509,-538 509,-532 509,-532 509,-473 509,-473 509,-467 515,-461 521,-461 521,-461 662,-461 662,-461 668,-461 674,-467 674,-473 674,-473 674,-532 674,-532 674,-538 668,-544 662,-544\"/>\n",
       "<text text-anchor=\"middle\" x=\"591.5\" y=\"-528.8\" font-family=\"Helvetica,sans-Serif\" font-size=\"14.00\">spore&#45;print&#45;color &lt;= 5.52</text>\n",
       "<text text-anchor=\"middle\" x=\"591.5\" y=\"-513.8\" font-family=\"Helvetica,sans-Serif\" font-size=\"14.00\">entropy = 0.544</text>\n",
       "<text text-anchor=\"middle\" x=\"591.5\" y=\"-498.8\" font-family=\"Helvetica,sans-Serif\" font-size=\"14.00\">samples = 463</text>\n",
       "<text text-anchor=\"middle\" x=\"591.5\" y=\"-483.8\" font-family=\"Helvetica,sans-Serif\" font-size=\"14.00\">value = [405, 58]</text>\n",
       "<text text-anchor=\"middle\" x=\"591.5\" y=\"-468.8\" font-family=\"Helvetica,sans-Serif\" font-size=\"14.00\">class = poisonous</text>\n",
       "</g>\n",
       "<!-- 7&#45;&gt;9 -->\n",
       "<g id=\"edge9\" class=\"edge\">\n",
       "<title>7&#45;&gt;9</title>\n",
       "<path fill=\"none\" stroke=\"black\" d=\"M537.95,-579.91C544.18,-571.01 550.84,-561.51 557.28,-552.33\"/>\n",
       "<polygon fill=\"black\" stroke=\"black\" points=\"560.23,-554.22 563.1,-544.02 554.5,-550.2 560.23,-554.22\"/>\n",
       "</g>\n",
       "<!-- 10 -->\n",
       "<g id=\"node11\" class=\"node\">\n",
       "<title>10</title>\n",
       "<path fill=\"#399de5\" stroke=\"black\" d=\"M506.5,-417.5C506.5,-417.5 428.5,-417.5 428.5,-417.5 422.5,-417.5 416.5,-411.5 416.5,-405.5 416.5,-405.5 416.5,-361.5 416.5,-361.5 416.5,-355.5 422.5,-349.5 428.5,-349.5 428.5,-349.5 506.5,-349.5 506.5,-349.5 512.5,-349.5 518.5,-355.5 518.5,-361.5 518.5,-361.5 518.5,-405.5 518.5,-405.5 518.5,-411.5 512.5,-417.5 506.5,-417.5\"/>\n",
       "<text text-anchor=\"middle\" x=\"467.5\" y=\"-402.3\" font-family=\"Helvetica,sans-Serif\" font-size=\"14.00\">entropy = 0.0</text>\n",
       "<text text-anchor=\"middle\" x=\"467.5\" y=\"-387.3\" font-family=\"Helvetica,sans-Serif\" font-size=\"14.00\">samples = 58</text>\n",
       "<text text-anchor=\"middle\" x=\"467.5\" y=\"-372.3\" font-family=\"Helvetica,sans-Serif\" font-size=\"14.00\">value = [0, 58]</text>\n",
       "<text text-anchor=\"middle\" x=\"467.5\" y=\"-357.3\" font-family=\"Helvetica,sans-Serif\" font-size=\"14.00\">class = edible</text>\n",
       "</g>\n",
       "<!-- 9&#45;&gt;10 -->\n",
       "<g id=\"edge10\" class=\"edge\">\n",
       "<title>9&#45;&gt;10</title>\n",
       "<path fill=\"none\" stroke=\"black\" d=\"M548.48,-460.91C536.08,-449.21 522.57,-436.46 510.19,-424.78\"/>\n",
       "<polygon fill=\"black\" stroke=\"black\" points=\"512.33,-421.98 502.65,-417.67 507.52,-427.08 512.33,-421.98\"/>\n",
       "</g>\n",
       "<!-- 11 -->\n",
       "<g id=\"node12\" class=\"node\">\n",
       "<title>11</title>\n",
       "<path fill=\"#e58139\" stroke=\"black\" d=\"M650,-417.5C650,-417.5 549,-417.5 549,-417.5 543,-417.5 537,-411.5 537,-405.5 537,-405.5 537,-361.5 537,-361.5 537,-355.5 543,-349.5 549,-349.5 549,-349.5 650,-349.5 650,-349.5 656,-349.5 662,-355.5 662,-361.5 662,-361.5 662,-405.5 662,-405.5 662,-411.5 656,-417.5 650,-417.5\"/>\n",
       "<text text-anchor=\"middle\" x=\"599.5\" y=\"-402.3\" font-family=\"Helvetica,sans-Serif\" font-size=\"14.00\">entropy = 0.0</text>\n",
       "<text text-anchor=\"middle\" x=\"599.5\" y=\"-387.3\" font-family=\"Helvetica,sans-Serif\" font-size=\"14.00\">samples = 405</text>\n",
       "<text text-anchor=\"middle\" x=\"599.5\" y=\"-372.3\" font-family=\"Helvetica,sans-Serif\" font-size=\"14.00\">value = [405, 0]</text>\n",
       "<text text-anchor=\"middle\" x=\"599.5\" y=\"-357.3\" font-family=\"Helvetica,sans-Serif\" font-size=\"14.00\">class = poisonous</text>\n",
       "</g>\n",
       "<!-- 9&#45;&gt;11 -->\n",
       "<g id=\"edge11\" class=\"edge\">\n",
       "<title>9&#45;&gt;11</title>\n",
       "<path fill=\"none\" stroke=\"black\" d=\"M594.28,-460.91C595.01,-450.2 595.8,-438.62 596.54,-427.78\"/>\n",
       "<polygon fill=\"black\" stroke=\"black\" points=\"600.04,-427.88 597.23,-417.67 593.06,-427.4 600.04,-427.88\"/>\n",
       "</g>\n",
       "<!-- 13 -->\n",
       "<g id=\"node14\" class=\"node\">\n",
       "<title>13</title>\n",
       "<path fill=\"#f6d4bb\" stroke=\"black\" d=\"M887.5,-663C887.5,-663 781.5,-663 781.5,-663 775.5,-663 769.5,-657 769.5,-651 769.5,-651 769.5,-592 769.5,-592 769.5,-586 775.5,-580 781.5,-580 781.5,-580 887.5,-580 887.5,-580 893.5,-580 899.5,-586 899.5,-592 899.5,-592 899.5,-651 899.5,-651 899.5,-657 893.5,-663 887.5,-663\"/>\n",
       "<text text-anchor=\"middle\" x=\"834.5\" y=\"-647.8\" font-family=\"Helvetica,sans-Serif\" font-size=\"14.00\">stalk&#45;root &lt;= 1.983</text>\n",
       "<text text-anchor=\"middle\" x=\"834.5\" y=\"-632.8\" font-family=\"Helvetica,sans-Serif\" font-size=\"14.00\">entropy = 0.969</text>\n",
       "<text text-anchor=\"middle\" x=\"834.5\" y=\"-617.8\" font-family=\"Helvetica,sans-Serif\" font-size=\"14.00\">samples = 222</text>\n",
       "<text text-anchor=\"middle\" x=\"834.5\" y=\"-602.8\" font-family=\"Helvetica,sans-Serif\" font-size=\"14.00\">value = [134, 88]</text>\n",
       "<text text-anchor=\"middle\" x=\"834.5\" y=\"-587.8\" font-family=\"Helvetica,sans-Serif\" font-size=\"14.00\">class = poisonous</text>\n",
       "</g>\n",
       "<!-- 12&#45;&gt;13 -->\n",
       "<g id=\"edge13\" class=\"edge\">\n",
       "<title>12&#45;&gt;13</title>\n",
       "<path fill=\"none\" stroke=\"black\" d=\"M834.5,-698.91C834.5,-690.65 834.5,-681.86 834.5,-673.3\"/>\n",
       "<polygon fill=\"black\" stroke=\"black\" points=\"838,-673.02 834.5,-663.02 831,-673.02 838,-673.02\"/>\n",
       "</g>\n",
       "<!-- 22 -->\n",
       "<g id=\"node23\" class=\"node\">\n",
       "<title>22</title>\n",
       "<path fill=\"#45a3e7\" stroke=\"black\" d=\"M1108.5,-663C1108.5,-663 1000.5,-663 1000.5,-663 994.5,-663 988.5,-657 988.5,-651 988.5,-651 988.5,-592 988.5,-592 988.5,-586 994.5,-580 1000.5,-580 1000.5,-580 1108.5,-580 1108.5,-580 1114.5,-580 1120.5,-586 1120.5,-592 1120.5,-592 1120.5,-651 1120.5,-651 1120.5,-657 1114.5,-663 1108.5,-663\"/>\n",
       "<text text-anchor=\"middle\" x=\"1054.5\" y=\"-647.8\" font-family=\"Helvetica,sans-Serif\" font-size=\"14.00\">gill&#45;color &lt;= 1.205</text>\n",
       "<text text-anchor=\"middle\" x=\"1054.5\" y=\"-632.8\" font-family=\"Helvetica,sans-Serif\" font-size=\"14.00\">entropy = 0.316</text>\n",
       "<text text-anchor=\"middle\" x=\"1054.5\" y=\"-617.8\" font-family=\"Helvetica,sans-Serif\" font-size=\"14.00\">samples = 1784</text>\n",
       "<text text-anchor=\"middle\" x=\"1054.5\" y=\"-602.8\" font-family=\"Helvetica,sans-Serif\" font-size=\"14.00\">value = [102, 1682]</text>\n",
       "<text text-anchor=\"middle\" x=\"1054.5\" y=\"-587.8\" font-family=\"Helvetica,sans-Serif\" font-size=\"14.00\">class = edible</text>\n",
       "</g>\n",
       "<!-- 12&#45;&gt;22 -->\n",
       "<g id=\"edge22\" class=\"edge\">\n",
       "<title>12&#45;&gt;22</title>\n",
       "<path fill=\"none\" stroke=\"black\" d=\"M907.15,-700.87C930.34,-688.53 956.05,-674.86 979.41,-662.43\"/>\n",
       "<polygon fill=\"black\" stroke=\"black\" points=\"981.06,-665.52 988.24,-657.74 977.77,-659.34 981.06,-665.52\"/>\n",
       "</g>\n",
       "<!-- 14 -->\n",
       "<g id=\"node15\" class=\"node\">\n",
       "<title>14</title>\n",
       "<path fill=\"#b9dcf6\" stroke=\"black\" d=\"M823,-544C823,-544 704,-544 704,-544 698,-544 692,-538 692,-532 692,-532 692,-473 692,-473 692,-467 698,-461 704,-461 704,-461 823,-461 823,-461 829,-461 835,-467 835,-473 835,-473 835,-532 835,-532 835,-538 829,-544 823,-544\"/>\n",
       "<text text-anchor=\"middle\" x=\"763.5\" y=\"-528.8\" font-family=\"Helvetica,sans-Serif\" font-size=\"14.00\">stalk&#45;shape &lt;= 0.231</text>\n",
       "<text text-anchor=\"middle\" x=\"763.5\" y=\"-513.8\" font-family=\"Helvetica,sans-Serif\" font-size=\"14.00\">entropy = 0.967</text>\n",
       "<text text-anchor=\"middle\" x=\"763.5\" y=\"-498.8\" font-family=\"Helvetica,sans-Serif\" font-size=\"14.00\">samples = 145</text>\n",
       "<text text-anchor=\"middle\" x=\"763.5\" y=\"-483.8\" font-family=\"Helvetica,sans-Serif\" font-size=\"14.00\">value = [57, 88]</text>\n",
       "<text text-anchor=\"middle\" x=\"763.5\" y=\"-468.8\" font-family=\"Helvetica,sans-Serif\" font-size=\"14.00\">class = edible</text>\n",
       "</g>\n",
       "<!-- 13&#45;&gt;14 -->\n",
       "<g id=\"edge14\" class=\"edge\">\n",
       "<title>13&#45;&gt;14</title>\n",
       "<path fill=\"none\" stroke=\"black\" d=\"M809.87,-579.91C804.53,-571.1 798.82,-561.7 793.3,-552.61\"/>\n",
       "<polygon fill=\"black\" stroke=\"black\" points=\"796.27,-550.75 788.09,-544.02 790.29,-554.39 796.27,-550.75\"/>\n",
       "</g>\n",
       "<!-- 21 -->\n",
       "<g id=\"node22\" class=\"node\">\n",
       "<title>21</title>\n",
       "<path fill=\"#e58139\" stroke=\"black\" d=\"M966,-536.5C966,-536.5 865,-536.5 865,-536.5 859,-536.5 853,-530.5 853,-524.5 853,-524.5 853,-480.5 853,-480.5 853,-474.5 859,-468.5 865,-468.5 865,-468.5 966,-468.5 966,-468.5 972,-468.5 978,-474.5 978,-480.5 978,-480.5 978,-524.5 978,-524.5 978,-530.5 972,-536.5 966,-536.5\"/>\n",
       "<text text-anchor=\"middle\" x=\"915.5\" y=\"-521.3\" font-family=\"Helvetica,sans-Serif\" font-size=\"14.00\">entropy = 0.0</text>\n",
       "<text text-anchor=\"middle\" x=\"915.5\" y=\"-506.3\" font-family=\"Helvetica,sans-Serif\" font-size=\"14.00\">samples = 77</text>\n",
       "<text text-anchor=\"middle\" x=\"915.5\" y=\"-491.3\" font-family=\"Helvetica,sans-Serif\" font-size=\"14.00\">value = [77, 0]</text>\n",
       "<text text-anchor=\"middle\" x=\"915.5\" y=\"-476.3\" font-family=\"Helvetica,sans-Serif\" font-size=\"14.00\">class = poisonous</text>\n",
       "</g>\n",
       "<!-- 13&#45;&gt;21 -->\n",
       "<g id=\"edge21\" class=\"edge\">\n",
       "<title>13&#45;&gt;21</title>\n",
       "<path fill=\"none\" stroke=\"black\" d=\"M862.6,-579.91C870.39,-568.65 878.86,-556.42 886.7,-545.11\"/>\n",
       "<polygon fill=\"black\" stroke=\"black\" points=\"889.72,-546.88 892.54,-536.67 883.97,-542.9 889.72,-546.88\"/>\n",
       "</g>\n",
       "<!-- 15 -->\n",
       "<g id=\"node16\" class=\"node\">\n",
       "<title>15</title>\n",
       "<path fill=\"#64b2eb\" stroke=\"black\" d=\"M800,-425C800,-425 709,-425 709,-425 703,-425 697,-419 697,-413 697,-413 697,-354 697,-354 697,-348 703,-342 709,-342 709,-342 800,-342 800,-342 806,-342 812,-348 812,-354 812,-354 812,-413 812,-413 812,-419 806,-425 800,-425\"/>\n",
       "<text text-anchor=\"middle\" x=\"754.5\" y=\"-409.8\" font-family=\"Helvetica,sans-Serif\" font-size=\"14.00\">habitat &lt;= 1.396</text>\n",
       "<text text-anchor=\"middle\" x=\"754.5\" y=\"-394.8\" font-family=\"Helvetica,sans-Serif\" font-size=\"14.00\">entropy = 0.675</text>\n",
       "<text text-anchor=\"middle\" x=\"754.5\" y=\"-379.8\" font-family=\"Helvetica,sans-Serif\" font-size=\"14.00\">samples = 107</text>\n",
       "<text text-anchor=\"middle\" x=\"754.5\" y=\"-364.8\" font-family=\"Helvetica,sans-Serif\" font-size=\"14.00\">value = [19, 88]</text>\n",
       "<text text-anchor=\"middle\" x=\"754.5\" y=\"-349.8\" font-family=\"Helvetica,sans-Serif\" font-size=\"14.00\">class = edible</text>\n",
       "</g>\n",
       "<!-- 14&#45;&gt;15 -->\n",
       "<g id=\"edge15\" class=\"edge\">\n",
       "<title>14&#45;&gt;15</title>\n",
       "<path fill=\"none\" stroke=\"black\" d=\"M760.38,-460.91C759.74,-452.56 759.05,-443.67 758.39,-435.02\"/>\n",
       "<polygon fill=\"black\" stroke=\"black\" points=\"761.87,-434.72 757.62,-425.02 754.89,-435.26 761.87,-434.72\"/>\n",
       "</g>\n",
       "<!-- 20 -->\n",
       "<g id=\"node21\" class=\"node\">\n",
       "<title>20</title>\n",
       "<path fill=\"#e58139\" stroke=\"black\" d=\"M943,-417.5C943,-417.5 842,-417.5 842,-417.5 836,-417.5 830,-411.5 830,-405.5 830,-405.5 830,-361.5 830,-361.5 830,-355.5 836,-349.5 842,-349.5 842,-349.5 943,-349.5 943,-349.5 949,-349.5 955,-355.5 955,-361.5 955,-361.5 955,-405.5 955,-405.5 955,-411.5 949,-417.5 943,-417.5\"/>\n",
       "<text text-anchor=\"middle\" x=\"892.5\" y=\"-402.3\" font-family=\"Helvetica,sans-Serif\" font-size=\"14.00\">entropy = 0.0</text>\n",
       "<text text-anchor=\"middle\" x=\"892.5\" y=\"-387.3\" font-family=\"Helvetica,sans-Serif\" font-size=\"14.00\">samples = 38</text>\n",
       "<text text-anchor=\"middle\" x=\"892.5\" y=\"-372.3\" font-family=\"Helvetica,sans-Serif\" font-size=\"14.00\">value = [38, 0]</text>\n",
       "<text text-anchor=\"middle\" x=\"892.5\" y=\"-357.3\" font-family=\"Helvetica,sans-Serif\" font-size=\"14.00\">class = poisonous</text>\n",
       "</g>\n",
       "<!-- 14&#45;&gt;20 -->\n",
       "<g id=\"edge20\" class=\"edge\">\n",
       "<title>14&#45;&gt;20</title>\n",
       "<path fill=\"none\" stroke=\"black\" d=\"M808.26,-460.91C821.27,-449.1 835.48,-436.22 848.45,-424.45\"/>\n",
       "<polygon fill=\"black\" stroke=\"black\" points=\"850.88,-426.98 855.93,-417.67 846.17,-421.79 850.88,-426.98\"/>\n",
       "</g>\n",
       "<!-- 16 -->\n",
       "<g id=\"node17\" class=\"node\">\n",
       "<title>16</title>\n",
       "<path fill=\"#399de5\" stroke=\"black\" d=\"M708.5,-298.5C708.5,-298.5 630.5,-298.5 630.5,-298.5 624.5,-298.5 618.5,-292.5 618.5,-286.5 618.5,-286.5 618.5,-242.5 618.5,-242.5 618.5,-236.5 624.5,-230.5 630.5,-230.5 630.5,-230.5 708.5,-230.5 708.5,-230.5 714.5,-230.5 720.5,-236.5 720.5,-242.5 720.5,-242.5 720.5,-286.5 720.5,-286.5 720.5,-292.5 714.5,-298.5 708.5,-298.5\"/>\n",
       "<text text-anchor=\"middle\" x=\"669.5\" y=\"-283.3\" font-family=\"Helvetica,sans-Serif\" font-size=\"14.00\">entropy = 0.0</text>\n",
       "<text text-anchor=\"middle\" x=\"669.5\" y=\"-268.3\" font-family=\"Helvetica,sans-Serif\" font-size=\"14.00\">samples = 84</text>\n",
       "<text text-anchor=\"middle\" x=\"669.5\" y=\"-253.3\" font-family=\"Helvetica,sans-Serif\" font-size=\"14.00\">value = [0, 84]</text>\n",
       "<text text-anchor=\"middle\" x=\"669.5\" y=\"-238.3\" font-family=\"Helvetica,sans-Serif\" font-size=\"14.00\">class = edible</text>\n",
       "</g>\n",
       "<!-- 15&#45;&gt;16 -->\n",
       "<g id=\"edge16\" class=\"edge\">\n",
       "<title>15&#45;&gt;16</title>\n",
       "<path fill=\"none\" stroke=\"black\" d=\"M725.01,-341.91C716.75,-330.54 707.77,-318.18 699.49,-306.77\"/>\n",
       "<polygon fill=\"black\" stroke=\"black\" points=\"702.3,-304.7 693.6,-298.67 696.64,-308.81 702.3,-304.7\"/>\n",
       "</g>\n",
       "<!-- 17 -->\n",
       "<g id=\"node18\" class=\"node\">\n",
       "<title>17</title>\n",
       "<path fill=\"#ea9c63\" stroke=\"black\" d=\"M930,-306C930,-306 751,-306 751,-306 745,-306 739,-300 739,-294 739,-294 739,-235 739,-235 739,-229 745,-223 751,-223 751,-223 930,-223 930,-223 936,-223 942,-229 942,-235 942,-235 942,-294 942,-294 942,-300 936,-306 930,-306\"/>\n",
       "<text text-anchor=\"middle\" x=\"840.5\" y=\"-290.8\" font-family=\"Helvetica,sans-Serif\" font-size=\"14.00\">stalk&#45;color&#45;below&#45;ring &lt;= 5.065</text>\n",
       "<text text-anchor=\"middle\" x=\"840.5\" y=\"-275.8\" font-family=\"Helvetica,sans-Serif\" font-size=\"14.00\">entropy = 0.667</text>\n",
       "<text text-anchor=\"middle\" x=\"840.5\" y=\"-260.8\" font-family=\"Helvetica,sans-Serif\" font-size=\"14.00\">samples = 23</text>\n",
       "<text text-anchor=\"middle\" x=\"840.5\" y=\"-245.8\" font-family=\"Helvetica,sans-Serif\" font-size=\"14.00\">value = [19, 4]</text>\n",
       "<text text-anchor=\"middle\" x=\"840.5\" y=\"-230.8\" font-family=\"Helvetica,sans-Serif\" font-size=\"14.00\">class = poisonous</text>\n",
       "</g>\n",
       "<!-- 15&#45;&gt;17 -->\n",
       "<g id=\"edge17\" class=\"edge\">\n",
       "<title>15&#45;&gt;17</title>\n",
       "<path fill=\"none\" stroke=\"black\" d=\"M784.34,-341.91C790.87,-333.01 797.86,-323.51 804.61,-314.33\"/>\n",
       "<polygon fill=\"black\" stroke=\"black\" points=\"807.61,-316.15 810.72,-306.02 801.97,-312.01 807.61,-316.15\"/>\n",
       "</g>\n",
       "<!-- 18 -->\n",
       "<g id=\"node19\" class=\"node\">\n",
       "<title>18</title>\n",
       "<path fill=\"#e58139\" stroke=\"black\" d=\"M826,-179.5C826,-179.5 725,-179.5 725,-179.5 719,-179.5 713,-173.5 713,-167.5 713,-167.5 713,-123.5 713,-123.5 713,-117.5 719,-111.5 725,-111.5 725,-111.5 826,-111.5 826,-111.5 832,-111.5 838,-117.5 838,-123.5 838,-123.5 838,-167.5 838,-167.5 838,-173.5 832,-179.5 826,-179.5\"/>\n",
       "<text text-anchor=\"middle\" x=\"775.5\" y=\"-164.3\" font-family=\"Helvetica,sans-Serif\" font-size=\"14.00\">entropy = 0.0</text>\n",
       "<text text-anchor=\"middle\" x=\"775.5\" y=\"-149.3\" font-family=\"Helvetica,sans-Serif\" font-size=\"14.00\">samples = 19</text>\n",
       "<text text-anchor=\"middle\" x=\"775.5\" y=\"-134.3\" font-family=\"Helvetica,sans-Serif\" font-size=\"14.00\">value = [19, 0]</text>\n",
       "<text text-anchor=\"middle\" x=\"775.5\" y=\"-119.3\" font-family=\"Helvetica,sans-Serif\" font-size=\"14.00\">class = poisonous</text>\n",
       "</g>\n",
       "<!-- 17&#45;&gt;18 -->\n",
       "<g id=\"edge18\" class=\"edge\">\n",
       "<title>17&#45;&gt;18</title>\n",
       "<path fill=\"none\" stroke=\"black\" d=\"M817.95,-222.91C811.76,-211.76 805.03,-199.66 798.8,-188.44\"/>\n",
       "<polygon fill=\"black\" stroke=\"black\" points=\"801.84,-186.71 793.93,-179.67 795.72,-190.11 801.84,-186.71\"/>\n",
       "</g>\n",
       "<!-- 19 -->\n",
       "<g id=\"node20\" class=\"node\">\n",
       "<title>19</title>\n",
       "<path fill=\"#399de5\" stroke=\"black\" d=\"M943,-179.5C943,-179.5 868,-179.5 868,-179.5 862,-179.5 856,-173.5 856,-167.5 856,-167.5 856,-123.5 856,-123.5 856,-117.5 862,-111.5 868,-111.5 868,-111.5 943,-111.5 943,-111.5 949,-111.5 955,-117.5 955,-123.5 955,-123.5 955,-167.5 955,-167.5 955,-173.5 949,-179.5 943,-179.5\"/>\n",
       "<text text-anchor=\"middle\" x=\"905.5\" y=\"-164.3\" font-family=\"Helvetica,sans-Serif\" font-size=\"14.00\">entropy = 0.0</text>\n",
       "<text text-anchor=\"middle\" x=\"905.5\" y=\"-149.3\" font-family=\"Helvetica,sans-Serif\" font-size=\"14.00\">samples = 4</text>\n",
       "<text text-anchor=\"middle\" x=\"905.5\" y=\"-134.3\" font-family=\"Helvetica,sans-Serif\" font-size=\"14.00\">value = [0, 4]</text>\n",
       "<text text-anchor=\"middle\" x=\"905.5\" y=\"-119.3\" font-family=\"Helvetica,sans-Serif\" font-size=\"14.00\">class = edible</text>\n",
       "</g>\n",
       "<!-- 17&#45;&gt;19 -->\n",
       "<g id=\"edge19\" class=\"edge\">\n",
       "<title>17&#45;&gt;19</title>\n",
       "<path fill=\"none\" stroke=\"black\" d=\"M863.05,-222.91C869.24,-211.76 875.97,-199.66 882.2,-188.44\"/>\n",
       "<polygon fill=\"black\" stroke=\"black\" points=\"885.28,-190.11 887.07,-179.67 879.16,-186.71 885.28,-190.11\"/>\n",
       "</g>\n",
       "<!-- 23 -->\n",
       "<g id=\"node24\" class=\"node\">\n",
       "<title>23</title>\n",
       "<path fill=\"#399de5\" stroke=\"black\" d=\"M1101,-536.5C1101,-536.5 1008,-536.5 1008,-536.5 1002,-536.5 996,-530.5 996,-524.5 996,-524.5 996,-480.5 996,-480.5 996,-474.5 1002,-468.5 1008,-468.5 1008,-468.5 1101,-468.5 1101,-468.5 1107,-468.5 1113,-474.5 1113,-480.5 1113,-480.5 1113,-524.5 1113,-524.5 1113,-530.5 1107,-536.5 1101,-536.5\"/>\n",
       "<text text-anchor=\"middle\" x=\"1054.5\" y=\"-521.3\" font-family=\"Helvetica,sans-Serif\" font-size=\"14.00\">entropy = 0.0</text>\n",
       "<text text-anchor=\"middle\" x=\"1054.5\" y=\"-506.3\" font-family=\"Helvetica,sans-Serif\" font-size=\"14.00\">samples = 1378</text>\n",
       "<text text-anchor=\"middle\" x=\"1054.5\" y=\"-491.3\" font-family=\"Helvetica,sans-Serif\" font-size=\"14.00\">value = [0, 1378]</text>\n",
       "<text text-anchor=\"middle\" x=\"1054.5\" y=\"-476.3\" font-family=\"Helvetica,sans-Serif\" font-size=\"14.00\">class = edible</text>\n",
       "</g>\n",
       "<!-- 22&#45;&gt;23 -->\n",
       "<g id=\"edge23\" class=\"edge\">\n",
       "<title>22&#45;&gt;23</title>\n",
       "<path fill=\"none\" stroke=\"black\" d=\"M1054.5,-579.91C1054.5,-569.2 1054.5,-557.62 1054.5,-546.78\"/>\n",
       "<polygon fill=\"black\" stroke=\"black\" points=\"1058,-546.67 1054.5,-536.67 1051,-546.67 1058,-546.67\"/>\n",
       "</g>\n",
       "<!-- 24 -->\n",
       "<g id=\"node25\" class=\"node\">\n",
       "<title>24</title>\n",
       "<path fill=\"#7bbeee\" stroke=\"black\" d=\"M1337.5,-544C1337.5,-544 1143.5,-544 1143.5,-544 1137.5,-544 1131.5,-538 1131.5,-532 1131.5,-532 1131.5,-473 1131.5,-473 1131.5,-467 1137.5,-461 1143.5,-461 1143.5,-461 1337.5,-461 1337.5,-461 1343.5,-461 1349.5,-467 1349.5,-473 1349.5,-473 1349.5,-532 1349.5,-532 1349.5,-538 1343.5,-544 1337.5,-544\"/>\n",
       "<text text-anchor=\"middle\" x=\"1240.5\" y=\"-528.8\" font-family=\"Helvetica,sans-Serif\" font-size=\"14.00\">stalk&#45;surface&#45;below&#45;ring &lt;= 0.728</text>\n",
       "<text text-anchor=\"middle\" x=\"1240.5\" y=\"-513.8\" font-family=\"Helvetica,sans-Serif\" font-size=\"14.00\">entropy = 0.813</text>\n",
       "<text text-anchor=\"middle\" x=\"1240.5\" y=\"-498.8\" font-family=\"Helvetica,sans-Serif\" font-size=\"14.00\">samples = 406</text>\n",
       "<text text-anchor=\"middle\" x=\"1240.5\" y=\"-483.8\" font-family=\"Helvetica,sans-Serif\" font-size=\"14.00\">value = [102, 304]</text>\n",
       "<text text-anchor=\"middle\" x=\"1240.5\" y=\"-468.8\" font-family=\"Helvetica,sans-Serif\" font-size=\"14.00\">class = edible</text>\n",
       "</g>\n",
       "<!-- 22&#45;&gt;24 -->\n",
       "<g id=\"edge24\" class=\"edge\">\n",
       "<title>22&#45;&gt;24</title>\n",
       "<path fill=\"none\" stroke=\"black\" d=\"M1119.03,-579.91C1134.61,-570.11 1151.37,-559.56 1167.32,-549.53\"/>\n",
       "<polygon fill=\"black\" stroke=\"black\" points=\"1169.48,-552.31 1176.08,-544.02 1165.75,-546.38 1169.48,-552.31\"/>\n",
       "</g>\n",
       "<!-- 25 -->\n",
       "<g id=\"node26\" class=\"node\">\n",
       "<title>25</title>\n",
       "<path fill=\"#e58139\" stroke=\"black\" d=\"M1215,-417.5C1215,-417.5 1114,-417.5 1114,-417.5 1108,-417.5 1102,-411.5 1102,-405.5 1102,-405.5 1102,-361.5 1102,-361.5 1102,-355.5 1108,-349.5 1114,-349.5 1114,-349.5 1215,-349.5 1215,-349.5 1221,-349.5 1227,-355.5 1227,-361.5 1227,-361.5 1227,-405.5 1227,-405.5 1227,-411.5 1221,-417.5 1215,-417.5\"/>\n",
       "<text text-anchor=\"middle\" x=\"1164.5\" y=\"-402.3\" font-family=\"Helvetica,sans-Serif\" font-size=\"14.00\">entropy = 0.0</text>\n",
       "<text text-anchor=\"middle\" x=\"1164.5\" y=\"-387.3\" font-family=\"Helvetica,sans-Serif\" font-size=\"14.00\">samples = 50</text>\n",
       "<text text-anchor=\"middle\" x=\"1164.5\" y=\"-372.3\" font-family=\"Helvetica,sans-Serif\" font-size=\"14.00\">value = [50, 0]</text>\n",
       "<text text-anchor=\"middle\" x=\"1164.5\" y=\"-357.3\" font-family=\"Helvetica,sans-Serif\" font-size=\"14.00\">class = poisonous</text>\n",
       "</g>\n",
       "<!-- 24&#45;&gt;25 -->\n",
       "<g id=\"edge25\" class=\"edge\">\n",
       "<title>24&#45;&gt;25</title>\n",
       "<path fill=\"none\" stroke=\"black\" d=\"M1214.13,-460.91C1206.82,-449.65 1198.87,-437.42 1191.53,-426.11\"/>\n",
       "<polygon fill=\"black\" stroke=\"black\" points=\"1194.43,-424.15 1186.04,-417.67 1188.56,-427.96 1194.43,-424.15\"/>\n",
       "</g>\n",
       "<!-- 26 -->\n",
       "<g id=\"node27\" class=\"node\">\n",
       "<title>26</title>\n",
       "<path fill=\"#5baee9\" stroke=\"black\" d=\"M1376,-425C1376,-425 1257,-425 1257,-425 1251,-425 1245,-419 1245,-413 1245,-413 1245,-354 1245,-354 1245,-348 1251,-342 1257,-342 1257,-342 1376,-342 1376,-342 1382,-342 1388,-348 1388,-354 1388,-354 1388,-413 1388,-413 1388,-419 1382,-425 1376,-425\"/>\n",
       "<text text-anchor=\"middle\" x=\"1316.5\" y=\"-409.8\" font-family=\"Helvetica,sans-Serif\" font-size=\"14.00\">stalk&#45;shape &lt;= 0.217</text>\n",
       "<text text-anchor=\"middle\" x=\"1316.5\" y=\"-394.8\" font-family=\"Helvetica,sans-Serif\" font-size=\"14.00\">entropy = 0.6</text>\n",
       "<text text-anchor=\"middle\" x=\"1316.5\" y=\"-379.8\" font-family=\"Helvetica,sans-Serif\" font-size=\"14.00\">samples = 356</text>\n",
       "<text text-anchor=\"middle\" x=\"1316.5\" y=\"-364.8\" font-family=\"Helvetica,sans-Serif\" font-size=\"14.00\">value = [52, 304]</text>\n",
       "<text text-anchor=\"middle\" x=\"1316.5\" y=\"-349.8\" font-family=\"Helvetica,sans-Serif\" font-size=\"14.00\">class = edible</text>\n",
       "</g>\n",
       "<!-- 24&#45;&gt;26 -->\n",
       "<g id=\"edge26\" class=\"edge\">\n",
       "<title>24&#45;&gt;26</title>\n",
       "<path fill=\"none\" stroke=\"black\" d=\"M1266.87,-460.91C1272.59,-452.1 1278.69,-442.7 1284.6,-433.61\"/>\n",
       "<polygon fill=\"black\" stroke=\"black\" points=\"1287.67,-435.31 1290.18,-425.02 1281.8,-431.5 1287.67,-435.31\"/>\n",
       "</g>\n",
       "<!-- 27 -->\n",
       "<g id=\"node28\" class=\"node\">\n",
       "<title>27</title>\n",
       "<path fill=\"#40a1e6\" stroke=\"black\" d=\"M1372,-306C1372,-306 1193,-306 1193,-306 1187,-306 1181,-300 1181,-294 1181,-294 1181,-235 1181,-235 1181,-229 1187,-223 1193,-223 1193,-223 1372,-223 1372,-223 1378,-223 1384,-229 1384,-235 1384,-235 1384,-294 1384,-294 1384,-300 1378,-306 1372,-306\"/>\n",
       "<text text-anchor=\"middle\" x=\"1282.5\" y=\"-290.8\" font-family=\"Helvetica,sans-Serif\" font-size=\"14.00\">stalk&#45;color&#45;below&#45;ring &lt;= 6.493</text>\n",
       "<text text-anchor=\"middle\" x=\"1282.5\" y=\"-275.8\" font-family=\"Helvetica,sans-Serif\" font-size=\"14.00\">entropy = 0.218</text>\n",
       "<text text-anchor=\"middle\" x=\"1282.5\" y=\"-260.8\" font-family=\"Helvetica,sans-Serif\" font-size=\"14.00\">samples = 315</text>\n",
       "<text text-anchor=\"middle\" x=\"1282.5\" y=\"-245.8\" font-family=\"Helvetica,sans-Serif\" font-size=\"14.00\">value = [11, 304]</text>\n",
       "<text text-anchor=\"middle\" x=\"1282.5\" y=\"-230.8\" font-family=\"Helvetica,sans-Serif\" font-size=\"14.00\">class = edible</text>\n",
       "</g>\n",
       "<!-- 26&#45;&gt;27 -->\n",
       "<g id=\"edge27\" class=\"edge\">\n",
       "<title>26&#45;&gt;27</title>\n",
       "<path fill=\"none\" stroke=\"black\" d=\"M1304.7,-341.91C1302.25,-333.47 1299.64,-324.48 1297.1,-315.74\"/>\n",
       "<polygon fill=\"black\" stroke=\"black\" points=\"1300.43,-314.65 1294.28,-306.02 1293.7,-316.6 1300.43,-314.65\"/>\n",
       "</g>\n",
       "<!-- 32 -->\n",
       "<g id=\"node33\" class=\"node\">\n",
       "<title>32</title>\n",
       "<path fill=\"#e58139\" stroke=\"black\" d=\"M1515,-298.5C1515,-298.5 1414,-298.5 1414,-298.5 1408,-298.5 1402,-292.5 1402,-286.5 1402,-286.5 1402,-242.5 1402,-242.5 1402,-236.5 1408,-230.5 1414,-230.5 1414,-230.5 1515,-230.5 1515,-230.5 1521,-230.5 1527,-236.5 1527,-242.5 1527,-242.5 1527,-286.5 1527,-286.5 1527,-292.5 1521,-298.5 1515,-298.5\"/>\n",
       "<text text-anchor=\"middle\" x=\"1464.5\" y=\"-283.3\" font-family=\"Helvetica,sans-Serif\" font-size=\"14.00\">entropy = 0.0</text>\n",
       "<text text-anchor=\"middle\" x=\"1464.5\" y=\"-268.3\" font-family=\"Helvetica,sans-Serif\" font-size=\"14.00\">samples = 41</text>\n",
       "<text text-anchor=\"middle\" x=\"1464.5\" y=\"-253.3\" font-family=\"Helvetica,sans-Serif\" font-size=\"14.00\">value = [41, 0]</text>\n",
       "<text text-anchor=\"middle\" x=\"1464.5\" y=\"-238.3\" font-family=\"Helvetica,sans-Serif\" font-size=\"14.00\">class = poisonous</text>\n",
       "</g>\n",
       "<!-- 26&#45;&gt;32 -->\n",
       "<g id=\"edge32\" class=\"edge\">\n",
       "<title>26&#45;&gt;32</title>\n",
       "<path fill=\"none\" stroke=\"black\" d=\"M1367.85,-341.91C1382.92,-329.99 1399.39,-316.98 1414.38,-305.12\"/>\n",
       "<polygon fill=\"black\" stroke=\"black\" points=\"1416.87,-307.61 1422.55,-298.67 1412.53,-302.12 1416.87,-307.61\"/>\n",
       "</g>\n",
       "<!-- 28 -->\n",
       "<g id=\"node29\" class=\"node\">\n",
       "<title>28</title>\n",
       "<path fill=\"#f8ddc9\" stroke=\"black\" d=\"M1266.5,-187C1266.5,-187 1160.5,-187 1160.5,-187 1154.5,-187 1148.5,-181 1148.5,-175 1148.5,-175 1148.5,-116 1148.5,-116 1148.5,-110 1154.5,-104 1160.5,-104 1160.5,-104 1266.5,-104 1266.5,-104 1272.5,-104 1278.5,-110 1278.5,-116 1278.5,-116 1278.5,-175 1278.5,-175 1278.5,-181 1272.5,-187 1266.5,-187\"/>\n",
       "<text text-anchor=\"middle\" x=\"1213.5\" y=\"-171.8\" font-family=\"Helvetica,sans-Serif\" font-size=\"14.00\">stalk&#45;root &lt;= 0.142</text>\n",
       "<text text-anchor=\"middle\" x=\"1213.5\" y=\"-156.8\" font-family=\"Helvetica,sans-Serif\" font-size=\"14.00\">entropy = 0.982</text>\n",
       "<text text-anchor=\"middle\" x=\"1213.5\" y=\"-141.8\" font-family=\"Helvetica,sans-Serif\" font-size=\"14.00\">samples = 19</text>\n",
       "<text text-anchor=\"middle\" x=\"1213.5\" y=\"-126.8\" font-family=\"Helvetica,sans-Serif\" font-size=\"14.00\">value = [11, 8]</text>\n",
       "<text text-anchor=\"middle\" x=\"1213.5\" y=\"-111.8\" font-family=\"Helvetica,sans-Serif\" font-size=\"14.00\">class = poisonous</text>\n",
       "</g>\n",
       "<!-- 27&#45;&gt;28 -->\n",
       "<g id=\"edge28\" class=\"edge\">\n",
       "<title>27&#45;&gt;28</title>\n",
       "<path fill=\"none\" stroke=\"black\" d=\"M1258.56,-222.91C1253.42,-214.2 1247.94,-204.9 1242.63,-195.89\"/>\n",
       "<polygon fill=\"black\" stroke=\"black\" points=\"1245.49,-193.86 1237.4,-187.02 1239.46,-197.41 1245.49,-193.86\"/>\n",
       "</g>\n",
       "<!-- 31 -->\n",
       "<g id=\"node32\" class=\"node\">\n",
       "<title>31</title>\n",
       "<path fill=\"#399de5\" stroke=\"black\" d=\"M1394.5,-179.5C1394.5,-179.5 1308.5,-179.5 1308.5,-179.5 1302.5,-179.5 1296.5,-173.5 1296.5,-167.5 1296.5,-167.5 1296.5,-123.5 1296.5,-123.5 1296.5,-117.5 1302.5,-111.5 1308.5,-111.5 1308.5,-111.5 1394.5,-111.5 1394.5,-111.5 1400.5,-111.5 1406.5,-117.5 1406.5,-123.5 1406.5,-123.5 1406.5,-167.5 1406.5,-167.5 1406.5,-173.5 1400.5,-179.5 1394.5,-179.5\"/>\n",
       "<text text-anchor=\"middle\" x=\"1351.5\" y=\"-164.3\" font-family=\"Helvetica,sans-Serif\" font-size=\"14.00\">entropy = 0.0</text>\n",
       "<text text-anchor=\"middle\" x=\"1351.5\" y=\"-149.3\" font-family=\"Helvetica,sans-Serif\" font-size=\"14.00\">samples = 296</text>\n",
       "<text text-anchor=\"middle\" x=\"1351.5\" y=\"-134.3\" font-family=\"Helvetica,sans-Serif\" font-size=\"14.00\">value = [0, 296]</text>\n",
       "<text text-anchor=\"middle\" x=\"1351.5\" y=\"-119.3\" font-family=\"Helvetica,sans-Serif\" font-size=\"14.00\">class = edible</text>\n",
       "</g>\n",
       "<!-- 27&#45;&gt;31 -->\n",
       "<g id=\"edge31\" class=\"edge\">\n",
       "<title>27&#45;&gt;31</title>\n",
       "<path fill=\"none\" stroke=\"black\" d=\"M1306.44,-222.91C1313.01,-211.76 1320.15,-199.66 1326.77,-188.44\"/>\n",
       "<polygon fill=\"black\" stroke=\"black\" points=\"1329.87,-190.06 1331.94,-179.67 1323.85,-186.5 1329.87,-190.06\"/>\n",
       "</g>\n",
       "<!-- 29 -->\n",
       "<g id=\"node30\" class=\"node\">\n",
       "<title>29</title>\n",
       "<path fill=\"#399de5\" stroke=\"black\" d=\"M1186,-68C1186,-68 1111,-68 1111,-68 1105,-68 1099,-62 1099,-56 1099,-56 1099,-12 1099,-12 1099,-6 1105,0 1111,0 1111,0 1186,0 1186,0 1192,0 1198,-6 1198,-12 1198,-12 1198,-56 1198,-56 1198,-62 1192,-68 1186,-68\"/>\n",
       "<text text-anchor=\"middle\" x=\"1148.5\" y=\"-52.8\" font-family=\"Helvetica,sans-Serif\" font-size=\"14.00\">entropy = 0.0</text>\n",
       "<text text-anchor=\"middle\" x=\"1148.5\" y=\"-37.8\" font-family=\"Helvetica,sans-Serif\" font-size=\"14.00\">samples = 8</text>\n",
       "<text text-anchor=\"middle\" x=\"1148.5\" y=\"-22.8\" font-family=\"Helvetica,sans-Serif\" font-size=\"14.00\">value = [0, 8]</text>\n",
       "<text text-anchor=\"middle\" x=\"1148.5\" y=\"-7.8\" font-family=\"Helvetica,sans-Serif\" font-size=\"14.00\">class = edible</text>\n",
       "</g>\n",
       "<!-- 28&#45;&gt;29 -->\n",
       "<g id=\"edge29\" class=\"edge\">\n",
       "<title>28&#45;&gt;29</title>\n",
       "<path fill=\"none\" stroke=\"black\" d=\"M1189.3,-103.73C1184.1,-94.97 1178.6,-85.7 1173.38,-76.91\"/>\n",
       "<polygon fill=\"black\" stroke=\"black\" points=\"1176.38,-75.11 1168.27,-68.3 1170.36,-78.69 1176.38,-75.11\"/>\n",
       "</g>\n",
       "<!-- 30 -->\n",
       "<g id=\"node31\" class=\"node\">\n",
       "<title>30</title>\n",
       "<path fill=\"#e58139\" stroke=\"black\" d=\"M1329,-68C1329,-68 1228,-68 1228,-68 1222,-68 1216,-62 1216,-56 1216,-56 1216,-12 1216,-12 1216,-6 1222,0 1228,0 1228,0 1329,0 1329,0 1335,0 1341,-6 1341,-12 1341,-12 1341,-56 1341,-56 1341,-62 1335,-68 1329,-68\"/>\n",
       "<text text-anchor=\"middle\" x=\"1278.5\" y=\"-52.8\" font-family=\"Helvetica,sans-Serif\" font-size=\"14.00\">entropy = 0.0</text>\n",
       "<text text-anchor=\"middle\" x=\"1278.5\" y=\"-37.8\" font-family=\"Helvetica,sans-Serif\" font-size=\"14.00\">samples = 11</text>\n",
       "<text text-anchor=\"middle\" x=\"1278.5\" y=\"-22.8\" font-family=\"Helvetica,sans-Serif\" font-size=\"14.00\">value = [11, 0]</text>\n",
       "<text text-anchor=\"middle\" x=\"1278.5\" y=\"-7.8\" font-family=\"Helvetica,sans-Serif\" font-size=\"14.00\">class = poisonous</text>\n",
       "</g>\n",
       "<!-- 28&#45;&gt;30 -->\n",
       "<g id=\"edge30\" class=\"edge\">\n",
       "<title>28&#45;&gt;30</title>\n",
       "<path fill=\"none\" stroke=\"black\" d=\"M1237.7,-103.73C1242.9,-94.97 1248.4,-85.7 1253.62,-76.91\"/>\n",
       "<polygon fill=\"black\" stroke=\"black\" points=\"1256.64,-78.69 1258.73,-68.3 1250.62,-75.11 1256.64,-78.69\"/>\n",
       "</g>\n",
       "</g>\n",
       "</svg>\n"
      ],
      "text/plain": [
       "<graphviz.files.Source at 0x7f84d4adc910>"
      ]
     },
     "execution_count": 48,
     "metadata": {},
     "output_type": "execute_result"
    }
   ],
   "source": [
    "import graphviz\n",
    "dot_data=tree.export_graphviz(clf\n",
    "                             ,feature_names=feature_name\n",
    "                             ,class_names=['poisonous','edible']\n",
    "                             ,filled=True\n",
    "                             ,rounded=True)\n",
    "graph=graphviz.Source(dot_data)\n",
    "graph"
   ]
  },
  {
   "cell_type": "code",
   "execution_count": 49,
   "metadata": {
    "scrolled": true
   },
   "outputs": [
    {
     "data": {
      "text/plain": [
       "<sklearn.metrics._plot.confusion_matrix.ConfusionMatrixDisplay at 0x7f84d4adc580>"
      ]
     },
     "execution_count": 49,
     "metadata": {},
     "output_type": "execute_result"
    },
    {
     "data": {
      "text/plain": [
       "Text(0.5, 1.0, 'Normalized Confusion Matrix of Mushroom Dataset')"
      ]
     },
     "execution_count": 49,
     "metadata": {},
     "output_type": "execute_result"
    },
    {
     "data": {
      "image/png": "[encoded data removed]",
      "text/plain": [
       "<Figure size 432x288 with 2 Axes>"
      ]
     },
     "metadata": {
      "needs_background": "light"
     },
     "output_type": "display_data"
    }
   ],
   "source": [
    "from sklearn.metrics import plot_confusion_matrix\n",
    "\n",
    "plot_confusion_matrix(clf, X_test, y_test, display_labels= ['Edible', 'Poisonous'], cmap = plt.cm.PuRd, normalize= 'true')\n",
    "plt.title(\"Normalized Confusion Matrix of Mushroom Dataset\")\n",
    "plt.show()"
   ]
  },
  {
   "cell_type": "markdown",
   "metadata": {},
   "source": [
    "### Kernel SVM Model"
   ]
  },
  {
   "cell_type": "code",
   "execution_count": 50,
   "metadata": {},
   "outputs": [],
   "source": [
    "from sklearn.svm import SVC\n",
    "from sklearn.decomposition import PCA\n",
    "from sklearn.model_selection import GridSearchCV\n",
    "from sklearn.pipeline import make_pipeline"
   ]
  },
  {
   "cell_type": "code",
   "execution_count": 51,
   "metadata": {},
   "outputs": [],
   "source": [
    "pca = PCA(n_components=10, whiten=True, random_state=42)     #提取的特征维度为10维\n",
    "svc = SVC(kernel='linear',class_weight='balanced')           #使用线性分类器的SVM\n",
    "model = make_pipeline(pca, svc) "
   ]
  },
  {
   "cell_type": "code",
   "execution_count": 52,
   "metadata": {},
   "outputs": [],
   "source": [
    "X = data.drop(['class'], axis=1)\n",
    "y = data['class']\n",
    "X_train, X_test, y_train, y_test = train_test_split(X, y, random_state=41)"
   ]
  },
  {
   "cell_type": "code",
   "execution_count": 53,
   "metadata": {},
   "outputs": [
    {
     "name": "stdout",
     "output_type": "stream",
     "text": [
      "CPU times: user 1min 3s, sys: 239 ms, total: 1min 3s\n",
      "Wall time: 49.3 s\n"
     ]
    },
    {
     "data": {
      "text/plain": [
       "GridSearchCV(estimator=Pipeline(steps=[('pca',\n",
       "                                        PCA(n_components=10, random_state=42,\n",
       "                                            whiten=True)),\n",
       "                                       ('svc',\n",
       "                                        SVC(class_weight='balanced',\n",
       "                                            kernel='linear'))]),\n",
       "             param_grid={'svc__C': [0.01, 0.1, 1, 10, 100, 1000]})"
      ]
     },
     "execution_count": 53,
     "metadata": {},
     "output_type": "execute_result"
    },
    {
     "name": "stdout",
     "output_type": "stream",
     "text": [
      "{'svc__C': 10}\n"
     ]
    }
   ],
   "source": [
    "from sklearn.model_selection import GridSearchCV\n",
    "param_grid = {'svc__C':[0.01, 0.1, 1, 10, 100, 1000]} \n",
    "grid = GridSearchCV(model,param_grid)\n",
    "%time grid.fit(X_train, y_train)\n",
    "print(grid.best_params_)"
   ]
  },
  {
   "cell_type": "code",
   "execution_count": 54,
   "metadata": {},
   "outputs": [],
   "source": [
    "model=grid.best_estimator_"
   ]
  },
  {
   "cell_type": "code",
   "execution_count": 55,
   "metadata": {},
   "outputs": [],
   "source": [
    "y_pred=model.predict(X_test)"
   ]
  },
  {
   "cell_type": "code",
   "execution_count": 56,
   "metadata": {
    "scrolled": true
   },
   "outputs": [
    {
     "name": "stdout",
     "output_type": "stream",
     "text": [
      "              precision    recall  f1-score   support\n",
      "\n",
      "           0       0.95      0.94      0.95       984\n",
      "           1       0.95      0.95      0.95      1047\n",
      "\n",
      "    accuracy                           0.95      2031\n",
      "   macro avg       0.95      0.95      0.95      2031\n",
      "weighted avg       0.95      0.95      0.95      2031\n",
      "\n"
     ]
    }
   ],
   "source": [
    "from sklearn.metrics import classification_report\n",
    "print(classification_report(y_test, y_pred))  "
   ]
  },
  {
   "cell_type": "markdown",
   "metadata": {},
   "source": [
    "### Neural Networks"
   ]
  },
  {
   "cell_type": "code",
   "execution_count": 57,
   "metadata": {},
   "outputs": [],
   "source": [
    "data = data.sample(frac=1)  #shuffle encoded data\n",
    "# partition into training (60%), validation (20%), and test set (20%)\n",
    "samples = data.shape[0]\n",
    "train_count = round(samples * 0.6)\n",
    "val_count = round(samples * 0.2)\n",
    "test_count = samples - train_count - val_count\n",
    "\n",
    "train_df = data.iloc[:train_count]\n",
    "validation_df = data.iloc[train_count:train_count + val_count]\n",
    "test_df = data.iloc[-test_count:]\n",
    "\n",
    "X_train = train_df.drop(['class'], axis=1)\n",
    "X_validation = validation_df.drop(['class'], axis=1)\n",
    "X_test = test_df.drop(['class'], axis=1)\n",
    "\n",
    "y_train = train_df['class']\n",
    "y_validation = validation_df['class']\n",
    "y_test = test_df['class']"
   ]
  },
  {
   "cell_type": "code",
   "execution_count": 58,
   "metadata": {},
   "outputs": [],
   "source": [
    "from sklearn.neural_network import MLPClassifier\n",
    "from sklearn.datasets import make_moons\n",
    "import mglearn\n",
    "from sklearn.neural_network import MLPRegressor\n"
   ]
  },
  {
   "cell_type": "code",
   "execution_count": 59,
   "metadata": {},
   "outputs": [
    {
     "name": "stdout",
     "output_type": "stream",
     "text": [
      "100.0\n",
      "100.0\n",
      "100.0\n"
     ]
    }
   ],
   "source": [
    "# Basic Neural Networks model\n",
    "mlp = MLPClassifier(max_iter=1000, random_state=0).fit(X_train, y_train)\n",
    "print(mlp.score(X_train, y_train)*100)\n",
    "print(mlp.score(X_validation, y_validation)*100)\n",
    "print(mlp.score(X_test, y_test)*100)"
   ]
  },
  {
   "cell_type": "code",
   "execution_count": 60,
   "metadata": {},
   "outputs": [],
   "source": [
    "from sklearn.model_selection import GridSearchCV\n",
    "from sklearn.pipeline import make_pipeline\n",
    "\n",
    "# hyperparameter tuning: alpha\n",
    "\n",
    "pipe = make_pipeline(MLPClassifier(solver=\"lbfgs\", max_iter = 5000, random_state=0))\n",
    "param_grid = {'mlpclassifier__alpha': np.logspace(-3, 3, 7)}\n",
    "grid = GridSearchCV(pipe, param_grid, return_train_score=True)"
   ]
  },
  {
   "cell_type": "code",
   "execution_count": 61,
   "metadata": {},
   "outputs": [
    {
     "data": {
      "text/plain": [
       "GridSearchCV(estimator=Pipeline(steps=[('mlpclassifier',\n",
       "                                        MLPClassifier(max_iter=5000,\n",
       "                                                      random_state=0,\n",
       "                                                      solver='lbfgs'))]),\n",
       "             param_grid={'mlpclassifier__alpha': array([1.e-03, 1.e-02, 1.e-01, 1.e+00, 1.e+01, 1.e+02, 1.e+03])},\n",
       "             return_train_score=True)"
      ]
     },
     "execution_count": 61,
     "metadata": {},
     "output_type": "execute_result"
    }
   ],
   "source": [
    "grid.fit(X_train, y_train)"
   ]
  },
  {
   "cell_type": "code",
   "execution_count": 62,
   "metadata": {},
   "outputs": [],
   "source": [
    "results = pd.DataFrame(grid.cv_results_)\n",
    "res = results.pivot_table(index=\"param_mlpclassifier__alpha\",\n",
    "                          values=[\"mean_test_score\", \"mean_train_score\"])"
   ]
  },
  {
   "cell_type": "code",
   "execution_count": 63,
   "metadata": {},
   "outputs": [
    {
     "data": {
      "text/html": [
       "<div>\n",
       "<style scoped>\n",
       "    .dataframe tbody tr th:only-of-type {\n",
       "        vertical-align: middle;\n",
       "    }\n",
       "\n",
       "    .dataframe tbody tr th {\n",
       "        vertical-align: top;\n",
       "    }\n",
       "\n",
       "    .dataframe thead th {\n",
       "        text-align: right;\n",
       "    }\n",
       "</style>\n",
       "<table border=\"1\" class=\"dataframe\">\n",
       "  <thead>\n",
       "    <tr style=\"text-align: right;\">\n",
       "      <th></th>\n",
       "      <th>mean_fit_time</th>\n",
       "      <th>std_fit_time</th>\n",
       "      <th>mean_score_time</th>\n",
       "      <th>std_score_time</th>\n",
       "      <th>param_mlpclassifier__alpha</th>\n",
       "      <th>params</th>\n",
       "      <th>split0_test_score</th>\n",
       "      <th>split1_test_score</th>\n",
       "      <th>split2_test_score</th>\n",
       "      <th>split3_test_score</th>\n",
       "      <th>split4_test_score</th>\n",
       "      <th>mean_test_score</th>\n",
       "      <th>std_test_score</th>\n",
       "      <th>rank_test_score</th>\n",
       "      <th>split0_train_score</th>\n",
       "      <th>split1_train_score</th>\n",
       "      <th>split2_train_score</th>\n",
       "      <th>split3_train_score</th>\n",
       "      <th>split4_train_score</th>\n",
       "      <th>mean_train_score</th>\n",
       "      <th>std_train_score</th>\n",
       "    </tr>\n",
       "  </thead>\n",
       "  <tbody>\n",
       "    <tr>\n",
       "      <th>0</th>\n",
       "      <td>0.14</td>\n",
       "      <td>0.04</td>\n",
       "      <td>0.00</td>\n",
       "      <td>0.00</td>\n",
       "      <td>0.00</td>\n",
       "      <td>{'mlpclassifier__alpha': 0.001}</td>\n",
       "      <td>1.00</td>\n",
       "      <td>1.00</td>\n",
       "      <td>1.00</td>\n",
       "      <td>1.00</td>\n",
       "      <td>1.00</td>\n",
       "      <td>1.00</td>\n",
       "      <td>0.00</td>\n",
       "      <td>1</td>\n",
       "      <td>1.00</td>\n",
       "      <td>1.00</td>\n",
       "      <td>1.00</td>\n",
       "      <td>1.00</td>\n",
       "      <td>1.00</td>\n",
       "      <td>1.00</td>\n",
       "      <td>0.00</td>\n",
       "    </tr>\n",
       "    <tr>\n",
       "      <th>1</th>\n",
       "      <td>0.12</td>\n",
       "      <td>0.01</td>\n",
       "      <td>0.00</td>\n",
       "      <td>0.00</td>\n",
       "      <td>0.01</td>\n",
       "      <td>{'mlpclassifier__alpha': 0.01}</td>\n",
       "      <td>1.00</td>\n",
       "      <td>1.00</td>\n",
       "      <td>1.00</td>\n",
       "      <td>1.00</td>\n",
       "      <td>1.00</td>\n",
       "      <td>1.00</td>\n",
       "      <td>0.00</td>\n",
       "      <td>1</td>\n",
       "      <td>1.00</td>\n",
       "      <td>1.00</td>\n",
       "      <td>1.00</td>\n",
       "      <td>1.00</td>\n",
       "      <td>1.00</td>\n",
       "      <td>1.00</td>\n",
       "      <td>0.00</td>\n",
       "    </tr>\n",
       "    <tr>\n",
       "      <th>2</th>\n",
       "      <td>0.12</td>\n",
       "      <td>0.01</td>\n",
       "      <td>0.00</td>\n",
       "      <td>0.00</td>\n",
       "      <td>0.10</td>\n",
       "      <td>{'mlpclassifier__alpha': 0.1}</td>\n",
       "      <td>1.00</td>\n",
       "      <td>1.00</td>\n",
       "      <td>1.00</td>\n",
       "      <td>1.00</td>\n",
       "      <td>1.00</td>\n",
       "      <td>1.00</td>\n",
       "      <td>0.00</td>\n",
       "      <td>1</td>\n",
       "      <td>1.00</td>\n",
       "      <td>1.00</td>\n",
       "      <td>1.00</td>\n",
       "      <td>1.00</td>\n",
       "      <td>1.00</td>\n",
       "      <td>1.00</td>\n",
       "      <td>0.00</td>\n",
       "    </tr>\n",
       "    <tr>\n",
       "      <th>3</th>\n",
       "      <td>0.23</td>\n",
       "      <td>0.02</td>\n",
       "      <td>0.00</td>\n",
       "      <td>0.00</td>\n",
       "      <td>1.00</td>\n",
       "      <td>{'mlpclassifier__alpha': 1.0}</td>\n",
       "      <td>1.00</td>\n",
       "      <td>1.00</td>\n",
       "      <td>1.00</td>\n",
       "      <td>1.00</td>\n",
       "      <td>1.00</td>\n",
       "      <td>1.00</td>\n",
       "      <td>0.00</td>\n",
       "      <td>4</td>\n",
       "      <td>1.00</td>\n",
       "      <td>1.00</td>\n",
       "      <td>1.00</td>\n",
       "      <td>1.00</td>\n",
       "      <td>1.00</td>\n",
       "      <td>1.00</td>\n",
       "      <td>0.00</td>\n",
       "    </tr>\n",
       "    <tr>\n",
       "      <th>4</th>\n",
       "      <td>0.37</td>\n",
       "      <td>0.01</td>\n",
       "      <td>0.00</td>\n",
       "      <td>0.00</td>\n",
       "      <td>10.00</td>\n",
       "      <td>{'mlpclassifier__alpha': 10.0}</td>\n",
       "      <td>1.00</td>\n",
       "      <td>1.00</td>\n",
       "      <td>1.00</td>\n",
       "      <td>1.00</td>\n",
       "      <td>1.00</td>\n",
       "      <td>1.00</td>\n",
       "      <td>0.00</td>\n",
       "      <td>5</td>\n",
       "      <td>1.00</td>\n",
       "      <td>1.00</td>\n",
       "      <td>1.00</td>\n",
       "      <td>1.00</td>\n",
       "      <td>1.00</td>\n",
       "      <td>1.00</td>\n",
       "      <td>0.00</td>\n",
       "    </tr>\n",
       "    <tr>\n",
       "      <th>5</th>\n",
       "      <td>0.24</td>\n",
       "      <td>0.01</td>\n",
       "      <td>0.00</td>\n",
       "      <td>0.00</td>\n",
       "      <td>100.00</td>\n",
       "      <td>{'mlpclassifier__alpha': 100.0}</td>\n",
       "      <td>0.99</td>\n",
       "      <td>0.99</td>\n",
       "      <td>0.99</td>\n",
       "      <td>0.99</td>\n",
       "      <td>0.99</td>\n",
       "      <td>0.99</td>\n",
       "      <td>0.00</td>\n",
       "      <td>6</td>\n",
       "      <td>0.99</td>\n",
       "      <td>0.99</td>\n",
       "      <td>0.99</td>\n",
       "      <td>0.99</td>\n",
       "      <td>0.99</td>\n",
       "      <td>0.99</td>\n",
       "      <td>0.00</td>\n",
       "    </tr>\n",
       "    <tr>\n",
       "      <th>6</th>\n",
       "      <td>0.21</td>\n",
       "      <td>0.03</td>\n",
       "      <td>0.00</td>\n",
       "      <td>0.00</td>\n",
       "      <td>1000.00</td>\n",
       "      <td>{'mlpclassifier__alpha': 1000.0}</td>\n",
       "      <td>0.92</td>\n",
       "      <td>0.92</td>\n",
       "      <td>0.91</td>\n",
       "      <td>0.92</td>\n",
       "      <td>0.93</td>\n",
       "      <td>0.92</td>\n",
       "      <td>0.01</td>\n",
       "      <td>7</td>\n",
       "      <td>0.92</td>\n",
       "      <td>0.92</td>\n",
       "      <td>0.92</td>\n",
       "      <td>0.92</td>\n",
       "      <td>0.92</td>\n",
       "      <td>0.92</td>\n",
       "      <td>0.00</td>\n",
       "    </tr>\n",
       "  </tbody>\n",
       "</table>\n",
       "</div>"
      ],
      "text/plain": [
       "   mean_fit_time  std_fit_time  mean_score_time  std_score_time  \\\n",
       "0           0.14          0.04             0.00            0.00   \n",
       "1           0.12          0.01             0.00            0.00   \n",
       "2           0.12          0.01             0.00            0.00   \n",
       "3           0.23          0.02             0.00            0.00   \n",
       "4           0.37          0.01             0.00            0.00   \n",
       "5           0.24          0.01             0.00            0.00   \n",
       "6           0.21          0.03             0.00            0.00   \n",
       "\n",
       "  param_mlpclassifier__alpha                            params  \\\n",
       "0                       0.00   {'mlpclassifier__alpha': 0.001}   \n",
       "1                       0.01    {'mlpclassifier__alpha': 0.01}   \n",
       "2                       0.10     {'mlpclassifier__alpha': 0.1}   \n",
       "3                       1.00     {'mlpclassifier__alpha': 1.0}   \n",
       "4                      10.00    {'mlpclassifier__alpha': 10.0}   \n",
       "5                     100.00   {'mlpclassifier__alpha': 100.0}   \n",
       "6                    1000.00  {'mlpclassifier__alpha': 1000.0}   \n",
       "\n",
       "   split0_test_score  split1_test_score  split2_test_score  split3_test_score  \\\n",
       "0               1.00               1.00               1.00               1.00   \n",
       "1               1.00               1.00               1.00               1.00   \n",
       "2               1.00               1.00               1.00               1.00   \n",
       "3               1.00               1.00               1.00               1.00   \n",
       "4               1.00               1.00               1.00               1.00   \n",
       "5               0.99               0.99               0.99               0.99   \n",
       "6               0.92               0.92               0.91               0.92   \n",
       "\n",
       "   split4_test_score  mean_test_score  std_test_score  rank_test_score  \\\n",
       "0               1.00             1.00            0.00                1   \n",
       "1               1.00             1.00            0.00                1   \n",
       "2               1.00             1.00            0.00                1   \n",
       "3               1.00             1.00            0.00                4   \n",
       "4               1.00             1.00            0.00                5   \n",
       "5               0.99             0.99            0.00                6   \n",
       "6               0.93             0.92            0.01                7   \n",
       "\n",
       "   split0_train_score  split1_train_score  split2_train_score  \\\n",
       "0                1.00                1.00                1.00   \n",
       "1                1.00                1.00                1.00   \n",
       "2                1.00                1.00                1.00   \n",
       "3                1.00                1.00                1.00   \n",
       "4                1.00                1.00                1.00   \n",
       "5                0.99                0.99                0.99   \n",
       "6                0.92                0.92                0.92   \n",
       "\n",
       "   split3_train_score  split4_train_score  mean_train_score  std_train_score  \n",
       "0                1.00                1.00              1.00             0.00  \n",
       "1                1.00                1.00              1.00             0.00  \n",
       "2                1.00                1.00              1.00             0.00  \n",
       "3                1.00                1.00              1.00             0.00  \n",
       "4                1.00                1.00              1.00             0.00  \n",
       "5                0.99                0.99              0.99             0.00  \n",
       "6                0.92                0.92              0.92             0.00  "
      ]
     },
     "execution_count": 63,
     "metadata": {},
     "output_type": "execute_result"
    }
   ],
   "source": [
    "results"
   ]
  },
  {
   "cell_type": "code",
   "execution_count": 64,
   "metadata": {},
   "outputs": [
    {
     "data": {
      "text/html": [
       "<div>\n",
       "<style scoped>\n",
       "    .dataframe tbody tr th:only-of-type {\n",
       "        vertical-align: middle;\n",
       "    }\n",
       "\n",
       "    .dataframe tbody tr th {\n",
       "        vertical-align: top;\n",
       "    }\n",
       "\n",
       "    .dataframe thead th {\n",
       "        text-align: right;\n",
       "    }\n",
       "</style>\n",
       "<table border=\"1\" class=\"dataframe\">\n",
       "  <thead>\n",
       "    <tr style=\"text-align: right;\">\n",
       "      <th></th>\n",
       "      <th>mean_test_score</th>\n",
       "      <th>mean_train_score</th>\n",
       "    </tr>\n",
       "    <tr>\n",
       "      <th>param_mlpclassifier__alpha</th>\n",
       "      <th></th>\n",
       "      <th></th>\n",
       "    </tr>\n",
       "  </thead>\n",
       "  <tbody>\n",
       "    <tr>\n",
       "      <th>0.00</th>\n",
       "      <td>1.00</td>\n",
       "      <td>1.00</td>\n",
       "    </tr>\n",
       "    <tr>\n",
       "      <th>0.01</th>\n",
       "      <td>1.00</td>\n",
       "      <td>1.00</td>\n",
       "    </tr>\n",
       "    <tr>\n",
       "      <th>0.10</th>\n",
       "      <td>1.00</td>\n",
       "      <td>1.00</td>\n",
       "    </tr>\n",
       "    <tr>\n",
       "      <th>1.00</th>\n",
       "      <td>1.00</td>\n",
       "      <td>1.00</td>\n",
       "    </tr>\n",
       "    <tr>\n",
       "      <th>10.00</th>\n",
       "      <td>1.00</td>\n",
       "      <td>1.00</td>\n",
       "    </tr>\n",
       "    <tr>\n",
       "      <th>100.00</th>\n",
       "      <td>0.99</td>\n",
       "      <td>0.99</td>\n",
       "    </tr>\n",
       "    <tr>\n",
       "      <th>1000.00</th>\n",
       "      <td>0.92</td>\n",
       "      <td>0.92</td>\n",
       "    </tr>\n",
       "  </tbody>\n",
       "</table>\n",
       "</div>"
      ],
      "text/plain": [
       "                            mean_test_score  mean_train_score\n",
       "param_mlpclassifier__alpha                                   \n",
       "0.00                                   1.00              1.00\n",
       "0.01                                   1.00              1.00\n",
       "0.10                                   1.00              1.00\n",
       "1.00                                   1.00              1.00\n",
       "10.00                                  1.00              1.00\n",
       "100.00                                 0.99              0.99\n",
       "1000.00                                0.92              0.92"
      ]
     },
     "execution_count": 64,
     "metadata": {},
     "output_type": "execute_result"
    }
   ],
   "source": [
    "res"
   ]
  },
  {
   "cell_type": "code",
   "execution_count": 65,
   "metadata": {
    "scrolled": true
   },
   "outputs": [
    {
     "data": {
      "text/plain": [
       "<AxesSubplot:xlabel='param_mlpclassifier__alpha'>"
      ]
     },
     "execution_count": 65,
     "metadata": {},
     "output_type": "execute_result"
    },
    {
     "data": {
      "text/plain": [
       "(0.95, 1.01)"
      ]
     },
     "execution_count": 65,
     "metadata": {},
     "output_type": "execute_result"
    },
    {
     "data": {
      "image/png": "[encoded data removed]",
      "text/plain": [
       "<Figure size 432x288 with 1 Axes>"
      ]
     },
     "metadata": {
      "needs_background": "light"
     },
     "output_type": "display_data"
    }
   ],
   "source": [
    "res.plot()\n",
    "plt.xscale(\"log\")\n",
    "plt.ylim(0.95, 1.01)"
   ]
  },
  {
   "cell_type": "markdown",
   "metadata": {},
   "source": []
  },
  {
   "cell_type": "code",
   "execution_count": 66,
   "metadata": {},
   "outputs": [],
   "source": [
    "# hyperparameter tuning: hidden_layer_sizes\n",
    "\n",
    "pipe = make_pipeline( MLPClassifier(solver=\"lbfgs\", random_state=0))\n",
    "param_grid = {'mlpclassifier__hidden_layer_sizes':\n",
    "              [(10,), (50,), (100,), (500,), (10, 10), (50, 50), (100, 100), (500, 500)]\n",
    "             }\n",
    "grid = GridSearchCV(pipe, param_grid,return_train_score=True)"
   ]
  },
  {
   "cell_type": "code",
   "execution_count": 67,
   "metadata": {},
   "outputs": [
    {
     "data": {
      "text/plain": [
       "GridSearchCV(estimator=Pipeline(steps=[('mlpclassifier',\n",
       "                                        MLPClassifier(random_state=0,\n",
       "                                                      solver='lbfgs'))]),\n",
       "             param_grid={'mlpclassifier__hidden_layer_sizes': [(10,), (50,),\n",
       "                                                               (100,), (500,),\n",
       "                                                               (10, 10),\n",
       "                                                               (50, 50),\n",
       "                                                               (100, 100),\n",
       "                                                               (500, 500)]},\n",
       "             return_train_score=True)"
      ]
     },
     "execution_count": 67,
     "metadata": {},
     "output_type": "execute_result"
    }
   ],
   "source": [
    "grid.fit(X_train, y_train)"
   ]
  },
  {
   "cell_type": "code",
   "execution_count": 68,
   "metadata": {},
   "outputs": [
    {
     "data": {
      "text/html": [
       "<div>\n",
       "<style scoped>\n",
       "    .dataframe tbody tr th:only-of-type {\n",
       "        vertical-align: middle;\n",
       "    }\n",
       "\n",
       "    .dataframe tbody tr th {\n",
       "        vertical-align: top;\n",
       "    }\n",
       "\n",
       "    .dataframe thead th {\n",
       "        text-align: right;\n",
       "    }\n",
       "</style>\n",
       "<table border=\"1\" class=\"dataframe\">\n",
       "  <thead>\n",
       "    <tr style=\"text-align: right;\">\n",
       "      <th></th>\n",
       "      <th>mean_fit_time</th>\n",
       "      <th>std_fit_time</th>\n",
       "      <th>mean_score_time</th>\n",
       "      <th>std_score_time</th>\n",
       "      <th>param_mlpclassifier__hidden_layer_sizes</th>\n",
       "      <th>params</th>\n",
       "      <th>split0_test_score</th>\n",
       "      <th>split1_test_score</th>\n",
       "      <th>split2_test_score</th>\n",
       "      <th>split3_test_score</th>\n",
       "      <th>split4_test_score</th>\n",
       "      <th>mean_test_score</th>\n",
       "      <th>std_test_score</th>\n",
       "      <th>rank_test_score</th>\n",
       "      <th>split0_train_score</th>\n",
       "      <th>split1_train_score</th>\n",
       "      <th>split2_train_score</th>\n",
       "      <th>split3_train_score</th>\n",
       "      <th>split4_train_score</th>\n",
       "      <th>mean_train_score</th>\n",
       "      <th>std_train_score</th>\n",
       "    </tr>\n",
       "  </thead>\n",
       "  <tbody>\n",
       "    <tr>\n",
       "      <th>0</th>\n",
       "      <td>0.03</td>\n",
       "      <td>0.01</td>\n",
       "      <td>0.00</td>\n",
       "      <td>0.00</td>\n",
       "      <td>(10,)</td>\n",
       "      <td>{'mlpclassifier__hidden_layer_sizes': (10,)}</td>\n",
       "      <td>1.00</td>\n",
       "      <td>1.00</td>\n",
       "      <td>1.00</td>\n",
       "      <td>1.00</td>\n",
       "      <td>1.00</td>\n",
       "      <td>1.00</td>\n",
       "      <td>0.00</td>\n",
       "      <td>1</td>\n",
       "      <td>1.00</td>\n",
       "      <td>1.00</td>\n",
       "      <td>1.00</td>\n",
       "      <td>1.00</td>\n",
       "      <td>1.00</td>\n",
       "      <td>1.00</td>\n",
       "      <td>0.00</td>\n",
       "    </tr>\n",
       "    <tr>\n",
       "      <th>1</th>\n",
       "      <td>0.06</td>\n",
       "      <td>0.00</td>\n",
       "      <td>0.00</td>\n",
       "      <td>0.00</td>\n",
       "      <td>(50,)</td>\n",
       "      <td>{'mlpclassifier__hidden_layer_sizes': (50,)}</td>\n",
       "      <td>1.00</td>\n",
       "      <td>1.00</td>\n",
       "      <td>1.00</td>\n",
       "      <td>1.00</td>\n",
       "      <td>1.00</td>\n",
       "      <td>1.00</td>\n",
       "      <td>0.00</td>\n",
       "      <td>1</td>\n",
       "      <td>1.00</td>\n",
       "      <td>1.00</td>\n",
       "      <td>1.00</td>\n",
       "      <td>1.00</td>\n",
       "      <td>1.00</td>\n",
       "      <td>1.00</td>\n",
       "      <td>0.00</td>\n",
       "    </tr>\n",
       "    <tr>\n",
       "      <th>2</th>\n",
       "      <td>0.12</td>\n",
       "      <td>0.01</td>\n",
       "      <td>0.00</td>\n",
       "      <td>0.00</td>\n",
       "      <td>(100,)</td>\n",
       "      <td>{'mlpclassifier__hidden_layer_sizes': (100,)}</td>\n",
       "      <td>1.00</td>\n",
       "      <td>1.00</td>\n",
       "      <td>1.00</td>\n",
       "      <td>1.00</td>\n",
       "      <td>1.00</td>\n",
       "      <td>1.00</td>\n",
       "      <td>0.00</td>\n",
       "      <td>1</td>\n",
       "      <td>1.00</td>\n",
       "      <td>1.00</td>\n",
       "      <td>1.00</td>\n",
       "      <td>1.00</td>\n",
       "      <td>1.00</td>\n",
       "      <td>1.00</td>\n",
       "      <td>0.00</td>\n",
       "    </tr>\n",
       "    <tr>\n",
       "      <th>3</th>\n",
       "      <td>0.54</td>\n",
       "      <td>0.06</td>\n",
       "      <td>0.01</td>\n",
       "      <td>0.00</td>\n",
       "      <td>(500,)</td>\n",
       "      <td>{'mlpclassifier__hidden_layer_sizes': (500,)}</td>\n",
       "      <td>1.00</td>\n",
       "      <td>1.00</td>\n",
       "      <td>1.00</td>\n",
       "      <td>1.00</td>\n",
       "      <td>1.00</td>\n",
       "      <td>1.00</td>\n",
       "      <td>0.00</td>\n",
       "      <td>1</td>\n",
       "      <td>1.00</td>\n",
       "      <td>1.00</td>\n",
       "      <td>1.00</td>\n",
       "      <td>1.00</td>\n",
       "      <td>1.00</td>\n",
       "      <td>1.00</td>\n",
       "      <td>0.00</td>\n",
       "    </tr>\n",
       "    <tr>\n",
       "      <th>4</th>\n",
       "      <td>0.05</td>\n",
       "      <td>0.00</td>\n",
       "      <td>0.00</td>\n",
       "      <td>0.00</td>\n",
       "      <td>(10, 10)</td>\n",
       "      <td>{'mlpclassifier__hidden_layer_sizes': (10, 10)}</td>\n",
       "      <td>1.00</td>\n",
       "      <td>1.00</td>\n",
       "      <td>1.00</td>\n",
       "      <td>1.00</td>\n",
       "      <td>1.00</td>\n",
       "      <td>1.00</td>\n",
       "      <td>0.00</td>\n",
       "      <td>5</td>\n",
       "      <td>1.00</td>\n",
       "      <td>1.00</td>\n",
       "      <td>1.00</td>\n",
       "      <td>1.00</td>\n",
       "      <td>1.00</td>\n",
       "      <td>1.00</td>\n",
       "      <td>0.00</td>\n",
       "    </tr>\n",
       "    <tr>\n",
       "      <th>5</th>\n",
       "      <td>0.15</td>\n",
       "      <td>0.03</td>\n",
       "      <td>0.00</td>\n",
       "      <td>0.00</td>\n",
       "      <td>(50, 50)</td>\n",
       "      <td>{'mlpclassifier__hidden_layer_sizes': (50, 50)}</td>\n",
       "      <td>1.00</td>\n",
       "      <td>1.00</td>\n",
       "      <td>1.00</td>\n",
       "      <td>1.00</td>\n",
       "      <td>1.00</td>\n",
       "      <td>1.00</td>\n",
       "      <td>0.00</td>\n",
       "      <td>5</td>\n",
       "      <td>1.00</td>\n",
       "      <td>1.00</td>\n",
       "      <td>1.00</td>\n",
       "      <td>1.00</td>\n",
       "      <td>1.00</td>\n",
       "      <td>1.00</td>\n",
       "      <td>0.00</td>\n",
       "    </tr>\n",
       "    <tr>\n",
       "      <th>6</th>\n",
       "      <td>0.25</td>\n",
       "      <td>0.02</td>\n",
       "      <td>0.00</td>\n",
       "      <td>0.00</td>\n",
       "      <td>(100, 100)</td>\n",
       "      <td>{'mlpclassifier__hidden_layer_sizes': (100, 100)}</td>\n",
       "      <td>1.00</td>\n",
       "      <td>1.00</td>\n",
       "      <td>1.00</td>\n",
       "      <td>1.00</td>\n",
       "      <td>1.00</td>\n",
       "      <td>1.00</td>\n",
       "      <td>0.00</td>\n",
       "      <td>5</td>\n",
       "      <td>1.00</td>\n",
       "      <td>1.00</td>\n",
       "      <td>1.00</td>\n",
       "      <td>1.00</td>\n",
       "      <td>1.00</td>\n",
       "      <td>1.00</td>\n",
       "      <td>0.00</td>\n",
       "    </tr>\n",
       "    <tr>\n",
       "      <th>7</th>\n",
       "      <td>2.32</td>\n",
       "      <td>0.07</td>\n",
       "      <td>0.01</td>\n",
       "      <td>0.00</td>\n",
       "      <td>(500, 500)</td>\n",
       "      <td>{'mlpclassifier__hidden_layer_sizes': (500, 500)}</td>\n",
       "      <td>1.00</td>\n",
       "      <td>1.00</td>\n",
       "      <td>1.00</td>\n",
       "      <td>1.00</td>\n",
       "      <td>1.00</td>\n",
       "      <td>1.00</td>\n",
       "      <td>0.00</td>\n",
       "      <td>5</td>\n",
       "      <td>1.00</td>\n",
       "      <td>1.00</td>\n",
       "      <td>1.00</td>\n",
       "      <td>1.00</td>\n",
       "      <td>1.00</td>\n",
       "      <td>1.00</td>\n",
       "      <td>0.00</td>\n",
       "    </tr>\n",
       "  </tbody>\n",
       "</table>\n",
       "</div>"
      ],
      "text/plain": [
       "   mean_fit_time  std_fit_time  mean_score_time  std_score_time  \\\n",
       "0           0.03          0.01             0.00            0.00   \n",
       "1           0.06          0.00             0.00            0.00   \n",
       "2           0.12          0.01             0.00            0.00   \n",
       "3           0.54          0.06             0.01            0.00   \n",
       "4           0.05          0.00             0.00            0.00   \n",
       "5           0.15          0.03             0.00            0.00   \n",
       "6           0.25          0.02             0.00            0.00   \n",
       "7           2.32          0.07             0.01            0.00   \n",
       "\n",
       "  param_mlpclassifier__hidden_layer_sizes  \\\n",
       "0                                   (10,)   \n",
       "1                                   (50,)   \n",
       "2                                  (100,)   \n",
       "3                                  (500,)   \n",
       "4                                (10, 10)   \n",
       "5                                (50, 50)   \n",
       "6                              (100, 100)   \n",
       "7                              (500, 500)   \n",
       "\n",
       "                                              params  split0_test_score  \\\n",
       "0       {'mlpclassifier__hidden_layer_sizes': (10,)}               1.00   \n",
       "1       {'mlpclassifier__hidden_layer_sizes': (50,)}               1.00   \n",
       "2      {'mlpclassifier__hidden_layer_sizes': (100,)}               1.00   \n",
       "3      {'mlpclassifier__hidden_layer_sizes': (500,)}               1.00   \n",
       "4    {'mlpclassifier__hidden_layer_sizes': (10, 10)}               1.00   \n",
       "5    {'mlpclassifier__hidden_layer_sizes': (50, 50)}               1.00   \n",
       "6  {'mlpclassifier__hidden_layer_sizes': (100, 100)}               1.00   \n",
       "7  {'mlpclassifier__hidden_layer_sizes': (500, 500)}               1.00   \n",
       "\n",
       "   split1_test_score  split2_test_score  split3_test_score  split4_test_score  \\\n",
       "0               1.00               1.00               1.00               1.00   \n",
       "1               1.00               1.00               1.00               1.00   \n",
       "2               1.00               1.00               1.00               1.00   \n",
       "3               1.00               1.00               1.00               1.00   \n",
       "4               1.00               1.00               1.00               1.00   \n",
       "5               1.00               1.00               1.00               1.00   \n",
       "6               1.00               1.00               1.00               1.00   \n",
       "7               1.00               1.00               1.00               1.00   \n",
       "\n",
       "   mean_test_score  std_test_score  rank_test_score  split0_train_score  \\\n",
       "0             1.00            0.00                1                1.00   \n",
       "1             1.00            0.00                1                1.00   \n",
       "2             1.00            0.00                1                1.00   \n",
       "3             1.00            0.00                1                1.00   \n",
       "4             1.00            0.00                5                1.00   \n",
       "5             1.00            0.00                5                1.00   \n",
       "6             1.00            0.00                5                1.00   \n",
       "7             1.00            0.00                5                1.00   \n",
       "\n",
       "   split1_train_score  split2_train_score  split3_train_score  \\\n",
       "0                1.00                1.00                1.00   \n",
       "1                1.00                1.00                1.00   \n",
       "2                1.00                1.00                1.00   \n",
       "3                1.00                1.00                1.00   \n",
       "4                1.00                1.00                1.00   \n",
       "5                1.00                1.00                1.00   \n",
       "6                1.00                1.00                1.00   \n",
       "7                1.00                1.00                1.00   \n",
       "\n",
       "   split4_train_score  mean_train_score  std_train_score  \n",
       "0                1.00              1.00             0.00  \n",
       "1                1.00              1.00             0.00  \n",
       "2                1.00              1.00             0.00  \n",
       "3                1.00              1.00             0.00  \n",
       "4                1.00              1.00             0.00  \n",
       "5                1.00              1.00             0.00  \n",
       "6                1.00              1.00             0.00  \n",
       "7                1.00              1.00             0.00  "
      ]
     },
     "execution_count": 68,
     "metadata": {},
     "output_type": "execute_result"
    }
   ],
   "source": [
    "results = pd.DataFrame(grid.cv_results_)\n",
    "results"
   ]
  },
  {
   "cell_type": "code",
   "execution_count": 69,
   "metadata": {},
   "outputs": [],
   "source": [
    "res = results.pivot_table(index=\"param_mlpclassifier__hidden_layer_sizes\", values=[\"mean_test_score\", \"mean_train_score\", \"std_test_score\", \"std_train_score\"])"
   ]
  },
  {
   "cell_type": "code",
   "execution_count": 70,
   "metadata": {},
   "outputs": [
    {
     "data": {
      "text/html": [
       "<div>\n",
       "<style scoped>\n",
       "    .dataframe tbody tr th:only-of-type {\n",
       "        vertical-align: middle;\n",
       "    }\n",
       "\n",
       "    .dataframe tbody tr th {\n",
       "        vertical-align: top;\n",
       "    }\n",
       "\n",
       "    .dataframe thead th {\n",
       "        text-align: right;\n",
       "    }\n",
       "</style>\n",
       "<table border=\"1\" class=\"dataframe\">\n",
       "  <thead>\n",
       "    <tr style=\"text-align: right;\">\n",
       "      <th></th>\n",
       "      <th>mean_test_score</th>\n",
       "      <th>mean_train_score</th>\n",
       "      <th>std_test_score</th>\n",
       "      <th>std_train_score</th>\n",
       "    </tr>\n",
       "    <tr>\n",
       "      <th>param_mlpclassifier__hidden_layer_sizes</th>\n",
       "      <th></th>\n",
       "      <th></th>\n",
       "      <th></th>\n",
       "      <th></th>\n",
       "    </tr>\n",
       "  </thead>\n",
       "  <tbody>\n",
       "    <tr>\n",
       "      <th>(10,)</th>\n",
       "      <td>1.00</td>\n",
       "      <td>1.00</td>\n",
       "      <td>0.00</td>\n",
       "      <td>0.00</td>\n",
       "    </tr>\n",
       "    <tr>\n",
       "      <th>(10, 10)</th>\n",
       "      <td>1.00</td>\n",
       "      <td>1.00</td>\n",
       "      <td>0.00</td>\n",
       "      <td>0.00</td>\n",
       "    </tr>\n",
       "    <tr>\n",
       "      <th>(50,)</th>\n",
       "      <td>1.00</td>\n",
       "      <td>1.00</td>\n",
       "      <td>0.00</td>\n",
       "      <td>0.00</td>\n",
       "    </tr>\n",
       "    <tr>\n",
       "      <th>(50, 50)</th>\n",
       "      <td>1.00</td>\n",
       "      <td>1.00</td>\n",
       "      <td>0.00</td>\n",
       "      <td>0.00</td>\n",
       "    </tr>\n",
       "    <tr>\n",
       "      <th>(100,)</th>\n",
       "      <td>1.00</td>\n",
       "      <td>1.00</td>\n",
       "      <td>0.00</td>\n",
       "      <td>0.00</td>\n",
       "    </tr>\n",
       "    <tr>\n",
       "      <th>(100, 100)</th>\n",
       "      <td>1.00</td>\n",
       "      <td>1.00</td>\n",
       "      <td>0.00</td>\n",
       "      <td>0.00</td>\n",
       "    </tr>\n",
       "    <tr>\n",
       "      <th>(500,)</th>\n",
       "      <td>1.00</td>\n",
       "      <td>1.00</td>\n",
       "      <td>0.00</td>\n",
       "      <td>0.00</td>\n",
       "    </tr>\n",
       "    <tr>\n",
       "      <th>(500, 500)</th>\n",
       "      <td>1.00</td>\n",
       "      <td>1.00</td>\n",
       "      <td>0.00</td>\n",
       "      <td>0.00</td>\n",
       "    </tr>\n",
       "  </tbody>\n",
       "</table>\n",
       "</div>"
      ],
      "text/plain": [
       "                                         mean_test_score  mean_train_score  \\\n",
       "param_mlpclassifier__hidden_layer_sizes                                      \n",
       "(10,)                                               1.00              1.00   \n",
       "(10, 10)                                            1.00              1.00   \n",
       "(50,)                                               1.00              1.00   \n",
       "(50, 50)                                            1.00              1.00   \n",
       "(100,)                                              1.00              1.00   \n",
       "(100, 100)                                          1.00              1.00   \n",
       "(500,)                                              1.00              1.00   \n",
       "(500, 500)                                          1.00              1.00   \n",
       "\n",
       "                                         std_test_score  std_train_score  \n",
       "param_mlpclassifier__hidden_layer_sizes                                   \n",
       "(10,)                                              0.00             0.00  \n",
       "(10, 10)                                           0.00             0.00  \n",
       "(50,)                                              0.00             0.00  \n",
       "(50, 50)                                           0.00             0.00  \n",
       "(100,)                                             0.00             0.00  \n",
       "(100, 100)                                         0.00             0.00  \n",
       "(500,)                                             0.00             0.00  \n",
       "(500, 500)                                         0.00             0.00  "
      ]
     },
     "execution_count": 70,
     "metadata": {},
     "output_type": "execute_result"
    }
   ],
   "source": [
    "res"
   ]
  },
  {
   "cell_type": "code",
   "execution_count": null,
   "metadata": {},
   "outputs": [],
   "source": []
  },
  {
   "cell_type": "markdown",
   "metadata": {},
   "source": [
    "### DNN (Deep Neural Networks)"
   ]
  },
  {
   "cell_type": "code",
   "execution_count": 71,
   "metadata": {},
   "outputs": [],
   "source": [
    "import tensorflow as tf\n",
    "from keras.models import Sequential\n",
    "from keras.layers import Dense, Dropout\n",
    "from keras.metrics import binary_crossentropy\n",
    "from keras.layers import Dense, Activation"
   ]
  },
  {
   "cell_type": "code",
   "execution_count": 72,
   "metadata": {
    "scrolled": true
   },
   "outputs": [
    {
     "data": {
      "text/plain": [
       "80"
      ]
     },
     "execution_count": 72,
     "metadata": {},
     "output_type": "execute_result"
    }
   ],
   "source": [
    "num_features = data.shape[1] - 1\n",
    "num_features"
   ]
  },
  {
   "cell_type": "code",
   "execution_count": 73,
   "metadata": {},
   "outputs": [],
   "source": [
    "### Build neural network architecture ###\n",
    "num_features = data.shape[1] - 1\n",
    "\n",
    "model = Sequential([\n",
    "    Dense(16, input_shape=(num_features,)),\n",
    "    Activation('relu'),\n",
    "    Dense(12),\n",
    "    Activation('relu'),\n",
    "    Dense(8),\n",
    "    Activation('relu'),\n",
    "    Dense(4),\n",
    "    Activation('relu'),\n",
    "    Dense(1),\n",
    "    Activation('sigmoid')\n",
    "])\n"
   ]
  },
  {
   "cell_type": "code",
   "execution_count": 74,
   "metadata": {},
   "outputs": [],
   "source": [
    "model.compile(loss='binary_crossentropy', optimizer='adam', \n",
    "              metrics=['binary_accuracy'])"
   ]
  },
  {
   "cell_type": "code",
   "execution_count": 75,
   "metadata": {},
   "outputs": [
    {
     "name": "stdout",
     "output_type": "stream",
     "text": [
      "Model: \"sequential\"\n",
      "_________________________________________________________________\n",
      "Layer (type)                 Output Shape              Param #   \n",
      "=================================================================\n",
      "dense (Dense)                (None, 16)                1296      \n",
      "_________________________________________________________________\n",
      "activation (Activation)      (None, 16)                0         \n",
      "_________________________________________________________________\n",
      "dense_1 (Dense)              (None, 12)                204       \n",
      "_________________________________________________________________\n",
      "activation_1 (Activation)    (None, 12)                0         \n",
      "_________________________________________________________________\n",
      "dense_2 (Dense)              (None, 8)                 104       \n",
      "_________________________________________________________________\n",
      "activation_2 (Activation)    (None, 8)                 0         \n",
      "_________________________________________________________________\n",
      "dense_3 (Dense)              (None, 4)                 36        \n",
      "_________________________________________________________________\n",
      "activation_3 (Activation)    (None, 4)                 0         \n",
      "_________________________________________________________________\n",
      "dense_4 (Dense)              (None, 1)                 5         \n",
      "_________________________________________________________________\n",
      "activation_4 (Activation)    (None, 1)                 0         \n",
      "=================================================================\n",
      "Total params: 1,645\n",
      "Trainable params: 1,645\n",
      "Non-trainable params: 0\n",
      "_________________________________________________________________\n"
     ]
    }
   ],
   "source": [
    "model.summary()"
   ]
  },
  {
   "cell_type": "code",
   "execution_count": 76,
   "metadata": {
    "scrolled": true
   },
   "outputs": [
    {
     "name": "stdout",
     "output_type": "stream",
     "text": [
      "Epoch 1/10\n",
      "244/244 [==============================] - 1s 3ms/step - loss: 0.4712 - binary_accuracy: 0.7926 - val_loss: 0.0271 - val_binary_accuracy: 0.9920\n",
      "Epoch 2/10\n",
      "244/244 [==============================] - 0s 818us/step - loss: 0.0180 - binary_accuracy: 0.9961 - val_loss: 0.0085 - val_binary_accuracy: 0.9988\n",
      "Epoch 3/10\n",
      "244/244 [==============================] - 0s 805us/step - loss: 0.0071 - binary_accuracy: 0.9983 - val_loss: 0.0040 - val_binary_accuracy: 0.9988\n",
      "Epoch 4/10\n",
      "244/244 [==============================] - 0s 792us/step - loss: 0.0024 - binary_accuracy: 1.0000 - val_loss: 0.0014 - val_binary_accuracy: 1.0000\n",
      "Epoch 5/10\n",
      "244/244 [==============================] - 0s 795us/step - loss: 0.0011 - binary_accuracy: 1.0000 - val_loss: 8.5229e-04 - val_binary_accuracy: 1.0000\n",
      "Epoch 6/10\n",
      "244/244 [==============================] - 0s 793us/step - loss: 5.0879e-04 - binary_accuracy: 1.0000 - val_loss: 7.7484e-04 - val_binary_accuracy: 1.0000\n",
      "Epoch 7/10\n",
      "244/244 [==============================] - 0s 796us/step - loss: 2.9983e-04 - binary_accuracy: 1.0000 - val_loss: 4.8967e-04 - val_binary_accuracy: 1.0000\n",
      "Epoch 8/10\n",
      "244/244 [==============================] - 0s 804us/step - loss: 2.7590e-04 - binary_accuracy: 1.0000 - val_loss: 3.0640e-04 - val_binary_accuracy: 1.0000\n",
      "Epoch 9/10\n",
      "244/244 [==============================] - 0s 791us/step - loss: 1.5209e-04 - binary_accuracy: 1.0000 - val_loss: 2.4201e-04 - val_binary_accuracy: 1.0000\n",
      "Epoch 10/10\n",
      "244/244 [==============================] - 0s 786us/step - loss: 1.0238e-04 - binary_accuracy: 1.0000 - val_loss: 1.6151e-04 - val_binary_accuracy: 1.0000\n"
     ]
    }
   ],
   "source": [
    "my_epochs =10\n",
    "history = model.fit(X_train, y_train, epochs=my_epochs, batch_size=20,\n",
    "                    validation_data=(X_test, y_test))"
   ]
  },
  {
   "cell_type": "code",
   "execution_count": 77,
   "metadata": {
    "scrolled": true
   },
   "outputs": [
    {
     "data": {
      "text/html": [
       "<div>\n",
       "<style scoped>\n",
       "    .dataframe tbody tr th:only-of-type {\n",
       "        vertical-align: middle;\n",
       "    }\n",
       "\n",
       "    .dataframe tbody tr th {\n",
       "        vertical-align: top;\n",
       "    }\n",
       "\n",
       "    .dataframe thead th {\n",
       "        text-align: right;\n",
       "    }\n",
       "</style>\n",
       "<table border=\"1\" class=\"dataframe\">\n",
       "  <thead>\n",
       "    <tr style=\"text-align: right;\">\n",
       "      <th></th>\n",
       "      <th>loss</th>\n",
       "      <th>binary_accuracy</th>\n",
       "      <th>val_loss</th>\n",
       "      <th>val_binary_accuracy</th>\n",
       "    </tr>\n",
       "  </thead>\n",
       "  <tbody>\n",
       "    <tr>\n",
       "      <th>0</th>\n",
       "      <td>0.26</td>\n",
       "      <td>0.91</td>\n",
       "      <td>0.03</td>\n",
       "      <td>0.99</td>\n",
       "    </tr>\n",
       "    <tr>\n",
       "      <th>1</th>\n",
       "      <td>0.01</td>\n",
       "      <td>1.00</td>\n",
       "      <td>0.01</td>\n",
       "      <td>1.00</td>\n",
       "    </tr>\n",
       "    <tr>\n",
       "      <th>2</th>\n",
       "      <td>0.00</td>\n",
       "      <td>1.00</td>\n",
       "      <td>0.00</td>\n",
       "      <td>1.00</td>\n",
       "    </tr>\n",
       "    <tr>\n",
       "      <th>3</th>\n",
       "      <td>0.00</td>\n",
       "      <td>1.00</td>\n",
       "      <td>0.00</td>\n",
       "      <td>1.00</td>\n",
       "    </tr>\n",
       "    <tr>\n",
       "      <th>4</th>\n",
       "      <td>0.00</td>\n",
       "      <td>1.00</td>\n",
       "      <td>0.00</td>\n",
       "      <td>1.00</td>\n",
       "    </tr>\n",
       "    <tr>\n",
       "      <th>5</th>\n",
       "      <td>0.00</td>\n",
       "      <td>1.00</td>\n",
       "      <td>0.00</td>\n",
       "      <td>1.00</td>\n",
       "    </tr>\n",
       "    <tr>\n",
       "      <th>6</th>\n",
       "      <td>0.00</td>\n",
       "      <td>1.00</td>\n",
       "      <td>0.00</td>\n",
       "      <td>1.00</td>\n",
       "    </tr>\n",
       "    <tr>\n",
       "      <th>7</th>\n",
       "      <td>0.00</td>\n",
       "      <td>1.00</td>\n",
       "      <td>0.00</td>\n",
       "      <td>1.00</td>\n",
       "    </tr>\n",
       "    <tr>\n",
       "      <th>8</th>\n",
       "      <td>0.00</td>\n",
       "      <td>1.00</td>\n",
       "      <td>0.00</td>\n",
       "      <td>1.00</td>\n",
       "    </tr>\n",
       "    <tr>\n",
       "      <th>9</th>\n",
       "      <td>0.00</td>\n",
       "      <td>1.00</td>\n",
       "      <td>0.00</td>\n",
       "      <td>1.00</td>\n",
       "    </tr>\n",
       "  </tbody>\n",
       "</table>\n",
       "</div>"
      ],
      "text/plain": [
       "   loss  binary_accuracy  val_loss  val_binary_accuracy\n",
       "0  0.26             0.91      0.03                 0.99\n",
       "1  0.01             1.00      0.01                 1.00\n",
       "2  0.00             1.00      0.00                 1.00\n",
       "3  0.00             1.00      0.00                 1.00\n",
       "4  0.00             1.00      0.00                 1.00\n",
       "5  0.00             1.00      0.00                 1.00\n",
       "6  0.00             1.00      0.00                 1.00\n",
       "7  0.00             1.00      0.00                 1.00\n",
       "8  0.00             1.00      0.00                 1.00\n",
       "9  0.00             1.00      0.00                 1.00"
      ]
     },
     "execution_count": 77,
     "metadata": {},
     "output_type": "execute_result"
    }
   ],
   "source": [
    "pd.DataFrame(history.history)"
   ]
  },
  {
   "cell_type": "code",
   "execution_count": 78,
   "metadata": {},
   "outputs": [
    {
     "data": {
      "text/plain": [
       "<AxesSubplot:>"
      ]
     },
     "execution_count": 78,
     "metadata": {},
     "output_type": "execute_result"
    },
    {
     "data": {
      "image/png": "[encoded data removed]",
      "text/plain": [
       "<Figure size 432x288 with 1 Axes>"
      ]
     },
     "metadata": {
      "needs_background": "light"
     },
     "output_type": "display_data"
    }
   ],
   "source": [
    "pd.DataFrame(history.history).plot()"
   ]
  },
  {
   "cell_type": "code",
   "execution_count": 79,
   "metadata": {
    "scrolled": true
   },
   "outputs": [
    {
     "name": "stdout",
     "output_type": "stream",
     "text": [
      "Validation Accuracy: 100.00\n",
      "Test Accuracy: 100.00\n"
     ]
    }
   ],
   "source": [
    "score = model.evaluate(X_validation, y_validation, verbose=0)\n",
    "_, accuracy = model.evaluate(X_test, y_test, verbose=0)\n",
    "\n",
    "\n",
    "print(\"Validation Accuracy: {:.2f}\".format(score[1]*100))\n",
    "print('Test Accuracy: %.2f' % (accuracy*100))"
   ]
  },
  {
   "cell_type": "markdown",
   "metadata": {},
   "source": [
    "## Bundled Together"
   ]
  },
  {
   "cell_type": "code",
   "execution_count": 80,
   "metadata": {},
   "outputs": [
    {
     "data": {
      "text/plain": [
       "((6499, 80), (6499,))"
      ]
     },
     "execution_count": 80,
     "metadata": {},
     "output_type": "execute_result"
    },
    {
     "data": {
      "text/plain": [
       "((1625, 80), (1625,))"
      ]
     },
     "execution_count": 80,
     "metadata": {},
     "output_type": "execute_result"
    }
   ],
   "source": [
    "from sklearn.model_selection import train_test_split\n",
    "X_train, X_test, y_train, y_test = train_test_split(X, y, stratify=y, test_size=0.2)\n",
    "X = data.drop(['class'], axis=1)\n",
    "y = data['class']\n",
    "X_train.shape, y_train.shape\n",
    "X_test.shape, y_test.shape"
   ]
  },
  {
   "cell_type": "code",
   "execution_count": 81,
   "metadata": {},
   "outputs": [],
   "source": [
    "from sklearn.neural_network import MLPClassifier\n",
    "from sklearn.neighbors import KNeighborsClassifier\n",
    "from sklearn.svm import SVC\n",
    "from sklearn.gaussian_process import GaussianProcessClassifier\n",
    "from sklearn.ensemble import GradientBoostingClassifier\n",
    "from sklearn.gaussian_process.kernels import RBF\n",
    "from sklearn.tree import DecisionTreeClassifier\n",
    "from sklearn.ensemble import ExtraTreesClassifier\n",
    "from sklearn.ensemble import RandomForestClassifier, AdaBoostClassifier\n",
    "from sklearn.naive_bayes import GaussianNB\n",
    "from sklearn.discriminant_analysis import QuadraticDiscriminantAnalysis\n",
    "from sklearn.linear_model import SGDClassifier"
   ]
  },
  {
   "cell_type": "code",
   "execution_count": 82,
   "metadata": {},
   "outputs": [],
   "source": [
    "names = [\"Logistic_Regression\", \"Logistic_Regression_Tuned\", \"Nearest_Neighbors\", \"Linear_SVM\", \n",
    "         \"Polynomial_SVM\", \"Gradient_Boosting\", \n",
    "         \"Decision_Tree\", \"Extra_Trees\", \"Random_Forest\", \"Neural_Net\", \"AdaBoost\",\n",
    "         \"Naive_Bayes\", \"QDA\", \"SGD\"]\n",
    "\n",
    "classifiers = [\n",
    "    LogisticRegression(solver=\"lbfgs\"),\n",
    "    LogisticRegression(solver=\"lbfgs\", C=100),\n",
    "    KNeighborsClassifier(3),\n",
    "    SVC(kernel=\"linear\", C=10),\n",
    "    SVC(kernel=\"poly\", degree=3, C=10),\n",
    "#     SVC(kernel=\"rbf\", C=1, gamma=2),  #, \"RBF_SVM\"\n",
    "#     GaussianProcessClassifier(1.0 * RBF(1.0)),  #\"Gaussian_Process\",\n",
    "    GradientBoostingClassifier(n_estimators=100, learning_rate=1.0),\n",
    "    DecisionTreeClassifier(max_depth=5),\n",
    "    ExtraTreesClassifier(n_estimators=10, min_samples_split=2),\n",
    "    RandomForestClassifier(max_depth=5, n_estimators=100),\n",
    "    MLPClassifier(alpha = 1, hidden_layer_sizes=50, max_iter=1000, random_state=0),\n",
    "    AdaBoostClassifier(n_estimators=100),\n",
    "    GaussianNB(),\n",
    "    QuadraticDiscriminantAnalysis(),\n",
    "    SGDClassifier(loss=\"hinge\", penalty=\"l2\")]"
   ]
  },
  {
   "cell_type": "code",
   "execution_count": 83,
   "metadata": {},
   "outputs": [
    {
     "data": {
      "text/plain": [
       "LogisticRegression()"
      ]
     },
     "execution_count": 83,
     "metadata": {},
     "output_type": "execute_result"
    },
    {
     "data": {
      "text/plain": [
       "LogisticRegression(C=100)"
      ]
     },
     "execution_count": 83,
     "metadata": {},
     "output_type": "execute_result"
    },
    {
     "data": {
      "text/plain": [
       "KNeighborsClassifier(n_neighbors=3)"
      ]
     },
     "execution_count": 83,
     "metadata": {},
     "output_type": "execute_result"
    },
    {
     "data": {
      "text/plain": [
       "SVC(C=10, kernel='linear')"
      ]
     },
     "execution_count": 83,
     "metadata": {},
     "output_type": "execute_result"
    },
    {
     "data": {
      "text/plain": [
       "SVC(C=10, kernel='poly')"
      ]
     },
     "execution_count": 83,
     "metadata": {},
     "output_type": "execute_result"
    },
    {
     "data": {
      "text/plain": [
       "GradientBoostingClassifier(learning_rate=1.0)"
      ]
     },
     "execution_count": 83,
     "metadata": {},
     "output_type": "execute_result"
    },
    {
     "data": {
      "text/plain": [
       "DecisionTreeClassifier(max_depth=5)"
      ]
     },
     "execution_count": 83,
     "metadata": {},
     "output_type": "execute_result"
    },
    {
     "data": {
      "text/plain": [
       "ExtraTreesClassifier(n_estimators=10)"
      ]
     },
     "execution_count": 83,
     "metadata": {},
     "output_type": "execute_result"
    },
    {
     "data": {
      "text/plain": [
       "RandomForestClassifier(max_depth=5)"
      ]
     },
     "execution_count": 83,
     "metadata": {},
     "output_type": "execute_result"
    },
    {
     "data": {
      "text/plain": [
       "MLPClassifier(alpha=1, hidden_layer_sizes=50, max_iter=1000, random_state=0)"
      ]
     },
     "execution_count": 83,
     "metadata": {},
     "output_type": "execute_result"
    },
    {
     "data": {
      "text/plain": [
       "AdaBoostClassifier(n_estimators=100)"
      ]
     },
     "execution_count": 83,
     "metadata": {},
     "output_type": "execute_result"
    },
    {
     "data": {
      "text/plain": [
       "GaussianNB()"
      ]
     },
     "execution_count": 83,
     "metadata": {},
     "output_type": "execute_result"
    },
    {
     "data": {
      "text/plain": [
       "QuadraticDiscriminantAnalysis()"
      ]
     },
     "execution_count": 83,
     "metadata": {},
     "output_type": "execute_result"
    },
    {
     "data": {
      "text/plain": [
       "SGDClassifier()"
      ]
     },
     "execution_count": 83,
     "metadata": {},
     "output_type": "execute_result"
    }
   ],
   "source": [
    "scores = []\n",
    "for name, clf in zip(names, classifiers):\n",
    "    clf.fit(X_train, y_train)\n",
    "    score = clf.score(X_test, y_test)\n",
    "    scores.append(score)"
   ]
  },
  {
   "cell_type": "code",
   "execution_count": 84,
   "metadata": {},
   "outputs": [
    {
     "data": {
      "text/html": [
       "<div>\n",
       "<style scoped>\n",
       "    .dataframe tbody tr th:only-of-type {\n",
       "        vertical-align: middle;\n",
       "    }\n",
       "\n",
       "    .dataframe tbody tr th {\n",
       "        vertical-align: top;\n",
       "    }\n",
       "\n",
       "    .dataframe thead th {\n",
       "        text-align: right;\n",
       "    }\n",
       "</style>\n",
       "<table border=\"1\" class=\"dataframe\">\n",
       "  <thead>\n",
       "    <tr style=\"text-align: right;\">\n",
       "      <th></th>\n",
       "      <th>name</th>\n",
       "      <th>score</th>\n",
       "    </tr>\n",
       "  </thead>\n",
       "  <tbody>\n",
       "    <tr>\n",
       "      <th>0</th>\n",
       "      <td>Logistic_Regression</td>\n",
       "      <td>1.00</td>\n",
       "    </tr>\n",
       "    <tr>\n",
       "      <th>1</th>\n",
       "      <td>Logistic_Regression_Tuned</td>\n",
       "      <td>1.00</td>\n",
       "    </tr>\n",
       "    <tr>\n",
       "      <th>2</th>\n",
       "      <td>Nearest_Neighbors</td>\n",
       "      <td>1.00</td>\n",
       "    </tr>\n",
       "    <tr>\n",
       "      <th>3</th>\n",
       "      <td>Linear_SVM</td>\n",
       "      <td>1.00</td>\n",
       "    </tr>\n",
       "    <tr>\n",
       "      <th>4</th>\n",
       "      <td>Polynomial_SVM</td>\n",
       "      <td>1.00</td>\n",
       "    </tr>\n",
       "    <tr>\n",
       "      <th>5</th>\n",
       "      <td>Gradient_Boosting</td>\n",
       "      <td>1.00</td>\n",
       "    </tr>\n",
       "    <tr>\n",
       "      <th>7</th>\n",
       "      <td>Extra_Trees</td>\n",
       "      <td>1.00</td>\n",
       "    </tr>\n",
       "    <tr>\n",
       "      <th>10</th>\n",
       "      <td>AdaBoost</td>\n",
       "      <td>1.00</td>\n",
       "    </tr>\n",
       "    <tr>\n",
       "      <th>12</th>\n",
       "      <td>QDA</td>\n",
       "      <td>1.00</td>\n",
       "    </tr>\n",
       "    <tr>\n",
       "      <th>13</th>\n",
       "      <td>SGD</td>\n",
       "      <td>1.00</td>\n",
       "    </tr>\n",
       "    <tr>\n",
       "      <th>9</th>\n",
       "      <td>Neural_Net</td>\n",
       "      <td>1.00</td>\n",
       "    </tr>\n",
       "    <tr>\n",
       "      <th>6</th>\n",
       "      <td>Decision_Tree</td>\n",
       "      <td>0.99</td>\n",
       "    </tr>\n",
       "    <tr>\n",
       "      <th>11</th>\n",
       "      <td>Naive_Bayes</td>\n",
       "      <td>0.99</td>\n",
       "    </tr>\n",
       "    <tr>\n",
       "      <th>8</th>\n",
       "      <td>Random_Forest</td>\n",
       "      <td>0.99</td>\n",
       "    </tr>\n",
       "  </tbody>\n",
       "</table>\n",
       "</div>"
      ],
      "text/plain": [
       "                         name  score\n",
       "0         Logistic_Regression   1.00\n",
       "1   Logistic_Regression_Tuned   1.00\n",
       "2           Nearest_Neighbors   1.00\n",
       "3                  Linear_SVM   1.00\n",
       "4              Polynomial_SVM   1.00\n",
       "5           Gradient_Boosting   1.00\n",
       "7                 Extra_Trees   1.00\n",
       "10                   AdaBoost   1.00\n",
       "12                        QDA   1.00\n",
       "13                        SGD   1.00\n",
       "9                  Neural_Net   1.00\n",
       "6               Decision_Tree   0.99\n",
       "11                Naive_Bayes   0.99\n",
       "8               Random_Forest   0.99"
      ]
     },
     "execution_count": 84,
     "metadata": {},
     "output_type": "execute_result"
    }
   ],
   "source": [
    "import pandas as pd\n",
    "import seaborn as sns\n",
    "df = pd.DataFrame()\n",
    "df['name'] = names\n",
    "df['score'] = scores\n",
    "df.sort_values(by=\"score\", ascending=False)"
   ]
  },
  {
   "cell_type": "code",
   "execution_count": 85,
   "metadata": {},
   "outputs": [
    {
     "data": {
      "image/png": "[encoded data removed]",
      "text/plain": [
       "<Figure size 432x288 with 1 Axes>"
      ]
     },
     "metadata": {},
     "output_type": "display_data"
    }
   ],
   "source": [
    "sns.set(style=\"whitegrid\")\n",
    "ax = sns.barplot(y=\"name\", x=\"score\", data=df.sort_values(by=\"score\", ascending=False))"
   ]
  },
  {
   "cell_type": "code",
   "execution_count": null,
   "metadata": {},
   "outputs": [],
   "source": []
  },
  {
   "cell_type": "markdown",
   "metadata": {},
   "source": [
    "## Discussion\n",
    "### Results\n",
    "\n",
    "The training, validation, and test sets all achieve ~100% accuracy. "
   ]
  },
  {
   "cell_type": "markdown",
   "metadata": {},
   "source": [
    "#### Question: Is there any overfitting problem?\n",
    "Solutions:\n",
    "* Check for X_test, y_test in accuracy score\n",
    "* Use “stratify=y” in train_test_split\n",
    "* Use cross-validation\n",
    "* ANN: early stopping/dropout \n",
    "* SVM: simple Kernel\n",
    "* Use 6 strong features to test models --- refer to file \"Mushroom Classification_Obvious Features.ipynb\"\n",
    "* Dataset (mushroom) special characteristic\n",
    "* Use 6 weak features  to compare the classification model accuracy --- refer to file \"Mushroom Classification_6 Ambiguous Features.ipynb\"\n"
   ]
  },
  {
   "cell_type": "markdown",
   "metadata": {},
   "source": [
    "### Summary\n",
    "\n",
    "#### 1. Classifier Selection\n",
    "* Dataset characteristic\n",
    "* Parameters-tuning\n",
    "* Accuracy comparison\n",
    "\n",
    "#### 2. Mushroom Edibility Indicator\n",
    "* Odor\n",
    "* Gill-color\n",
    "* Gill-size\n",
    "* Spore-print-color\n",
    "* Ring-type\n",
    "* Population\n",
    "* Stalk-color-above/below-ring\n"
   ]
  }
 ],
 "metadata": {
  "kernelspec": {
   "display_name": "Python 3",
   "language": "python",
   "name": "python3"
  },
  "language_info": {
   "codemirror_mode": {
    "name": "ipython",
    "version": 3
   },
   "file_extension": ".py",
   "mimetype": "text/x-python",
   "name": "python",
   "nbconvert_exporter": "python",
   "pygments_lexer": "ipython3",
   "version": "3.8.5"
  }
 },
 "nbformat": 4,
 "nbformat_minor": 2
}
